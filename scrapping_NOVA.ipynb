{
  "nbformat": 4,
  "nbformat_minor": 0,
  "metadata": {
    "colab": {
      "provenance": [],
      "mount_file_id": "1c0cdPqHug_po_LKsbkt5JFGBsliSBBMZ",
      "authorship_tag": "ABX9TyNPHGJc79nv+GujOJqM8gvE",
      "include_colab_link": true
    },
    "kernelspec": {
      "name": "python3",
      "display_name": "Python 3"
    },
    "language_info": {
      "name": "python"
    }
  },
  "cells": [
    {
      "cell_type": "markdown",
      "metadata": {
        "id": "view-in-github",
        "colab_type": "text"
      },
      "source": [
        "<a href=\"https://colab.research.google.com/github/Danddt/Russian_Opinion_Polls/blob/main/scrapping_NOVA.ipynb\" target=\"_parent\"><img src=\"https://colab.research.google.com/assets/colab-badge.svg\" alt=\"Open In Colab\"/></a>"
      ]
    },
    {
      "cell_type": "code",
      "source": [
        "!pip install googletrans==3.1.0a0"
      ],
      "metadata": {
        "colab": {
          "base_uri": "https://localhost:8080/",
          "height": 1000
        },
        "id": "xFkJgMu5QALW",
        "outputId": "93c362e1-0ead-4d51-cf04-92352eed28da"
      },
      "execution_count": null,
      "outputs": [
        {
          "output_type": "stream",
          "name": "stdout",
          "text": [
            "Looking in indexes: https://pypi.org/simple, https://us-python.pkg.dev/colab-wheels/public/simple/\n",
            "Collecting googletrans==3.1.0a0\n",
            "  Downloading googletrans-3.1.0a0.tar.gz (19 kB)\n",
            "  Preparing metadata (setup.py) ... \u001b[?25l\u001b[?25hdone\n",
            "Collecting httpx==0.13.3\n",
            "  Downloading httpx-0.13.3-py3-none-any.whl (55 kB)\n",
            "\u001b[2K     \u001b[90m━━━━━━━━━━━━━━━━━━━━━━━━━━━━━━━━━━━━━━━━\u001b[0m \u001b[32m55.1/55.1 KB\u001b[0m \u001b[31m7.6 MB/s\u001b[0m eta \u001b[36m0:00:00\u001b[0m\n",
            "\u001b[?25hCollecting chardet==3.*\n",
            "  Downloading chardet-3.0.4-py2.py3-none-any.whl (133 kB)\n",
            "\u001b[2K     \u001b[90m━━━━━━━━━━━━━━━━━━━━━━━━━━━━━━━━━━━━━━\u001b[0m \u001b[32m133.4/133.4 KB\u001b[0m \u001b[31m16.2 MB/s\u001b[0m eta \u001b[36m0:00:00\u001b[0m\n",
            "\u001b[?25hCollecting sniffio\n",
            "  Downloading sniffio-1.3.0-py3-none-any.whl (10 kB)\n",
            "Collecting httpcore==0.9.*\n",
            "  Downloading httpcore-0.9.1-py3-none-any.whl (42 kB)\n",
            "\u001b[2K     \u001b[90m━━━━━━━━━━━━━━━━━━━━━━━━━━━━━━━━━━━━━━━━\u001b[0m \u001b[32m42.6/42.6 KB\u001b[0m \u001b[31m4.4 MB/s\u001b[0m eta \u001b[36m0:00:00\u001b[0m\n",
            "\u001b[?25hRequirement already satisfied: certifi in /usr/local/lib/python3.9/dist-packages (from httpx==0.13.3->googletrans==3.1.0a0) (2022.12.7)\n",
            "Collecting rfc3986<2,>=1.3\n",
            "  Downloading rfc3986-1.5.0-py2.py3-none-any.whl (31 kB)\n",
            "Collecting idna==2.*\n",
            "  Downloading idna-2.10-py2.py3-none-any.whl (58 kB)\n",
            "\u001b[2K     \u001b[90m━━━━━━━━━━━━━━━━━━━━━━━━━━━━━━━━━━━━━━━━\u001b[0m \u001b[32m58.8/58.8 KB\u001b[0m \u001b[31m8.0 MB/s\u001b[0m eta \u001b[36m0:00:00\u001b[0m\n",
            "\u001b[?25hCollecting hstspreload\n",
            "  Downloading hstspreload-2023.1.1-py3-none-any.whl (1.5 MB)\n",
            "\u001b[2K     \u001b[90m━━━━━━━━━━━━━━━━━━━━━━━━━━━━━━━━━━━━━━━━\u001b[0m \u001b[32m1.5/1.5 MB\u001b[0m \u001b[31m69.0 MB/s\u001b[0m eta \u001b[36m0:00:00\u001b[0m\n",
            "\u001b[?25hCollecting h2==3.*\n",
            "  Downloading h2-3.2.0-py2.py3-none-any.whl (65 kB)\n",
            "\u001b[2K     \u001b[90m━━━━━━━━━━━━━━━━━━━━━━━━━━━━━━━━━━━━━━━━\u001b[0m \u001b[32m65.0/65.0 KB\u001b[0m \u001b[31m8.0 MB/s\u001b[0m eta \u001b[36m0:00:00\u001b[0m\n",
            "\u001b[?25hCollecting h11<0.10,>=0.8\n",
            "  Downloading h11-0.9.0-py2.py3-none-any.whl (53 kB)\n",
            "\u001b[2K     \u001b[90m━━━━━━━━━━━━━━━━━━━━━━━━━━━━━━━━━━━━━━━━\u001b[0m \u001b[32m53.6/53.6 KB\u001b[0m \u001b[31m7.8 MB/s\u001b[0m eta \u001b[36m0:00:00\u001b[0m\n",
            "\u001b[?25hCollecting hyperframe<6,>=5.2.0\n",
            "  Downloading hyperframe-5.2.0-py2.py3-none-any.whl (12 kB)\n",
            "Collecting hpack<4,>=3.0\n",
            "  Downloading hpack-3.0.0-py2.py3-none-any.whl (38 kB)\n",
            "Building wheels for collected packages: googletrans\n",
            "  Building wheel for googletrans (setup.py) ... \u001b[?25l\u001b[?25hdone\n",
            "  Created wheel for googletrans: filename=googletrans-3.1.0a0-py3-none-any.whl size=16368 sha256=1e277e04ad187b1b5eee0813a09a25faef553f4a06c65e91803ea9a838165d48\n",
            "  Stored in directory: /root/.cache/pip/wheels/ae/e1/6c/5137bc3f35aa130deea71575e165cc4f4f0680a88f3d90a636\n",
            "Successfully built googletrans\n",
            "Installing collected packages: rfc3986, hyperframe, hpack, h11, chardet, sniffio, idna, hstspreload, h2, httpcore, httpx, googletrans\n",
            "  Attempting uninstall: chardet\n",
            "    Found existing installation: chardet 4.0.0\n",
            "    Uninstalling chardet-4.0.0:\n",
            "      Successfully uninstalled chardet-4.0.0\n",
            "  Attempting uninstall: idna\n",
            "    Found existing installation: idna 3.4\n",
            "    Uninstalling idna-3.4:\n",
            "      Successfully uninstalled idna-3.4\n",
            "Successfully installed chardet-3.0.4 googletrans-3.1.0a0 h11-0.9.0 h2-3.2.0 hpack-3.0.0 hstspreload-2023.1.1 httpcore-0.9.1 httpx-0.13.3 hyperframe-5.2.0 idna-2.10 rfc3986-1.5.0 sniffio-1.3.0\n"
          ]
        },
        {
          "output_type": "display_data",
          "data": {
            "application/vnd.colab-display-data+json": {
              "pip_warning": {
                "packages": [
                  "chardet",
                  "idna"
                ]
              }
            }
          },
          "metadata": {}
        }
      ]
    },
    {
      "cell_type": "code",
      "source": [
        "import pandas as pd\n",
        "import numpy as np"
      ],
      "metadata": {
        "id": "CZhdxxA1B3d0"
      },
      "execution_count": null,
      "outputs": []
    },
    {
      "cell_type": "code",
      "source": [
        "import requests\n",
        "import pandas as pd\n",
        "from bs4 import BeautifulSoup"
      ],
      "metadata": {
        "id": "EPdrDckjB_rC"
      },
      "execution_count": null,
      "outputs": []
    },
    {
      "cell_type": "code",
      "source": [
        "urls = ['https://nova.bg/search/news?q=%D0%BF%D1%83%D1%82%D0%B8%D0%BD', 'https://nova.bg/search/news/2/?q=%D0%BF%D1%83%D1%82%D0%B8%D0%BD','https://nova.bg/search/news/3/?q=%D0%BF%D1%83%D1%82%D0%B8%D0%BD']"
      ],
      "metadata": {
        "id": "EP5fzx8ImXgL"
      },
      "execution_count": null,
      "outputs": []
    },
    {
      "cell_type": "code",
      "source": [
        "def get_info(url):\n",
        "  response= requests.get(url).content\n",
        "  soup = BeautifulSoup(response, \"html.parser\")\n",
        "  return soup"
      ],
      "metadata": {
        "id": "qOeIjKG4wXLs"
      },
      "execution_count": null,
      "outputs": []
    },
    {
      "cell_type": "code",
      "source": [
        "list_articles = []\n",
        "\n",
        "def list_art(soup):\n",
        "  listo = soup.find_all('div',class_='media-cont')\n",
        "  for title in listo:\n",
        "    temp = (title.find('a').attrs['href'])\n",
        "    list_articles.append(temp)\n",
        "  return list_articles"
      ],
      "metadata": {
        "id": "AzzkUdx8maRn"
      },
      "execution_count": null,
      "outputs": []
    },
    {
      "cell_type": "code",
      "source": [
        "# Getting list of articles\n",
        "\n",
        "all_art_link= []\n",
        "\n",
        "for art in urls:\n",
        "  temp = get_info(art)\n",
        "  listo_temp = list_art(temp)\n",
        "  all_art_link.append(listo_temp)\n",
        "\n"
      ],
      "metadata": {
        "id": "coAPzI4UoFHy"
      },
      "execution_count": null,
      "outputs": []
    },
    {
      "cell_type": "code",
      "source": [
        "flat_art_link = [element for innerList in all_art_link for element in innerList]"
      ],
      "metadata": {
        "id": "MCfmHctfqXTW"
      },
      "execution_count": null,
      "outputs": []
    },
    {
      "cell_type": "code",
      "source": [
        "# Extracting each article data\n",
        "\n",
        "import re\n",
        "\n",
        "regex = re.compile(r'<[^>]+>')\n",
        "\n",
        "\n",
        "def get_data_name(soup1):\n",
        "  name = soup1.h1.get_text()\n",
        "  return name\n",
        "\n",
        "def get_data_art(soup1):\n",
        "  texts =str(soup1.find(id=\"description-wrapper\"))\n",
        "  text = regex.sub('', texts)\n",
        "  text= text.replace('\\xa0', ' ')\n",
        "  text= text.replace('\\n', ' ')\n",
        "  return text\n",
        "\n",
        "def get_data_date(soup1):\n",
        "  datum = soup1.find('meta', itemprop='datePublished', content=True)['content'][:10]\n",
        "  return datum\n"
      ],
      "metadata": {
        "id": "NWQGvef4yc6A"
      },
      "execution_count": null,
      "outputs": []
    },
    {
      "cell_type": "code",
      "source": [
        "bodies_list  = []\n",
        "date = []\n",
        "article_name = []\n",
        "\n",
        "for item in flat_art_link:\n",
        "  link_soup = get_info(item)\n",
        "  name=get_data_name(link_soup)\n",
        "  article_name.append(name)\n",
        "  content =get_data_art(link_soup)\n",
        "  bodies_list .append(content)\n",
        "  date_time = get_data_date(link_soup)\n",
        "  date.append(date_time)\n",
        "\n"
      ],
      "metadata": {
        "id": "4RElHU5TmRR5"
      },
      "execution_count": null,
      "outputs": []
    },
    {
      "cell_type": "code",
      "source": [
        "zipped = list(zip(date, article_name, bodies_list, flat_art_link))\n",
        "\n",
        "df_art = pd.DataFrame(zipped, columns=['Date', 'Title', 'Content', 'link'])\n"
      ],
      "metadata": {
        "id": "yCz_Xu7Psx7R"
      },
      "execution_count": null,
      "outputs": []
    },
    {
      "cell_type": "code",
      "source": [
        "df_art.to_csv('/content/drive/MyDrive/news/df_list_aarticles.csv', index=False)"
      ],
      "metadata": {
        "id": "3U7Uz7OdtY2f"
      },
      "execution_count": null,
      "outputs": []
    },
    {
      "cell_type": "code",
      "source": [
        "import pandas as pd\n",
        "import numpy as np\n",
        "\n",
        "df_bg =pd.read_csv('/content/drive/MyDrive/news/df_list_aarticles.csv')"
      ],
      "metadata": {
        "id": "VgFhmBq1zw-N"
      },
      "execution_count": null,
      "outputs": []
    },
    {
      "cell_type": "code",
      "source": [
        "df_bg"
      ],
      "metadata": {
        "colab": {
          "base_uri": "https://localhost:8080/",
          "height": 424
        },
        "id": "50Q99xFXu4ME",
        "outputId": "ac22eb2a-b18e-4177-8334-381b17846639"
      },
      "execution_count": null,
      "outputs": [
        {
          "output_type": "execute_result",
          "data": {
            "text/plain": [
              "           Date                                              Title  \\\n",
              "0    2023-04-03  Задържаха 26-годишна за убийството на руски во...   \n",
              "1    2023-04-03  ВОТЪТ В ЧУЖБИНА: Как гласуваха българите зад г...   \n",
              "2    2023-04-01  Руският военен министър Сергей Шойгу обеща да ...   \n",
              "3    2023-04-01  Ескалация на дипломатическото напрежение между...   \n",
              "4    2023-04-01  ЕКСКЛУЗИВНО: Кайлаш Сатяртхи – нобеловият лаур...   \n",
              "..          ...                                                ...   \n",
              "166  2023-03-21  Японският премиер пристигна на изненадваща виз...   \n",
              "167  2023-04-03  При 99.58% обработени протоколи: 6-партиен пар...   \n",
              "168  2023-04-03          ПО ОБЛАСТИ: Как се разпредели вотът у нас   \n",
              "169  2023-04-03  ОКОНЧАТЕЛНИ РЕЗУЛТАТИ: ГЕРБ-СДС печели вота с ...   \n",
              "170  2023-04-03  ВОТЪТ В ЧУЖБИНА: Как гласуваха българите зад г...   \n",
              "\n",
              "                                               Content  \\\n",
              "0     Руската полиция задържа жена за убийството на...   \n",
              "1     Вече са обработени 98.91% от протоколите от в...   \n",
              "2     Русият военен министър Сергей Шойгу обеща да ...   \n",
              "3     Дипломатическото напрежение между Москва и За...   \n",
              "4     Кайлаш Сатяртхи е индийски реформатор, посвет...   \n",
              "..                                                 ...   \n",
              "166   Японският премиер Фумио Кишида пристигна на и...   \n",
              "167   Последните данни на ЦИК сочат, че при обработ...   \n",
              "168   ЦИК публикува разбивката на резултите от пред...   \n",
              "169   Шест партии влизат в 49-ото Народно събрание,...   \n",
              "170   Вече са обработени 98.91% от протоколите от в...   \n",
              "\n",
              "                                                  link  \n",
              "0    https://nova.bg/news/view/2023/04/03/407128/%D...  \n",
              "1    https://nova.bg/news/view/2023/04/03/407109/%D...  \n",
              "2    https://nova.bg/news/view/2023/04/01/406878/%D...  \n",
              "3    https://nova.bg/news/view/2023/04/01/406869/%D...  \n",
              "4    https://nova.bg/news/view/2023/04/01/406838/%D...  \n",
              "..                                                 ...  \n",
              "166  https://nova.bg/news/view/2023/03/21/405446/%D...  \n",
              "167  https://nova.bg/news/view/2023/04/03/407101/%D...  \n",
              "168  https://nova.bg/news/view/2023/04/03/407112/%D...  \n",
              "169  https://nova.bg/news/view/2023/04/03/407135/%D...  \n",
              "170  https://nova.bg/news/view/2023/04/03/407109/%D...  \n",
              "\n",
              "[171 rows x 4 columns]"
            ],
            "text/html": [
              "\n",
              "  <div id=\"df-9b1a3610-9641-4ac5-a29c-cfc790e62edb\">\n",
              "    <div class=\"colab-df-container\">\n",
              "      <div>\n",
              "<style scoped>\n",
              "    .dataframe tbody tr th:only-of-type {\n",
              "        vertical-align: middle;\n",
              "    }\n",
              "\n",
              "    .dataframe tbody tr th {\n",
              "        vertical-align: top;\n",
              "    }\n",
              "\n",
              "    .dataframe thead th {\n",
              "        text-align: right;\n",
              "    }\n",
              "</style>\n",
              "<table border=\"1\" class=\"dataframe\">\n",
              "  <thead>\n",
              "    <tr style=\"text-align: right;\">\n",
              "      <th></th>\n",
              "      <th>Date</th>\n",
              "      <th>Title</th>\n",
              "      <th>Content</th>\n",
              "      <th>link</th>\n",
              "    </tr>\n",
              "  </thead>\n",
              "  <tbody>\n",
              "    <tr>\n",
              "      <th>0</th>\n",
              "      <td>2023-04-03</td>\n",
              "      <td>Задържаха 26-годишна за убийството на руски во...</td>\n",
              "      <td>Руската полиция задържа жена за убийството на...</td>\n",
              "      <td>https://nova.bg/news/view/2023/04/03/407128/%D...</td>\n",
              "    </tr>\n",
              "    <tr>\n",
              "      <th>1</th>\n",
              "      <td>2023-04-03</td>\n",
              "      <td>ВОТЪТ В ЧУЖБИНА: Как гласуваха българите зад г...</td>\n",
              "      <td>Вече са обработени 98.91% от протоколите от в...</td>\n",
              "      <td>https://nova.bg/news/view/2023/04/03/407109/%D...</td>\n",
              "    </tr>\n",
              "    <tr>\n",
              "      <th>2</th>\n",
              "      <td>2023-04-01</td>\n",
              "      <td>Руският военен министър Сергей Шойгу обеща да ...</td>\n",
              "      <td>Русият военен министър Сергей Шойгу обеща да ...</td>\n",
              "      <td>https://nova.bg/news/view/2023/04/01/406878/%D...</td>\n",
              "    </tr>\n",
              "    <tr>\n",
              "      <th>3</th>\n",
              "      <td>2023-04-01</td>\n",
              "      <td>Ескалация на дипломатическото напрежение между...</td>\n",
              "      <td>Дипломатическото напрежение между Москва и За...</td>\n",
              "      <td>https://nova.bg/news/view/2023/04/01/406869/%D...</td>\n",
              "    </tr>\n",
              "    <tr>\n",
              "      <th>4</th>\n",
              "      <td>2023-04-01</td>\n",
              "      <td>ЕКСКЛУЗИВНО: Кайлаш Сатяртхи – нобеловият лаур...</td>\n",
              "      <td>Кайлаш Сатяртхи е индийски реформатор, посвет...</td>\n",
              "      <td>https://nova.bg/news/view/2023/04/01/406838/%D...</td>\n",
              "    </tr>\n",
              "    <tr>\n",
              "      <th>...</th>\n",
              "      <td>...</td>\n",
              "      <td>...</td>\n",
              "      <td>...</td>\n",
              "      <td>...</td>\n",
              "    </tr>\n",
              "    <tr>\n",
              "      <th>166</th>\n",
              "      <td>2023-03-21</td>\n",
              "      <td>Японският премиер пристигна на изненадваща виз...</td>\n",
              "      <td>Японският премиер Фумио Кишида пристигна на и...</td>\n",
              "      <td>https://nova.bg/news/view/2023/03/21/405446/%D...</td>\n",
              "    </tr>\n",
              "    <tr>\n",
              "      <th>167</th>\n",
              "      <td>2023-04-03</td>\n",
              "      <td>При 99.58% обработени протоколи: 6-партиен пар...</td>\n",
              "      <td>Последните данни на ЦИК сочат, че при обработ...</td>\n",
              "      <td>https://nova.bg/news/view/2023/04/03/407101/%D...</td>\n",
              "    </tr>\n",
              "    <tr>\n",
              "      <th>168</th>\n",
              "      <td>2023-04-03</td>\n",
              "      <td>ПО ОБЛАСТИ: Как се разпредели вотът у нас</td>\n",
              "      <td>ЦИК публикува разбивката на резултите от пред...</td>\n",
              "      <td>https://nova.bg/news/view/2023/04/03/407112/%D...</td>\n",
              "    </tr>\n",
              "    <tr>\n",
              "      <th>169</th>\n",
              "      <td>2023-04-03</td>\n",
              "      <td>ОКОНЧАТЕЛНИ РЕЗУЛТАТИ: ГЕРБ-СДС печели вота с ...</td>\n",
              "      <td>Шест партии влизат в 49-ото Народно събрание,...</td>\n",
              "      <td>https://nova.bg/news/view/2023/04/03/407135/%D...</td>\n",
              "    </tr>\n",
              "    <tr>\n",
              "      <th>170</th>\n",
              "      <td>2023-04-03</td>\n",
              "      <td>ВОТЪТ В ЧУЖБИНА: Как гласуваха българите зад г...</td>\n",
              "      <td>Вече са обработени 98.91% от протоколите от в...</td>\n",
              "      <td>https://nova.bg/news/view/2023/04/03/407109/%D...</td>\n",
              "    </tr>\n",
              "  </tbody>\n",
              "</table>\n",
              "<p>171 rows × 4 columns</p>\n",
              "</div>\n",
              "      <button class=\"colab-df-convert\" onclick=\"convertToInteractive('df-9b1a3610-9641-4ac5-a29c-cfc790e62edb')\"\n",
              "              title=\"Convert this dataframe to an interactive table.\"\n",
              "              style=\"display:none;\">\n",
              "        \n",
              "  <svg xmlns=\"http://www.w3.org/2000/svg\" height=\"24px\"viewBox=\"0 0 24 24\"\n",
              "       width=\"24px\">\n",
              "    <path d=\"M0 0h24v24H0V0z\" fill=\"none\"/>\n",
              "    <path d=\"M18.56 5.44l.94 2.06.94-2.06 2.06-.94-2.06-.94-.94-2.06-.94 2.06-2.06.94zm-11 1L8.5 8.5l.94-2.06 2.06-.94-2.06-.94L8.5 2.5l-.94 2.06-2.06.94zm10 10l.94 2.06.94-2.06 2.06-.94-2.06-.94-.94-2.06-.94 2.06-2.06.94z\"/><path d=\"M17.41 7.96l-1.37-1.37c-.4-.4-.92-.59-1.43-.59-.52 0-1.04.2-1.43.59L10.3 9.45l-7.72 7.72c-.78.78-.78 2.05 0 2.83L4 21.41c.39.39.9.59 1.41.59.51 0 1.02-.2 1.41-.59l7.78-7.78 2.81-2.81c.8-.78.8-2.07 0-2.86zM5.41 20L4 18.59l7.72-7.72 1.47 1.35L5.41 20z\"/>\n",
              "  </svg>\n",
              "      </button>\n",
              "      \n",
              "  <style>\n",
              "    .colab-df-container {\n",
              "      display:flex;\n",
              "      flex-wrap:wrap;\n",
              "      gap: 12px;\n",
              "    }\n",
              "\n",
              "    .colab-df-convert {\n",
              "      background-color: #E8F0FE;\n",
              "      border: none;\n",
              "      border-radius: 50%;\n",
              "      cursor: pointer;\n",
              "      display: none;\n",
              "      fill: #1967D2;\n",
              "      height: 32px;\n",
              "      padding: 0 0 0 0;\n",
              "      width: 32px;\n",
              "    }\n",
              "\n",
              "    .colab-df-convert:hover {\n",
              "      background-color: #E2EBFA;\n",
              "      box-shadow: 0px 1px 2px rgba(60, 64, 67, 0.3), 0px 1px 3px 1px rgba(60, 64, 67, 0.15);\n",
              "      fill: #174EA6;\n",
              "    }\n",
              "\n",
              "    [theme=dark] .colab-df-convert {\n",
              "      background-color: #3B4455;\n",
              "      fill: #D2E3FC;\n",
              "    }\n",
              "\n",
              "    [theme=dark] .colab-df-convert:hover {\n",
              "      background-color: #434B5C;\n",
              "      box-shadow: 0px 1px 3px 1px rgba(0, 0, 0, 0.15);\n",
              "      filter: drop-shadow(0px 1px 2px rgba(0, 0, 0, 0.3));\n",
              "      fill: #FFFFFF;\n",
              "    }\n",
              "  </style>\n",
              "\n",
              "      <script>\n",
              "        const buttonEl =\n",
              "          document.querySelector('#df-9b1a3610-9641-4ac5-a29c-cfc790e62edb button.colab-df-convert');\n",
              "        buttonEl.style.display =\n",
              "          google.colab.kernel.accessAllowed ? 'block' : 'none';\n",
              "\n",
              "        async function convertToInteractive(key) {\n",
              "          const element = document.querySelector('#df-9b1a3610-9641-4ac5-a29c-cfc790e62edb');\n",
              "          const dataTable =\n",
              "            await google.colab.kernel.invokeFunction('convertToInteractive',\n",
              "                                                     [key], {});\n",
              "          if (!dataTable) return;\n",
              "\n",
              "          const docLinkHtml = 'Like what you see? Visit the ' +\n",
              "            '<a target=\"_blank\" href=https://colab.research.google.com/notebooks/data_table.ipynb>data table notebook</a>'\n",
              "            + ' to learn more about interactive tables.';\n",
              "          element.innerHTML = '';\n",
              "          dataTable['output_type'] = 'display_data';\n",
              "          await google.colab.output.renderOutput(dataTable, element);\n",
              "          const docLink = document.createElement('div');\n",
              "          docLink.innerHTML = docLinkHtml;\n",
              "          element.appendChild(docLink);\n",
              "        }\n",
              "      </script>\n",
              "    </div>\n",
              "  </div>\n",
              "  "
            ]
          },
          "metadata": {},
          "execution_count": 2
        }
      ]
    },
    {
      "cell_type": "code",
      "source": [
        "from googletrans import Translator\n",
        "translator = Translator()"
      ],
      "metadata": {
        "id": "eyFEBCRWzkdV"
      },
      "execution_count": null,
      "outputs": []
    },
    {
      "cell_type": "code",
      "source": [
        "df_bg.info()"
      ],
      "metadata": {
        "colab": {
          "base_uri": "https://localhost:8080/"
        },
        "id": "LNzyjG280tZi",
        "outputId": "c182f2f0-27ac-42df-cfed-436166f7a6b0"
      },
      "execution_count": null,
      "outputs": [
        {
          "output_type": "stream",
          "name": "stdout",
          "text": [
            "<class 'pandas.core.frame.DataFrame'>\n",
            "RangeIndex: 171 entries, 0 to 170\n",
            "Data columns (total 4 columns):\n",
            " #   Column   Non-Null Count  Dtype \n",
            "---  ------   --------------  ----- \n",
            " 0   Date     171 non-null    object\n",
            " 1   Title    171 non-null    object\n",
            " 2   Content  171 non-null    object\n",
            " 3   link     171 non-null    object\n",
            "dtypes: object(4)\n",
            "memory usage: 5.5+ KB\n"
          ]
        }
      ]
    },
    {
      "cell_type": "code",
      "source": [
        "df_bg['Title_en']=(df_bg['Title']).map(lambda x: translator.translate(x, src=\"bg\", dest=\"en\").text)\n",
        "df_bg['Content_en']=(df_bg['Content']).map(lambda x: translator.translate(x, src=\"bg\", dest=\"en\").text)"
      ],
      "metadata": {
        "id": "TwJcxC91zn7a"
      },
      "execution_count": null,
      "outputs": []
    },
    {
      "cell_type": "code",
      "source": [
        "df_bg.to_csv('/content/drive/MyDrive/news/df_art_translated_junkin.csv', index=False)"
      ],
      "metadata": {
        "id": "P-T04_c31klc"
      },
      "execution_count": null,
      "outputs": []
    },
    {
      "cell_type": "code",
      "source": [
        "df_bg_first_clean = df_bg.drop_duplicates()"
      ],
      "metadata": {
        "id": "-4u6FRtd2wHg"
      },
      "execution_count": null,
      "outputs": []
    },
    {
      "cell_type": "code",
      "source": [
        "df_bg_first_clean.to_csv('/content/drive/MyDrive/news/df_art_translated_junkin_first_clean.csv', index=False)"
      ],
      "metadata": {
        "id": "qS2Of9AMCbHy"
      },
      "execution_count": null,
      "outputs": []
    },
    {
      "cell_type": "markdown",
      "source": [
        "Manual translate due to character limimits"
      ],
      "metadata": {
        "id": "Qg21qIl8ihfm"
      }
    },
    {
      "cell_type": "code",
      "source": [
        "with open('/content/drive/MyDrive/news/radev.txt', 'r') as file:\n",
        "    radev = file.read().replace('\\n', '')"
      ],
      "metadata": {
        "id": "h8RWbpElHZEH"
      },
      "execution_count": null,
      "outputs": []
    },
    {
      "cell_type": "code",
      "source": [
        "with open('/content/drive/MyDrive/news/Russia_has_nuclear_weapons_in_Belarus.txt', 'r') as file:\n",
        "    belarus = file.read().replace('\\n', '')"
      ],
      "metadata": {
        "id": "YQqC8uB7RFLU"
      },
      "execution_count": null,
      "outputs": []
    },
    {
      "cell_type": "code",
      "source": [
        "with open('/content/drive/MyDrive/news/Petro_Poroshenko.txt', 'r') as file:\n",
        "    poroshenko = file.read().replace('\\n', '')"
      ],
      "metadata": {
        "id": "7NRFJZZwRPBx"
      },
      "execution_count": null,
      "outputs": []
    },
    {
      "cell_type": "code",
      "source": [
        "df_manual_celan = pd.read_csv('/content/drive/MyDrive/news/df_art_translated_manual_clean.csv')"
      ],
      "metadata": {
        "id": "78OxS3BdRVNf"
      },
      "execution_count": null,
      "outputs": []
    },
    {
      "cell_type": "code",
      "source": [
        "df_manual_celan"
      ],
      "metadata": {
        "id": "jbjXY-M9RdZO"
      },
      "execution_count": null,
      "outputs": []
    },
    {
      "cell_type": "code",
      "source": [
        "new_row_belarus = df_manual_celan.loc[21].to_list()[:-1]\n",
        "new_row_belarus.append(belarus)\n",
        "belaru_df = pd.DataFrame(new_row_belarus).T"
      ],
      "metadata": {
        "id": "zzjf-Jo2TQo-"
      },
      "execution_count": null,
      "outputs": []
    },
    {
      "cell_type": "code",
      "source": [
        "new_row_poroshenko = df_manual_celan.loc[5].to_list()[:-1]\n",
        "new_row_poroshenko.append(poroshenko)\n",
        "poroshenko_df = pd.DataFrame(new_row_poroshenko).T"
      ],
      "metadata": {
        "id": "7jhj-gzTT-lj"
      },
      "execution_count": null,
      "outputs": []
    },
    {
      "cell_type": "code",
      "source": [
        "new_row_radev = df_manual_celan.loc[27].to_list()[:-1]\n",
        "new_row_radev.append(radev)\n",
        "radev_df = pd.DataFrame(new_row_radev).T"
      ],
      "metadata": {
        "id": "ptZoTT5oTz9V"
      },
      "execution_count": null,
      "outputs": []
    },
    {
      "cell_type": "code",
      "source": [
        "to_be= [belaru_df,poroshenko_df, radev_df]"
      ],
      "metadata": {
        "id": "jlF5EYRtdurO"
      },
      "execution_count": null,
      "outputs": []
    },
    {
      "cell_type": "code",
      "source": [
        "to_be_df = pd.concat(to_be)\n",
        "to_be_df.columns = df_manual_celan.columns.to_list()"
      ],
      "metadata": {
        "id": "yQKwADEfdotM"
      },
      "execution_count": null,
      "outputs": []
    },
    {
      "cell_type": "code",
      "source": [
        "bg_clen_2 =df_manual_celan.drop([5, 21, 27])"
      ],
      "metadata": {
        "id": "Ko7maRkiaZkW"
      },
      "execution_count": null,
      "outputs": []
    },
    {
      "cell_type": "code",
      "source": [
        "bg_final_clean =pd.concat([bg_clen_2, to_be_df]).reset_index()"
      ],
      "metadata": {
        "id": "j25MuTLPbF8R"
      },
      "execution_count": null,
      "outputs": []
    },
    {
      "cell_type": "code",
      "source": [
        "bg_final_clean.to_csv('/content/drive/MyDrive/news/bg_articles_clean_final.csv', index=False)"
      ],
      "metadata": {
        "id": "V-StzyTne6CA"
      },
      "execution_count": null,
      "outputs": []
    },
    {
      "cell_type": "code",
      "source": [
        "# !pip install translate"
      ],
      "metadata": {
        "id": "S8wOSo7AM8da"
      },
      "execution_count": null,
      "outputs": []
    },
    {
      "cell_type": "code",
      "source": [],
      "metadata": {
        "id": "0Clpeub7gbVk"
      },
      "execution_count": null,
      "outputs": []
    }
  ]
}