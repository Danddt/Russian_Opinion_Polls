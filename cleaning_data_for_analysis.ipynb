{
  "nbformat": 4,
  "nbformat_minor": 0,
  "metadata": {
    "colab": {
      "provenance": [],
      "collapsed_sections": [],
      "mount_file_id": "1_HtjX4uC0qOKUNOcfIbfy3hiuhQ_VyQp",
      "authorship_tag": "ABX9TyPcgnv1FBRAC9X2xzwCKp8g",
      "include_colab_link": true
    },
    "kernelspec": {
      "name": "python3",
      "display_name": "Python 3"
    },
    "language_info": {
      "name": "python"
    }
  },
  "cells": [
    {
      "cell_type": "markdown",
      "metadata": {
        "id": "view-in-github",
        "colab_type": "text"
      },
      "source": [
        "<a href=\"https://colab.research.google.com/github/Danddt/Russian_Opinion_Polls/blob/main/cleaning_data_for_analysis.ipynb\" target=\"_parent\"><img src=\"https://colab.research.google.com/assets/colab-badge.svg\" alt=\"Open In Colab\"/></a>"
      ]
    },
    {
      "cell_type": "code",
      "execution_count": null,
      "metadata": {
        "id": "KonhS-QtJCOB"
      },
      "outputs": [],
      "source": [
        "import pandas as pd\n",
        "import numpy as np"
      ]
    },
    {
      "cell_type": "markdown",
      "source": [
        "UNEMPLOYMENT EXPECTATION INDEX:\n",
        "\"The index is calculated as the difference between the share of those who answered “there will be less unemployed in the next 12 months” and “there will be more unemployed in the next 12 months”. As the index rises, the fear of unemployment decreases.\"(https://www.levada.ru/indikatory/sotsialno-ekonomicheskie-indikatory/)"
      ],
      "metadata": {
        "id": "vF2yqP-fKiQ-"
      }
    },
    {
      "cell_type": "markdown",
      "source": [
        "# Cleaning Levada files"
      ],
      "metadata": {
        "id": "QgX8wLXD4Vxj"
      }
    },
    {
      "cell_type": "code",
      "source": [
        "import requests\n",
        "import pandas as pd\n",
        "from bs4 import BeautifulSoup"
      ],
      "metadata": {
        "id": "oO5uq5UGh4OF"
      },
      "execution_count": null,
      "outputs": []
    },
    {
      "cell_type": "code",
      "source": [
        "url = 'https://www.levada.ru/en/ratings/'\n",
        "response= requests.get(url).content\n",
        "df_list = pd.read_html(response)\n"
      ],
      "metadata": {
        "id": "l6K5jp9V4ukC"
      },
      "execution_count": null,
      "outputs": []
    },
    {
      "cell_type": "code",
      "source": [
        "soup_levada = BeautifulSoup(response, \"html.parser\")\n"
      ],
      "metadata": {
        "id": "xuziJ1lR6Q7U"
      },
      "execution_count": null,
      "outputs": []
    },
    {
      "cell_type": "code",
      "source": [
        "#WORK FROM HERE : add empty row to desc\n",
        "import re\n",
        "\n",
        "names = soup_levada.find_all('h4')\n",
        "\n",
        "data_only = df_list[1::2]\n",
        "descript = df_list[0::2]\n",
        "\n",
        "d={}\n",
        "names = []\n",
        "for header in soup_levada.find_all('h4'):\n",
        "  test = header.get_text()\n",
        "  names.append(test)\n",
        "\n",
        "for item in range(len(names)):\n",
        "    temp = descript[item]\n",
        "\n",
        "    temp0 =  pd.DataFrame([['date'] * len(temp .columns)], columns=temp.columns)\n",
        "    temp1 = temp0.append(temp, ignore_index=True)\n",
        "    col_name = temp1[0].to_list()\n",
        "    data = data_only[item].T\n",
        "    data[0] = data[0].apply(lambda x: \"{:.4f}\".format(x))\n",
        "    #data[0] = (data[0].astype(str).str.ljust(6, fillchar='0')) # add '0' at the end of first item in list after split to\n",
        "    data[0]=(data[0].str.split('.')).apply(lambda x: list(reversed(x))) #reverse to get Year Month (currently Month Year)\n",
        "    data[0]=data[0].apply('-'.join)\n",
        " \n",
        "\n",
        "    data.columns = col_name\n",
        "    d[names[item]] = data\n"
      ],
      "metadata": {
        "id": "2NL9rF2g68iJ"
      },
      "execution_count": null,
      "outputs": []
    },
    {
      "cell_type": "code",
      "source": [
        "import pathlib\n",
        "from datetime import date\n",
        "\n",
        "date = str(date.today())\n",
        "\n",
        "\n",
        "new_dir = pathlib.Path('/content/drive/MyDrive/RUSSdata/Levada/', date)\n",
        "new_dir.mkdir(parents=True, exist_ok=True)\n"
      ],
      "metadata": {
        "id": "MUnkGMUt6jbS"
      },
      "execution_count": null,
      "outputs": []
    },
    {
      "cell_type": "code",
      "source": [
        "#CREATE FOLDER FOR LEVADA\n",
        "\n",
        "for data in d:\n",
        "  d[data].to_csv(str(new_dir)+ '/Levada_' + data+'.csv', index=False)\n"
      ],
      "metadata": {
        "id": "dz1YuHFe41ab"
      },
      "execution_count": null,
      "outputs": []
    },
    {
      "cell_type": "code",
      "source": [
        "# Test read df\n",
        "test = pd.read_csv('/content/drive/MyDrive/RUSSdata/Levada/2022-09-21/Levada_Putin’s approval rating.csv')\n",
        "test.tail()"
      ],
      "metadata": {
        "colab": {
          "base_uri": "https://localhost:8080/",
          "height": 206
        },
        "id": "nJa2eN5sPtU_",
        "outputId": "c76c49bc-4153-416b-f055-963d32e0c7b1"
      },
      "execution_count": null,
      "outputs": [
        {
          "output_type": "execute_result",
          "data": {
            "text/plain": [
              "       date  Approve  Disapprove  No answer\n",
              "270  2022-4     82.0        17.0        1.0\n",
              "271  2022-5     83.0        15.0        2.0\n",
              "272  2022-6     83.0        16.0        1.0\n",
              "273  2022-7     83.0        15.0        2.0\n",
              "274  2022-8     83.0        15.0        2.0"
            ],
            "text/html": [
              "\n",
              "  <div id=\"df-950f6bc1-f6c0-44e0-8519-354df23fc162\">\n",
              "    <div class=\"colab-df-container\">\n",
              "      <div>\n",
              "<style scoped>\n",
              "    .dataframe tbody tr th:only-of-type {\n",
              "        vertical-align: middle;\n",
              "    }\n",
              "\n",
              "    .dataframe tbody tr th {\n",
              "        vertical-align: top;\n",
              "    }\n",
              "\n",
              "    .dataframe thead th {\n",
              "        text-align: right;\n",
              "    }\n",
              "</style>\n",
              "<table border=\"1\" class=\"dataframe\">\n",
              "  <thead>\n",
              "    <tr style=\"text-align: right;\">\n",
              "      <th></th>\n",
              "      <th>date</th>\n",
              "      <th>Approve</th>\n",
              "      <th>Disapprove</th>\n",
              "      <th>No answer</th>\n",
              "    </tr>\n",
              "  </thead>\n",
              "  <tbody>\n",
              "    <tr>\n",
              "      <th>270</th>\n",
              "      <td>2022-4</td>\n",
              "      <td>82.0</td>\n",
              "      <td>17.0</td>\n",
              "      <td>1.0</td>\n",
              "    </tr>\n",
              "    <tr>\n",
              "      <th>271</th>\n",
              "      <td>2022-5</td>\n",
              "      <td>83.0</td>\n",
              "      <td>15.0</td>\n",
              "      <td>2.0</td>\n",
              "    </tr>\n",
              "    <tr>\n",
              "      <th>272</th>\n",
              "      <td>2022-6</td>\n",
              "      <td>83.0</td>\n",
              "      <td>16.0</td>\n",
              "      <td>1.0</td>\n",
              "    </tr>\n",
              "    <tr>\n",
              "      <th>273</th>\n",
              "      <td>2022-7</td>\n",
              "      <td>83.0</td>\n",
              "      <td>15.0</td>\n",
              "      <td>2.0</td>\n",
              "    </tr>\n",
              "    <tr>\n",
              "      <th>274</th>\n",
              "      <td>2022-8</td>\n",
              "      <td>83.0</td>\n",
              "      <td>15.0</td>\n",
              "      <td>2.0</td>\n",
              "    </tr>\n",
              "  </tbody>\n",
              "</table>\n",
              "</div>\n",
              "      <button class=\"colab-df-convert\" onclick=\"convertToInteractive('df-950f6bc1-f6c0-44e0-8519-354df23fc162')\"\n",
              "              title=\"Convert this dataframe to an interactive table.\"\n",
              "              style=\"display:none;\">\n",
              "        \n",
              "  <svg xmlns=\"http://www.w3.org/2000/svg\" height=\"24px\"viewBox=\"0 0 24 24\"\n",
              "       width=\"24px\">\n",
              "    <path d=\"M0 0h24v24H0V0z\" fill=\"none\"/>\n",
              "    <path d=\"M18.56 5.44l.94 2.06.94-2.06 2.06-.94-2.06-.94-.94-2.06-.94 2.06-2.06.94zm-11 1L8.5 8.5l.94-2.06 2.06-.94-2.06-.94L8.5 2.5l-.94 2.06-2.06.94zm10 10l.94 2.06.94-2.06 2.06-.94-2.06-.94-.94-2.06-.94 2.06-2.06.94z\"/><path d=\"M17.41 7.96l-1.37-1.37c-.4-.4-.92-.59-1.43-.59-.52 0-1.04.2-1.43.59L10.3 9.45l-7.72 7.72c-.78.78-.78 2.05 0 2.83L4 21.41c.39.39.9.59 1.41.59.51 0 1.02-.2 1.41-.59l7.78-7.78 2.81-2.81c.8-.78.8-2.07 0-2.86zM5.41 20L4 18.59l7.72-7.72 1.47 1.35L5.41 20z\"/>\n",
              "  </svg>\n",
              "      </button>\n",
              "      \n",
              "  <style>\n",
              "    .colab-df-container {\n",
              "      display:flex;\n",
              "      flex-wrap:wrap;\n",
              "      gap: 12px;\n",
              "    }\n",
              "\n",
              "    .colab-df-convert {\n",
              "      background-color: #E8F0FE;\n",
              "      border: none;\n",
              "      border-radius: 50%;\n",
              "      cursor: pointer;\n",
              "      display: none;\n",
              "      fill: #1967D2;\n",
              "      height: 32px;\n",
              "      padding: 0 0 0 0;\n",
              "      width: 32px;\n",
              "    }\n",
              "\n",
              "    .colab-df-convert:hover {\n",
              "      background-color: #E2EBFA;\n",
              "      box-shadow: 0px 1px 2px rgba(60, 64, 67, 0.3), 0px 1px 3px 1px rgba(60, 64, 67, 0.15);\n",
              "      fill: #174EA6;\n",
              "    }\n",
              "\n",
              "    [theme=dark] .colab-df-convert {\n",
              "      background-color: #3B4455;\n",
              "      fill: #D2E3FC;\n",
              "    }\n",
              "\n",
              "    [theme=dark] .colab-df-convert:hover {\n",
              "      background-color: #434B5C;\n",
              "      box-shadow: 0px 1px 3px 1px rgba(0, 0, 0, 0.15);\n",
              "      filter: drop-shadow(0px 1px 2px rgba(0, 0, 0, 0.3));\n",
              "      fill: #FFFFFF;\n",
              "    }\n",
              "  </style>\n",
              "\n",
              "      <script>\n",
              "        const buttonEl =\n",
              "          document.querySelector('#df-950f6bc1-f6c0-44e0-8519-354df23fc162 button.colab-df-convert');\n",
              "        buttonEl.style.display =\n",
              "          google.colab.kernel.accessAllowed ? 'block' : 'none';\n",
              "\n",
              "        async function convertToInteractive(key) {\n",
              "          const element = document.querySelector('#df-950f6bc1-f6c0-44e0-8519-354df23fc162');\n",
              "          const dataTable =\n",
              "            await google.colab.kernel.invokeFunction('convertToInteractive',\n",
              "                                                     [key], {});\n",
              "          if (!dataTable) return;\n",
              "\n",
              "          const docLinkHtml = 'Like what you see? Visit the ' +\n",
              "            '<a target=\"_blank\" href=https://colab.research.google.com/notebooks/data_table.ipynb>data table notebook</a>'\n",
              "            + ' to learn more about interactive tables.';\n",
              "          element.innerHTML = '';\n",
              "          dataTable['output_type'] = 'display_data';\n",
              "          await google.colab.output.renderOutput(dataTable, element);\n",
              "          const docLink = document.createElement('div');\n",
              "          docLink.innerHTML = docLinkHtml;\n",
              "          element.appendChild(docLink);\n",
              "        }\n",
              "      </script>\n",
              "    </div>\n",
              "  </div>\n",
              "  "
            ]
          },
          "metadata": {},
          "execution_count": 9
        }
      ]
    },
    {
      "cell_type": "markdown",
      "source": [
        "#Cleaning conflict"
      ],
      "metadata": {
        "id": "2WL3ycTVgs1K"
      }
    },
    {
      "cell_type": "code",
      "source": [
        "import requests\n",
        "import pandas as pd\n",
        "from bs4 import BeautifulSoup"
      ],
      "metadata": {
        "id": "I3gcLJdzPzqY"
      },
      "execution_count": null,
      "outputs": []
    },
    {
      "cell_type": "code",
      "source": [
        "\n",
        "link = \"https://en.wikipedia.org/wiki/List_of_wars_involving_Russia\"\n",
        "tables = pd.read_html(link)\n",
        "data= tables[14].iloc[1:]"
      ],
      "metadata": {
        "id": "HDc0vShagsMp"
      },
      "execution_count": null,
      "outputs": []
    },
    {
      "cell_type": "code",
      "source": [
        "data[['start', 'end']]=data['Date'].str.split(pat='–',n=-1, expand=True)\n",
        "data_reorder = data[['start', 'end', 'Conflict', 'Location', 'Russia (and its allies)','Opponent(s)', 'Result', ]]\n",
        "data_reorder.head()"
      ],
      "metadata": {
        "colab": {
          "base_uri": "https://localhost:8080/",
          "height": 444
        },
        "id": "sDHj5RDVAHyl",
        "outputId": "e992afc7-633f-4be6-ee74-62568ffb9fe9"
      },
      "execution_count": null,
      "outputs": [
        {
          "output_type": "stream",
          "name": "stderr",
          "text": [
            "/usr/local/lib/python3.7/dist-packages/pandas/core/frame.py:3641: SettingWithCopyWarning: \n",
            "A value is trying to be set on a copy of a slice from a DataFrame.\n",
            "Try using .loc[row_indexer,col_indexer] = value instead\n",
            "\n",
            "See the caveats in the documentation: https://pandas.pydata.org/pandas-docs/stable/user_guide/indexing.html#returning-a-view-versus-a-copy\n",
            "  self[k1] = value[k2]\n"
          ]
        },
        {
          "output_type": "execute_result",
          "data": {
            "text/plain": [
              "  start   end                                           Conflict  \\\n",
              "1  1991  1992                                 South Ossetian War   \n",
              "2  1992  1993                                    War in Abkhazia   \n",
              "3  1992  None  Transnistria War  PMR trucks on the bridge bet...   \n",
              "4  1992  None                           East Prigorodny Conflict   \n",
              "5  1992  1997  Tajikistani Civil War  Spetsnaz troops dismoun...   \n",
              "\n",
              "               Location                            Russia (and its allies)  \\\n",
              "1         South Ossetia                                            Georgia   \n",
              "2              Abkhazia  Abkhazia  Russia Gudauta military base  Kuban ...   \n",
              "3          Transnistria  Transnistria Russia* 14th Guards Army (element...   \n",
              "4  North Ossetia-Alania                    Russia North Ossetia-Alania[18]   \n",
              "5            Tajikistan  / Tajikistan/ Russia Uzbekistan/ Kazakhstan/ K...   \n",
              "\n",
              "                                         Opponent(s)  \\\n",
              "1                               South Ossetia Russia   \n",
              "2                                   Georgia UNA-UNSO   \n",
              "3  Moldova Romanian volunteers and military advis...   \n",
              "4                                     Ingush militia   \n",
              "5  United Tajik Opposition  Islamic Renaissance P...   \n",
              "\n",
              "                                              Result  \n",
              "1  Victory South Ossetia gained de facto independ...  \n",
              "2      Victory Abkhazia gained de facto independence  \n",
              "3  Victory Transnistria gained de facto independence  \n",
              "4  Victory Expulsion of ethnic Ingush from Prigor...  \n",
              "5         Victory United Nations-sponsored armistice  "
            ],
            "text/html": [
              "\n",
              "  <div id=\"df-d25517cf-8a7b-457e-b750-798204ceca67\">\n",
              "    <div class=\"colab-df-container\">\n",
              "      <div>\n",
              "<style scoped>\n",
              "    .dataframe tbody tr th:only-of-type {\n",
              "        vertical-align: middle;\n",
              "    }\n",
              "\n",
              "    .dataframe tbody tr th {\n",
              "        vertical-align: top;\n",
              "    }\n",
              "\n",
              "    .dataframe thead th {\n",
              "        text-align: right;\n",
              "    }\n",
              "</style>\n",
              "<table border=\"1\" class=\"dataframe\">\n",
              "  <thead>\n",
              "    <tr style=\"text-align: right;\">\n",
              "      <th></th>\n",
              "      <th>start</th>\n",
              "      <th>end</th>\n",
              "      <th>Conflict</th>\n",
              "      <th>Location</th>\n",
              "      <th>Russia (and its allies)</th>\n",
              "      <th>Opponent(s)</th>\n",
              "      <th>Result</th>\n",
              "    </tr>\n",
              "  </thead>\n",
              "  <tbody>\n",
              "    <tr>\n",
              "      <th>1</th>\n",
              "      <td>1991</td>\n",
              "      <td>1992</td>\n",
              "      <td>South Ossetian War</td>\n",
              "      <td>South Ossetia</td>\n",
              "      <td>Georgia</td>\n",
              "      <td>South Ossetia Russia</td>\n",
              "      <td>Victory South Ossetia gained de facto independ...</td>\n",
              "    </tr>\n",
              "    <tr>\n",
              "      <th>2</th>\n",
              "      <td>1992</td>\n",
              "      <td>1993</td>\n",
              "      <td>War in Abkhazia</td>\n",
              "      <td>Abkhazia</td>\n",
              "      <td>Abkhazia  Russia Gudauta military base  Kuban ...</td>\n",
              "      <td>Georgia UNA-UNSO</td>\n",
              "      <td>Victory Abkhazia gained de facto independence</td>\n",
              "    </tr>\n",
              "    <tr>\n",
              "      <th>3</th>\n",
              "      <td>1992</td>\n",
              "      <td>None</td>\n",
              "      <td>Transnistria War  PMR trucks on the bridge bet...</td>\n",
              "      <td>Transnistria</td>\n",
              "      <td>Transnistria Russia* 14th Guards Army (element...</td>\n",
              "      <td>Moldova Romanian volunteers and military advis...</td>\n",
              "      <td>Victory Transnistria gained de facto independence</td>\n",
              "    </tr>\n",
              "    <tr>\n",
              "      <th>4</th>\n",
              "      <td>1992</td>\n",
              "      <td>None</td>\n",
              "      <td>East Prigorodny Conflict</td>\n",
              "      <td>North Ossetia-Alania</td>\n",
              "      <td>Russia North Ossetia-Alania[18]</td>\n",
              "      <td>Ingush militia</td>\n",
              "      <td>Victory Expulsion of ethnic Ingush from Prigor...</td>\n",
              "    </tr>\n",
              "    <tr>\n",
              "      <th>5</th>\n",
              "      <td>1992</td>\n",
              "      <td>1997</td>\n",
              "      <td>Tajikistani Civil War  Spetsnaz troops dismoun...</td>\n",
              "      <td>Tajikistan</td>\n",
              "      <td>/ Tajikistan/ Russia Uzbekistan/ Kazakhstan/ K...</td>\n",
              "      <td>United Tajik Opposition  Islamic Renaissance P...</td>\n",
              "      <td>Victory United Nations-sponsored armistice</td>\n",
              "    </tr>\n",
              "  </tbody>\n",
              "</table>\n",
              "</div>\n",
              "      <button class=\"colab-df-convert\" onclick=\"convertToInteractive('df-d25517cf-8a7b-457e-b750-798204ceca67')\"\n",
              "              title=\"Convert this dataframe to an interactive table.\"\n",
              "              style=\"display:none;\">\n",
              "        \n",
              "  <svg xmlns=\"http://www.w3.org/2000/svg\" height=\"24px\"viewBox=\"0 0 24 24\"\n",
              "       width=\"24px\">\n",
              "    <path d=\"M0 0h24v24H0V0z\" fill=\"none\"/>\n",
              "    <path d=\"M18.56 5.44l.94 2.06.94-2.06 2.06-.94-2.06-.94-.94-2.06-.94 2.06-2.06.94zm-11 1L8.5 8.5l.94-2.06 2.06-.94-2.06-.94L8.5 2.5l-.94 2.06-2.06.94zm10 10l.94 2.06.94-2.06 2.06-.94-2.06-.94-.94-2.06-.94 2.06-2.06.94z\"/><path d=\"M17.41 7.96l-1.37-1.37c-.4-.4-.92-.59-1.43-.59-.52 0-1.04.2-1.43.59L10.3 9.45l-7.72 7.72c-.78.78-.78 2.05 0 2.83L4 21.41c.39.39.9.59 1.41.59.51 0 1.02-.2 1.41-.59l7.78-7.78 2.81-2.81c.8-.78.8-2.07 0-2.86zM5.41 20L4 18.59l7.72-7.72 1.47 1.35L5.41 20z\"/>\n",
              "  </svg>\n",
              "      </button>\n",
              "      \n",
              "  <style>\n",
              "    .colab-df-container {\n",
              "      display:flex;\n",
              "      flex-wrap:wrap;\n",
              "      gap: 12px;\n",
              "    }\n",
              "\n",
              "    .colab-df-convert {\n",
              "      background-color: #E8F0FE;\n",
              "      border: none;\n",
              "      border-radius: 50%;\n",
              "      cursor: pointer;\n",
              "      display: none;\n",
              "      fill: #1967D2;\n",
              "      height: 32px;\n",
              "      padding: 0 0 0 0;\n",
              "      width: 32px;\n",
              "    }\n",
              "\n",
              "    .colab-df-convert:hover {\n",
              "      background-color: #E2EBFA;\n",
              "      box-shadow: 0px 1px 2px rgba(60, 64, 67, 0.3), 0px 1px 3px 1px rgba(60, 64, 67, 0.15);\n",
              "      fill: #174EA6;\n",
              "    }\n",
              "\n",
              "    [theme=dark] .colab-df-convert {\n",
              "      background-color: #3B4455;\n",
              "      fill: #D2E3FC;\n",
              "    }\n",
              "\n",
              "    [theme=dark] .colab-df-convert:hover {\n",
              "      background-color: #434B5C;\n",
              "      box-shadow: 0px 1px 3px 1px rgba(0, 0, 0, 0.15);\n",
              "      filter: drop-shadow(0px 1px 2px rgba(0, 0, 0, 0.3));\n",
              "      fill: #FFFFFF;\n",
              "    }\n",
              "  </style>\n",
              "\n",
              "      <script>\n",
              "        const buttonEl =\n",
              "          document.querySelector('#df-d25517cf-8a7b-457e-b750-798204ceca67 button.colab-df-convert');\n",
              "        buttonEl.style.display =\n",
              "          google.colab.kernel.accessAllowed ? 'block' : 'none';\n",
              "\n",
              "        async function convertToInteractive(key) {\n",
              "          const element = document.querySelector('#df-d25517cf-8a7b-457e-b750-798204ceca67');\n",
              "          const dataTable =\n",
              "            await google.colab.kernel.invokeFunction('convertToInteractive',\n",
              "                                                     [key], {});\n",
              "          if (!dataTable) return;\n",
              "\n",
              "          const docLinkHtml = 'Like what you see? Visit the ' +\n",
              "            '<a target=\"_blank\" href=https://colab.research.google.com/notebooks/data_table.ipynb>data table notebook</a>'\n",
              "            + ' to learn more about interactive tables.';\n",
              "          element.innerHTML = '';\n",
              "          dataTable['output_type'] = 'display_data';\n",
              "          await google.colab.output.renderOutput(dataTable, element);\n",
              "          const docLink = document.createElement('div');\n",
              "          docLink.innerHTML = docLinkHtml;\n",
              "          element.appendChild(docLink);\n",
              "        }\n",
              "      </script>\n",
              "    </div>\n",
              "  </div>\n",
              "  "
            ]
          },
          "metadata": {},
          "execution_count": 12
        }
      ]
    },
    {
      "cell_type": "markdown",
      "source": [
        "Select conflicts started or ended after 2004\n",
        "\n",
        "Additonal data: \n",
        "\n",
        "https://en.wikipedia.org/wiki/Second_Chechen_War start : August 1999 / end: April (2009)\n",
        "\n",
        "https://en.wikipedia.org/wiki/Russo-Georgian_War start:August 2008 / end: August (2008) - N.B.> end of active fighting, the war is frozen\n",
        "\n",
        "https://en.wikipedia.org/wiki/Insurgency_in_the_North_Caucasus start: April 2009 /end: December (2017)\n",
        "\n",
        "https://en.wikipedia.org/wiki/Russo-Ukrainian_War start: February 2014 / ongoing\n",
        "\n",
        "https://en.wikipedia.org/wiki/Russian_military_intervention_in_the_Syrian_civil_war start: September 2015 / ongoing\n",
        "\n",
        "https://en.wikipedia.org/wiki/Central_African_Republic_Civil_War start(of Russian Intervention): August\n",
        "\n",
        "https://en.wikipedia.org/wiki/2022_Russian_invasion_of_Ukraine start: February 2022\n",
        "\n"
      ],
      "metadata": {
        "id": "3g3i6z1aA3s9"
      }
    },
    {
      "cell_type": "code",
      "source": [
        "conflict_inc=data_reorder[['start', 'end', 'Location']]\n",
        "short_conf = conflict_inc.iloc[7:, :]\n",
        "\n",
        "#split \"special operation\" 1 and 2\n",
        "ukraine_data= {'start': 2022, 'end': 'ongoing','Location': 'Ukraine'}\n",
        "short_conf = short_conf.append(ukraine_data, ignore_index=True)"
      ],
      "metadata": {
        "id": "f1ExYmzWQ_Qs"
      },
      "execution_count": null,
      "outputs": []
    },
    {
      "cell_type": "code",
      "source": [
        "month_start = [8,8,4,2,9,8,2]\n",
        "month_end = [4,8,12,'ongoing','ongoing','ongoing', 'ongoing']"
      ],
      "metadata": {
        "id": "6XCC7WJCS30s"
      },
      "execution_count": null,
      "outputs": []
    },
    {
      "cell_type": "code",
      "source": [
        "short_conf['month_start'] = month_start\n",
        "short_conf['month_end']=month_end"
      ],
      "metadata": {
        "id": "5hSQy2U-TFRL"
      },
      "execution_count": null,
      "outputs": []
    },
    {
      "cell_type": "code",
      "source": [
        "short_conf"
      ],
      "metadata": {
        "colab": {
          "base_uri": "https://localhost:8080/",
          "height": 269
        },
        "id": "Uoi7JUojTNw8",
        "outputId": "3e759bd9-c9e7-437e-b03f-29123b9c9710"
      },
      "execution_count": null,
      "outputs": [
        {
          "output_type": "execute_result",
          "data": {
            "text/plain": [
              "  start      end                             Location  month_start month_end\n",
              "0  1999     2009                             Chechnya            8         4\n",
              "1  2008     None  Georgia, South Ossetia and Abkhazia            8         8\n",
              "2  2009     2017                       North Caucasus            4        12\n",
              "3  2014  present               Ukraine (incl. Crimea)            2   ongoing\n",
              "4  2015  present                                Syria            9   ongoing\n",
              "5  2018  present             Central African Republic            8   ongoing\n",
              "6  2022  ongoing                              Ukraine            2   ongoing"
            ],
            "text/html": [
              "\n",
              "  <div id=\"df-aa68326b-4041-42ac-a120-8aa2f9abe532\">\n",
              "    <div class=\"colab-df-container\">\n",
              "      <div>\n",
              "<style scoped>\n",
              "    .dataframe tbody tr th:only-of-type {\n",
              "        vertical-align: middle;\n",
              "    }\n",
              "\n",
              "    .dataframe tbody tr th {\n",
              "        vertical-align: top;\n",
              "    }\n",
              "\n",
              "    .dataframe thead th {\n",
              "        text-align: right;\n",
              "    }\n",
              "</style>\n",
              "<table border=\"1\" class=\"dataframe\">\n",
              "  <thead>\n",
              "    <tr style=\"text-align: right;\">\n",
              "      <th></th>\n",
              "      <th>start</th>\n",
              "      <th>end</th>\n",
              "      <th>Location</th>\n",
              "      <th>month_start</th>\n",
              "      <th>month_end</th>\n",
              "    </tr>\n",
              "  </thead>\n",
              "  <tbody>\n",
              "    <tr>\n",
              "      <th>0</th>\n",
              "      <td>1999</td>\n",
              "      <td>2009</td>\n",
              "      <td>Chechnya</td>\n",
              "      <td>8</td>\n",
              "      <td>4</td>\n",
              "    </tr>\n",
              "    <tr>\n",
              "      <th>1</th>\n",
              "      <td>2008</td>\n",
              "      <td>None</td>\n",
              "      <td>Georgia, South Ossetia and Abkhazia</td>\n",
              "      <td>8</td>\n",
              "      <td>8</td>\n",
              "    </tr>\n",
              "    <tr>\n",
              "      <th>2</th>\n",
              "      <td>2009</td>\n",
              "      <td>2017</td>\n",
              "      <td>North Caucasus</td>\n",
              "      <td>4</td>\n",
              "      <td>12</td>\n",
              "    </tr>\n",
              "    <tr>\n",
              "      <th>3</th>\n",
              "      <td>2014</td>\n",
              "      <td>present</td>\n",
              "      <td>Ukraine (incl. Crimea)</td>\n",
              "      <td>2</td>\n",
              "      <td>ongoing</td>\n",
              "    </tr>\n",
              "    <tr>\n",
              "      <th>4</th>\n",
              "      <td>2015</td>\n",
              "      <td>present</td>\n",
              "      <td>Syria</td>\n",
              "      <td>9</td>\n",
              "      <td>ongoing</td>\n",
              "    </tr>\n",
              "    <tr>\n",
              "      <th>5</th>\n",
              "      <td>2018</td>\n",
              "      <td>present</td>\n",
              "      <td>Central African Republic</td>\n",
              "      <td>8</td>\n",
              "      <td>ongoing</td>\n",
              "    </tr>\n",
              "    <tr>\n",
              "      <th>6</th>\n",
              "      <td>2022</td>\n",
              "      <td>ongoing</td>\n",
              "      <td>Ukraine</td>\n",
              "      <td>2</td>\n",
              "      <td>ongoing</td>\n",
              "    </tr>\n",
              "  </tbody>\n",
              "</table>\n",
              "</div>\n",
              "      <button class=\"colab-df-convert\" onclick=\"convertToInteractive('df-aa68326b-4041-42ac-a120-8aa2f9abe532')\"\n",
              "              title=\"Convert this dataframe to an interactive table.\"\n",
              "              style=\"display:none;\">\n",
              "        \n",
              "  <svg xmlns=\"http://www.w3.org/2000/svg\" height=\"24px\"viewBox=\"0 0 24 24\"\n",
              "       width=\"24px\">\n",
              "    <path d=\"M0 0h24v24H0V0z\" fill=\"none\"/>\n",
              "    <path d=\"M18.56 5.44l.94 2.06.94-2.06 2.06-.94-2.06-.94-.94-2.06-.94 2.06-2.06.94zm-11 1L8.5 8.5l.94-2.06 2.06-.94-2.06-.94L8.5 2.5l-.94 2.06-2.06.94zm10 10l.94 2.06.94-2.06 2.06-.94-2.06-.94-.94-2.06-.94 2.06-2.06.94z\"/><path d=\"M17.41 7.96l-1.37-1.37c-.4-.4-.92-.59-1.43-.59-.52 0-1.04.2-1.43.59L10.3 9.45l-7.72 7.72c-.78.78-.78 2.05 0 2.83L4 21.41c.39.39.9.59 1.41.59.51 0 1.02-.2 1.41-.59l7.78-7.78 2.81-2.81c.8-.78.8-2.07 0-2.86zM5.41 20L4 18.59l7.72-7.72 1.47 1.35L5.41 20z\"/>\n",
              "  </svg>\n",
              "      </button>\n",
              "      \n",
              "  <style>\n",
              "    .colab-df-container {\n",
              "      display:flex;\n",
              "      flex-wrap:wrap;\n",
              "      gap: 12px;\n",
              "    }\n",
              "\n",
              "    .colab-df-convert {\n",
              "      background-color: #E8F0FE;\n",
              "      border: none;\n",
              "      border-radius: 50%;\n",
              "      cursor: pointer;\n",
              "      display: none;\n",
              "      fill: #1967D2;\n",
              "      height: 32px;\n",
              "      padding: 0 0 0 0;\n",
              "      width: 32px;\n",
              "    }\n",
              "\n",
              "    .colab-df-convert:hover {\n",
              "      background-color: #E2EBFA;\n",
              "      box-shadow: 0px 1px 2px rgba(60, 64, 67, 0.3), 0px 1px 3px 1px rgba(60, 64, 67, 0.15);\n",
              "      fill: #174EA6;\n",
              "    }\n",
              "\n",
              "    [theme=dark] .colab-df-convert {\n",
              "      background-color: #3B4455;\n",
              "      fill: #D2E3FC;\n",
              "    }\n",
              "\n",
              "    [theme=dark] .colab-df-convert:hover {\n",
              "      background-color: #434B5C;\n",
              "      box-shadow: 0px 1px 3px 1px rgba(0, 0, 0, 0.15);\n",
              "      filter: drop-shadow(0px 1px 2px rgba(0, 0, 0, 0.3));\n",
              "      fill: #FFFFFF;\n",
              "    }\n",
              "  </style>\n",
              "\n",
              "      <script>\n",
              "        const buttonEl =\n",
              "          document.querySelector('#df-aa68326b-4041-42ac-a120-8aa2f9abe532 button.colab-df-convert');\n",
              "        buttonEl.style.display =\n",
              "          google.colab.kernel.accessAllowed ? 'block' : 'none';\n",
              "\n",
              "        async function convertToInteractive(key) {\n",
              "          const element = document.querySelector('#df-aa68326b-4041-42ac-a120-8aa2f9abe532');\n",
              "          const dataTable =\n",
              "            await google.colab.kernel.invokeFunction('convertToInteractive',\n",
              "                                                     [key], {});\n",
              "          if (!dataTable) return;\n",
              "\n",
              "          const docLinkHtml = 'Like what you see? Visit the ' +\n",
              "            '<a target=\"_blank\" href=https://colab.research.google.com/notebooks/data_table.ipynb>data table notebook</a>'\n",
              "            + ' to learn more about interactive tables.';\n",
              "          element.innerHTML = '';\n",
              "          dataTable['output_type'] = 'display_data';\n",
              "          await google.colab.output.renderOutput(dataTable, element);\n",
              "          const docLink = document.createElement('div');\n",
              "          docLink.innerHTML = docLinkHtml;\n",
              "          element.appendChild(docLink);\n",
              "        }\n",
              "      </script>\n",
              "    </div>\n",
              "  </div>\n",
              "  "
            ]
          },
          "metadata": {},
          "execution_count": 16
        }
      ]
    },
    {
      "cell_type": "code",
      "source": [
        "datetime= short_conf['start'].astype(str)+'-'+short_conf['month_start'].astype(str)"
      ],
      "metadata": {
        "id": "Zi_5BpnUP45U"
      },
      "execution_count": null,
      "outputs": []
    },
    {
      "cell_type": "code",
      "source": [
        "short_conf.insert(loc=0, column='datetime', value=datetime)"
      ],
      "metadata": {
        "id": "2d1BQmJmRBDZ"
      },
      "execution_count": null,
      "outputs": []
    },
    {
      "cell_type": "code",
      "source": [
        "# setting arbitrary value for start of a war to 100\n",
        "short_conf['arb_val_war']= 100"
      ],
      "metadata": {
        "id": "y6la2UGvRaWU"
      },
      "execution_count": null,
      "outputs": []
    },
    {
      "cell_type": "code",
      "source": [
        "import pathlib\n",
        "from datetime import date\n",
        "\n",
        "date = str(date.today())\n",
        "\n",
        "\n",
        "new_dir = pathlib.Path('/content/drive/MyDrive/RUSSdata/wiki/', date)\n",
        "new_dir.mkdir(parents=True, exist_ok=True)"
      ],
      "metadata": {
        "id": "qiMaDbOIvRut"
      },
      "execution_count": null,
      "outputs": []
    },
    {
      "cell_type": "code",
      "source": [
        "short_conf.to_csv('/content/drive/MyDrive/RUSSdata/wiki/'+date+'/conflicts_russian_federation.csv', index=False) #use this when running whole notebook\n",
        "data_reorder.to_csv('/content/drive/MyDrive/RUSSdata/wiki/'+date+'/conflicts_russian_federation_long.csv', index=False) \n"
      ],
      "metadata": {
        "id": "y4xdPvbUDebP"
      },
      "execution_count": null,
      "outputs": []
    },
    {
      "cell_type": "markdown",
      "source": [
        "# Cleaning Terror incidents"
      ],
      "metadata": {
        "id": "SzYbmHqCCvuD"
      }
    },
    {
      "cell_type": "code",
      "source": [
        "import requests\n",
        "from bs4 import BeautifulSoup\n",
        "\n",
        "url = 'https://en.wikipedia.org/wiki/Terrorism_in_Russia'\n",
        "\n",
        "page = requests.get(url)\n",
        "soup = BeautifulSoup(page.content, 'html.parser')"
      ],
      "metadata": {
        "id": "5AyP1t1BCtDK"
      },
      "execution_count": null,
      "outputs": []
    },
    {
      "cell_type": "code",
      "source": [
        "import calendar\n",
        "months = (list(calendar.month_name))\n",
        "months.pop(0)\n",
        "month_pattern =('|'.join(months))"
      ],
      "metadata": {
        "id": "QOiJVMiBEGTe"
      },
      "execution_count": null,
      "outputs": []
    },
    {
      "cell_type": "code",
      "source": [
        "import re\n",
        "temp=[]\n",
        "\n",
        "for header in soup.find_all(['h4']):\n",
        "  test = header.get_text()\n",
        "  test= str(test)\n",
        "  test = test[:-6]\n",
        "  \n",
        "\n",
        "  for elem in header.next_siblings:\n",
        "    if elem.name and elem.name.startswith('h'):\n",
        "        break\n",
        "    if elem.name == 'p':\n",
        "      ev = elem.get_text()\n",
        "      ev= ev.strip()\n",
        "      ev = re.sub(r'\\[.*?\\]', \"\",ev )\n",
        "      ev=str(ev)\n",
        "      for month in months:\n",
        "        if month in ev:\n",
        "          mo = month\n",
        "      \n",
        "      data = test, mo, ev\n",
        "      temp.append(data)"
      ],
      "metadata": {
        "id": "XxiqQsIsEJbx"
      },
      "execution_count": null,
      "outputs": []
    },
    {
      "cell_type": "code",
      "source": [
        "import pandas as pd\n",
        "\n",
        "df = pd.DataFrame.from_records(temp, columns=['year','month',  'event'])\n",
        "df1 = df[df['event'].str.contains(month_pattern)]\n"
      ],
      "metadata": {
        "id": "wBMg-R2OU63j"
      },
      "execution_count": null,
      "outputs": []
    },
    {
      "cell_type": "code",
      "source": [
        "#Retrieve city names\n",
        "import pandas as pd\n",
        "\n",
        "link = \"https://en.wikipedia.org/wiki/List_of_cities_and_towns_in_Russia_by_population\"\n",
        "tables = pd.read_html(link)\n",
        "data = tables[0]"
      ],
      "metadata": {
        "id": "SzQPRQr0b7dW"
      },
      "execution_count": null,
      "outputs": []
    },
    {
      "cell_type": "code",
      "source": [
        "cities= data['City / Town']"
      ],
      "metadata": {
        "id": "Pblppc67aHMI"
      },
      "execution_count": null,
      "outputs": []
    },
    {
      "cell_type": "code",
      "source": [
        "city_list = cities['City / Town'].to_list()\n",
        "city_list.append('Beslan')\n",
        "city_list.append('St Petersburg')\n",
        "city_list.remove('Vladimir')\n",
        "city_list.append('Achkhoy-Martonovsky')"
      ],
      "metadata": {
        "id": "Gj8N8I_IEOJW"
      },
      "execution_count": null,
      "outputs": []
    },
    {
      "cell_type": "code",
      "source": [
        "df1['city_name_mapped'] = (df1.event.str.findall('|'.join(city_list)).str[:2]) #.apply(', '.join)"
      ],
      "metadata": {
        "id": "SS4UrIJbEs0v",
        "colab": {
          "base_uri": "https://localhost:8080/"
        },
        "outputId": "ba45cdb9-8f88-4f24-c098-014346815ee5"
      },
      "execution_count": null,
      "outputs": [
        {
          "output_type": "stream",
          "name": "stderr",
          "text": [
            "/usr/local/lib/python3.7/dist-packages/ipykernel_launcher.py:1: SettingWithCopyWarning: \n",
            "A value is trying to be set on a copy of a slice from a DataFrame.\n",
            "Try using .loc[row_indexer,col_indexer] = value instead\n",
            "\n",
            "See the caveats in the documentation: https://pandas.pydata.org/pandas-docs/stable/user_guide/indexing.html#returning-a-view-versus-a-copy\n",
            "  \"\"\"Entry point for launching an IPython kernel.\n"
          ]
        }
      ]
    },
    {
      "cell_type": "code",
      "source": [
        "df1['city_name_mapped'].str[0]==df1['city_name_mapped'].str[1]\n",
        "\n",
        "for item in df1['city_name_mapped']:\n",
        "  if len(item)>1:\n",
        "    if item[0] in item[1]:\n",
        "      item.pop()\n",
        "      "
      ],
      "metadata": {
        "id": "l7QkOOfNiT-v"
      },
      "execution_count": null,
      "outputs": []
    },
    {
      "cell_type": "code",
      "source": [
        "df1['city_name_mapped'] = (df1.city_name_mapped.apply(', '.join))\n"
      ],
      "metadata": {
        "id": "4y0VoccugVBV",
        "colab": {
          "base_uri": "https://localhost:8080/"
        },
        "outputId": "4b6f1064-ffc4-4afc-821b-3aae4a767c4c"
      },
      "execution_count": null,
      "outputs": [
        {
          "output_type": "stream",
          "name": "stderr",
          "text": [
            "/usr/local/lib/python3.7/dist-packages/ipykernel_launcher.py:1: SettingWithCopyWarning: \n",
            "A value is trying to be set on a copy of a slice from a DataFrame.\n",
            "Try using .loc[row_indexer,col_indexer] = value instead\n",
            "\n",
            "See the caveats in the documentation: https://pandas.pydata.org/pandas-docs/stable/user_guide/indexing.html#returning-a-view-versus-a-copy\n",
            "  \"\"\"Entry point for launching an IPython kernel.\n"
          ]
        }
      ]
    },
    {
      "cell_type": "code",
      "source": [
        "import numpy as np\n",
        "df1['city_name_mapped'].replace('', np.nan, inplace=True)\n",
        "df1.dropna(inplace=True)"
      ],
      "metadata": {
        "id": "MLi8LI4AEwzN",
        "colab": {
          "base_uri": "https://localhost:8080/"
        },
        "outputId": "d58768e2-daf6-440f-8df2-42aac7c62976"
      },
      "execution_count": null,
      "outputs": [
        {
          "output_type": "stream",
          "name": "stderr",
          "text": [
            "/usr/local/lib/python3.7/dist-packages/pandas/core/generic.py:6619: SettingWithCopyWarning: \n",
            "A value is trying to be set on a copy of a slice from a DataFrame\n",
            "\n",
            "See the caveats in the documentation: https://pandas.pydata.org/pandas-docs/stable/user_guide/indexing.html#returning-a-view-versus-a-copy\n",
            "  return self._update_inplace(result)\n",
            "/usr/local/lib/python3.7/dist-packages/pandas/util/_decorators.py:311: SettingWithCopyWarning: \n",
            "A value is trying to be set on a copy of a slice from a DataFrame\n",
            "\n",
            "See the caveats in the documentation: https://pandas.pydata.org/pandas-docs/stable/user_guide/indexing.html#returning-a-view-versus-a-copy\n",
            "  return func(*args, **kwargs)\n"
          ]
        }
      ]
    },
    {
      "cell_type": "code",
      "source": [
        "listo = []\n",
        "for header in soup.find_all(['h3']):\n",
        "  for elem in header.next_siblings:\n",
        "    if elem.name and elem.name.startswith('h'):\n",
        "      break\n",
        "    if elem.name == 'p':\n",
        "        txt = str(elem.get_text())\n",
        "        txt = re.sub(\"\\[.*?\\]\",\"\",txt)\n",
        "        splito = txt.split('\\n')\n",
        "        listo.append(splito)"
      ],
      "metadata": {
        "id": "caFXAoWFE-mG"
      },
      "execution_count": null,
      "outputs": []
    },
    {
      "cell_type": "code",
      "source": [
        "short_list = listo[-6:]"
      ],
      "metadata": {
        "id": "9SBjxZHMFD6F"
      },
      "execution_count": null,
      "outputs": []
    },
    {
      "cell_type": "code",
      "source": [
        "flat_list = [item for sublist in short_list[1::2] for item in sublist]"
      ],
      "metadata": {
        "id": "vfXfuGdfFXiR"
      },
      "execution_count": null,
      "outputs": []
    },
    {
      "cell_type": "code",
      "source": [
        "month_date=[]\n",
        "for item in flat_list:\n",
        "  for mo in months:\n",
        "    if mo in item:\n",
        "      month_date.append(mo)"
      ],
      "metadata": {
        "id": "OWEZw3m2avES"
      },
      "execution_count": null,
      "outputs": []
    },
    {
      "cell_type": "code",
      "source": [
        "from_2002 = pd.DataFrame({'year':(short_list[::2]), 'month':month_date , 'event':(short_list[1::2]),})\n",
        "from_2002['year'] = (from_2002['year'].apply(', '.join)).str.replace(',','')\n",
        "from_2002['event'] = from_2002['event'].apply(', '.join)\n",
        "from_2002['city_name_mapped'] = (from_2002.event.str.findall('|'.join(city_list)).str[:2]).apply(', '.join)"
      ],
      "metadata": {
        "id": "0sp7x_mgbQ1B"
      },
      "execution_count": null,
      "outputs": []
    },
    {
      "cell_type": "code",
      "source": [
        "terror_incidents = pd.concat([from_2002, df1])"
      ],
      "metadata": {
        "id": "FcWO1gbCbch0"
      },
      "execution_count": null,
      "outputs": []
    },
    {
      "cell_type": "code",
      "source": [
        "datetime_t = terror_incidents.year.str.strip() +\"-\"+ pd.to_datetime(terror_incidents.month, format='%B').dt.month.astype(str) "
      ],
      "metadata": {
        "id": "oWeXJ3pMSOFl"
      },
      "execution_count": null,
      "outputs": []
    },
    {
      "cell_type": "code",
      "source": [
        "terror_incidents.insert(loc=0, column='datetime', value=datetime_t)"
      ],
      "metadata": {
        "id": "th1nwPO9Vjqc"
      },
      "execution_count": null,
      "outputs": []
    },
    {
      "cell_type": "code",
      "source": [
        "# setting arbitrary value for terror incident at 80\n",
        "terror_incidents['arb_val_terror']= 80"
      ],
      "metadata": {
        "id": "0b1Zd-mXVrGs"
      },
      "execution_count": null,
      "outputs": []
    },
    {
      "cell_type": "code",
      "source": [
        "terror_incidents.to_csv('/content/drive/MyDrive/RUSSdata/wiki/'+date+'/terror_incidents.csv', index=False) #use this when running whole notebook\n"
      ],
      "metadata": {
        "id": "5IB9v-3taw_q"
      },
      "execution_count": null,
      "outputs": []
    },
    {
      "cell_type": "markdown",
      "source": [
        "# Cleaning censorship, application of the law, protests,  files"
      ],
      "metadata": {
        "id": "QLgUDwT9tF3p"
      }
    },
    {
      "cell_type": "code",
      "source": [
        "import requests\n",
        "import pandas as pd\n",
        "from bs4 import BeautifulSoup"
      ],
      "metadata": {
        "id": "W5pq2Yn4tDWo"
      },
      "execution_count": null,
      "outputs": []
    },
    {
      "cell_type": "code",
      "source": [
        "url1 = \"https://en.wikipedia.org/wiki/Internet_censorship_in_Russia\"\n",
        "page = requests.get(url1)\n",
        "soup = BeautifulSoup(page.content, 'html.parser')"
      ],
      "metadata": {
        "id": "nwJES4-krsCr"
      },
      "execution_count": null,
      "outputs": []
    },
    {
      "cell_type": "code",
      "source": [
        "import calendar\n",
        "months = (list(calendar.month_name))\n",
        "months.pop(0)\n",
        "month_pattern =('|'.join(months))"
      ],
      "metadata": {
        "id": "refevnRC331P"
      },
      "execution_count": null,
      "outputs": []
    },
    {
      "cell_type": "code",
      "source": [
        "yer = []\n",
        "for item in range(2000,2023 ):\n",
        "  yer.append(str(item))\n",
        "\n",
        "pattern = ('|'.join(yer))\n"
      ],
      "metadata": {
        "id": "NrN6UCyL36QI"
      },
      "execution_count": null,
      "outputs": []
    },
    {
      "cell_type": "code",
      "source": [
        "import re\n",
        "temp=[]\n",
        "\n",
        "for header in soup.find_all(['h4']):\n",
        "  test = header.get_text()\n",
        "  test= str(test)\n",
        "  test = test[:-6]\n",
        "  \n",
        "\n",
        "  for elem in header.next_siblings:\n",
        "    if elem.name and elem.name.startswith('h'):\n",
        "        break\n",
        "    if elem.name == 'p':\n",
        "\n",
        "      ev = elem.get_text()\n",
        "      # ev= ev.strip()\n",
        "      ev = re.sub(r'\\[.*?\\]', \"\",ev )\n",
        "      ev=str(ev)\n",
        "\n",
        "      for month in months:\n",
        "        if month in ev:\n",
        "          mo = month\n",
        "      for year in yer:\n",
        "        if year in ev:\n",
        "          yyear= year\n",
        "  \n",
        "      \n",
        "      data = yyear,mo, ev\n",
        "      temp.append(data)"
      ],
      "metadata": {
        "id": "nHyiiMv038yU"
      },
      "execution_count": null,
      "outputs": []
    },
    {
      "cell_type": "code",
      "source": [
        "import pandas as pd\n",
        "\n",
        "soupp1_test = pd.DataFrame.from_records(temp, columns=['year', 'month', 'event'])"
      ],
      "metadata": {
        "id": "cVU5InQo3_Gy"
      },
      "execution_count": null,
      "outputs": []
    },
    {
      "cell_type": "code",
      "source": [
        "soup1_group = soupp1_test.groupby(['year','month'])['event'].apply(' \\\\'.join).reset_index()\n",
        "count = (soupp1_test.groupby(['year','month']).count()).reset_index()\n",
        "soup1_group['event_occurances']  =count['event']"
      ],
      "metadata": {
        "id": "HQTWTmb64BRM"
      },
      "execution_count": null,
      "outputs": []
    },
    {
      "cell_type": "code",
      "source": [
        "url2 = \"https://en.wikipedia.org/wiki/List_of_websites_blocked_in_Russia\"\n",
        "page2 = requests.get(url2)\n",
        "soup2 = BeautifulSoup(page2.content, 'html.parser')"
      ],
      "metadata": {
        "id": "4nEQ2SaA4Das"
      },
      "execution_count": null,
      "outputs": []
    },
    {
      "cell_type": "code",
      "source": [
        "import re\n",
        "\n",
        "\n",
        "sentence_list = []\n",
        "year_list= []\n",
        "prefixes = ('^','1','2','3','4')\n",
        "len_num = len(soup2.find_all('div'))\n",
        "\n",
        "for item in range(0, len_num):\n",
        "  temp =  soup2.find_all('li')[item].get_text()\n",
        "  temp = temp.strip()\n",
        "  temp = re.sub(r'\\[.*?\\]', \"\",temp )\n",
        "  temp=str(temp)\n",
        "  if not temp.startswith(prefixes):\n",
        "\n",
        "    for month in months:\n",
        "      if month in temp:\n",
        "        mo = month\n",
        "    for year in yer:\n",
        "      if year in temp:\n",
        "        yyear= year\n",
        "\n",
        "    data1 = yyear, mo, temp\n",
        "    sentence_list.append(data1)"
      ],
      "metadata": {
        "id": "5yV-3T_A4Fpr"
      },
      "execution_count": null,
      "outputs": []
    },
    {
      "cell_type": "code",
      "source": [
        "import pandas as pd\n",
        "\n",
        "soupp2_test = pd.DataFrame.from_records(sentence_list[:-3], columns=['year', 'month', 'event'])\n"
      ],
      "metadata": {
        "id": "vlz_ppSv4HXd"
      },
      "execution_count": null,
      "outputs": []
    },
    {
      "cell_type": "code",
      "source": [
        "soup2_group = soupp2_test.groupby(['year','month'])['event'].apply(' \\\\'.join).reset_index()\n",
        "count2 = (soupp2_test.groupby(['year','month']).count()).reset_index()\n",
        "soup2_group['event_occurances']  =count2['event']"
      ],
      "metadata": {
        "id": "rnlT0_jP4JAI"
      },
      "execution_count": null,
      "outputs": []
    },
    {
      "cell_type": "code",
      "source": [
        "url3 = 'https://en.wikipedia.org/wiki/Media_freedom_in_Russia'\n",
        "\n",
        "page3 = requests.get(url3)\n",
        "soup3 = BeautifulSoup(page3.content, 'html.parser')"
      ],
      "metadata": {
        "id": "WtqoU7Pr4Lhv"
      },
      "execution_count": null,
      "outputs": []
    },
    {
      "cell_type": "code",
      "source": [
        "import re\n",
        "temp3=[]\n",
        "\n",
        "\n",
        "for ele in soup3.find_all('p'):\n",
        "  test3 = ele.get_text()\n",
        "  test3 = re.sub(r'\\[.*?\\]' , \"\",test3 )\n",
        "  test3= str(test3)\n",
        "\n",
        "  for month in months:\n",
        "    if month in test3:\n",
        "      mo = month\n",
        "  for year in yer:\n",
        "    if year in test3:\n",
        "      yyear= year\n",
        "  \n",
        "\n",
        "  \n",
        "  data3 = yyear, mo, test3\n",
        "  temp3.append(data3)\n"
      ],
      "metadata": {
        "id": "7fAr2rAm4Nbm"
      },
      "execution_count": null,
      "outputs": []
    },
    {
      "cell_type": "code",
      "source": [
        "import pandas as pd\n",
        "\n",
        "soupp3_test = pd.DataFrame.from_records(temp3, columns=['year', 'month', 'event'])\n",
        "# drop empty event row\n",
        "#soupp3_test[soupp3_test['event'].map(len)<6]\n",
        "#>>> \t  year \tmonth \tevent\n",
        "#>>>0 \t2015 \tOctober \t\\n\n",
        "soupp3_test.drop(0, inplace=True)"
      ],
      "metadata": {
        "id": "8hTItAkG4PSM"
      },
      "execution_count": null,
      "outputs": []
    },
    {
      "cell_type": "code",
      "source": [
        "soupp3_group = soupp3_test.groupby(['year','month'])['event'].apply(' \\\\'.join).reset_index()\n",
        "count3 = (soupp3_test.groupby(['year','month']).count()).reset_index()\n",
        "soupp3_group ['event_occurances'] = count3['event']"
      ],
      "metadata": {
        "id": "fH-8C7h24Q6G"
      },
      "execution_count": null,
      "outputs": []
    },
    {
      "cell_type": "code",
      "source": [
        "censor1_2_3 =  pd.concat([soup1_group, soup2_group, soupp3_group])"
      ],
      "metadata": {
        "id": "_T1oQjP94TMl"
      },
      "execution_count": null,
      "outputs": []
    },
    {
      "cell_type": "code",
      "source": [
        "censor1_2_3group = censor1_2_3.groupby(['year','month'])['event'].apply(' \\\\'.join).reset_index()\n",
        "count_all= (censor1_2_3.groupby(['year','month'])['event_occurances'].sum()).reset_index()\n",
        "censor1_2_3group['event_occurances'] = count_all['event_occurances']"
      ],
      "metadata": {
        "id": "abXzD5iS4Vl4"
      },
      "execution_count": null,
      "outputs": []
    },
    {
      "cell_type": "code",
      "source": [
        "datetime_c = censor1_2_3group.year.str.strip() +\"-\"+ pd.to_datetime(censor1_2_3group.month, format='%B').dt.month.astype(str) "
      ],
      "metadata": {
        "id": "fvSZzfpfWnNo"
      },
      "execution_count": null,
      "outputs": []
    },
    {
      "cell_type": "code",
      "source": [
        "censor1_2_3group.insert(loc=0, column='datetime', value=datetime_c)"
      ],
      "metadata": {
        "id": "3A4y1elbXClR"
      },
      "execution_count": null,
      "outputs": []
    },
    {
      "cell_type": "markdown",
      "source": [
        "**Adding in recent data : additional**\n",
        "\n",
        "*getting tricky to keep on top of this...*\n",
        "\n",
        "Wikipedia:\n",
        "\n",
        "\"https://en.wikipedia.org/wiki/2022_anti-war_protests_in_Russia\"\n",
        "\n",
        "\n",
        "Additional information alternative saurces (not wikipedia)\n",
        "\n",
        "Kara-Murza : Russian Opposition Activist Kara-Murza Sentenced To 15 Days In Jail source: https://www.rferl.org/a/russia-kara-murza-arrested/31798286.html\n",
        "\n",
        "Ilya Yashin : arrest https://www.themoscowtimes.com/2022/07/13/russia-arrests-anti-war-opposition-activist-ilya-yashin-a78288\n",
        "\n",
        "Leonid Gozman :arrest source: https://apnews.com/article/russia-ukraine-arrests-moscow-4cf9bb89d486fccb4ad2ff7299b28b1f\n",
        "\n",
        "Andrei Pivovarov : Russian opposition activist Andrei Pivovarov jailed for 4 years source: https://www.aljazeera.com/news/2022/7/15/russian-opposition-activist-andrei-pivovarov-jailed-for-4-years\n",
        "\n",
        "Helga Pirogova : Siberian Opposition Deputy Flees Criminal 'War Fakes' Prosecution source : https://www.themoscowtimes.com/2022/07/25/siberian-opposition-deputy-flees-criminal-war-fakes-prosecution-a78395\n",
        "\n",
        "Yevgeny Roizman : https://www.aljazeera.com/news/2022/8/24/russia-arrests-ex-mayor-for-discrediting-army-amid-ukraine-war\n",
        "\n"
      ],
      "metadata": {
        "id": "2XFPy7UjN2Td"
      }
    },
    {
      "cell_type": "code",
      "source": [
        "import requests\n",
        "import pandas as pd\n",
        "from bs4 import BeautifulSoup"
      ],
      "metadata": {
        "id": "dcEvESiq8Tkh"
      },
      "execution_count": null,
      "outputs": []
    },
    {
      "cell_type": "code",
      "source": [
        "url4 = \"https://en.wikipedia.org/wiki/2022_anti-war_protests_in_Russia\"\n",
        "page4 = requests.get(url4)\n",
        "soup4 = BeautifulSoup(page.content, 'html.parser')"
      ],
      "metadata": {
        "id": "i7AxagzgOLde"
      },
      "execution_count": null,
      "outputs": []
    },
    {
      "cell_type": "code",
      "source": [
        "import calendar\n",
        "months = (list(calendar.month_name))\n",
        "months.pop(0)\n",
        "month_pattern =('|'.join(months))"
      ],
      "metadata": {
        "id": "9IwgEodVOLV0"
      },
      "execution_count": null,
      "outputs": []
    },
    {
      "cell_type": "code",
      "source": [
        "import re\n",
        "temp4=[]\n",
        "\n",
        "for header in soup4.find_all(['h3']):\n",
        "  test = header.get_text()\n",
        "  test= str(test)\n",
        "\n",
        "  \n",
        "  for elem in header.next_siblings:\n",
        "    if elem.name and elem.name.startswith('h'):\n",
        "        break\n",
        "    if elem.name == 'p':\n",
        "      ev = elem.get_text()\n",
        "      ev= ev.strip()\n",
        "      ev = re.sub(r'\\[.*?\\]', \"\",ev )\n",
        "      ev=str(ev)\n",
        "      for month in months:\n",
        "        if month in ev:\n",
        "          mo = month\n",
        "      \n",
        "      data = mo, ev\n",
        "      temp4.append(data)\n"
      ],
      "metadata": {
        "id": "X1mSpTPTOLLx"
      },
      "execution_count": null,
      "outputs": []
    },
    {
      "cell_type": "code",
      "source": [
        "add_on =pd.DataFrame.from_records(temp4, columns=['month', 'event'])"
      ],
      "metadata": {
        "id": "CHEOYg9jOf31"
      },
      "execution_count": null,
      "outputs": []
    },
    {
      "cell_type": "code",
      "source": [
        "add_on_s = add_on[add_on['event'].str.contains('2022', regex=True)]"
      ],
      "metadata": {
        "id": "AKhF1kOSkiYk"
      },
      "execution_count": null,
      "outputs": []
    },
    {
      "cell_type": "code",
      "source": [
        "add_on_s['datetime'] = '2022'\n",
        "add_on_s['datetime'] =add_on_s.datetime+'-'+pd.to_datetime(add_on_s.month, format='%B').dt.month.astype(str) \n",
        "add_on_s = add_on_s[1:]"
      ],
      "metadata": {
        "id": "9QdTAMagOfya",
        "colab": {
          "base_uri": "https://localhost:8080/"
        },
        "outputId": "caa36c95-7eb4-46f0-e4bb-cb730a5c180d"
      },
      "execution_count": null,
      "outputs": [
        {
          "output_type": "stream",
          "name": "stderr",
          "text": [
            "/usr/local/lib/python3.7/dist-packages/ipykernel_launcher.py:1: SettingWithCopyWarning: \n",
            "A value is trying to be set on a copy of a slice from a DataFrame.\n",
            "Try using .loc[row_indexer,col_indexer] = value instead\n",
            "\n",
            "See the caveats in the documentation: https://pandas.pydata.org/pandas-docs/stable/user_guide/indexing.html#returning-a-view-versus-a-copy\n",
            "  \"\"\"Entry point for launching an IPython kernel.\n",
            "/usr/local/lib/python3.7/dist-packages/ipykernel_launcher.py:2: SettingWithCopyWarning: \n",
            "A value is trying to be set on a copy of a slice from a DataFrame.\n",
            "Try using .loc[row_indexer,col_indexer] = value instead\n",
            "\n",
            "See the caveats in the documentation: https://pandas.pydata.org/pandas-docs/stable/user_guide/indexing.html#returning-a-view-versus-a-copy\n",
            "  \n"
          ]
        }
      ]
    },
    {
      "cell_type": "code",
      "source": [
        "add_on_s"
      ],
      "metadata": {
        "colab": {
          "base_uri": "https://localhost:8080/",
          "height": 143
        },
        "id": "rfwJT1HAqq8G",
        "outputId": "8ca5c6e8-dea4-41d2-bba6-b88375f2121f"
      },
      "execution_count": null,
      "outputs": [
        {
          "output_type": "execute_result",
          "data": {
            "text/plain": [
              "       month                                              event datetime\n",
              "24     March  On 11 March 2022, Belarusian political police ...   2022-3\n",
              "25      July  In April-July 2022, the Russian authorities pu...   2022-7\n",
              "26  February  Russian authorities have blocked or removed ab...   2022-2"
            ],
            "text/html": [
              "\n",
              "  <div id=\"df-b6e6234c-152c-4cf3-9ec1-76befc4e3704\">\n",
              "    <div class=\"colab-df-container\">\n",
              "      <div>\n",
              "<style scoped>\n",
              "    .dataframe tbody tr th:only-of-type {\n",
              "        vertical-align: middle;\n",
              "    }\n",
              "\n",
              "    .dataframe tbody tr th {\n",
              "        vertical-align: top;\n",
              "    }\n",
              "\n",
              "    .dataframe thead th {\n",
              "        text-align: right;\n",
              "    }\n",
              "</style>\n",
              "<table border=\"1\" class=\"dataframe\">\n",
              "  <thead>\n",
              "    <tr style=\"text-align: right;\">\n",
              "      <th></th>\n",
              "      <th>month</th>\n",
              "      <th>event</th>\n",
              "      <th>datetime</th>\n",
              "    </tr>\n",
              "  </thead>\n",
              "  <tbody>\n",
              "    <tr>\n",
              "      <th>24</th>\n",
              "      <td>March</td>\n",
              "      <td>On 11 March 2022, Belarusian political police ...</td>\n",
              "      <td>2022-3</td>\n",
              "    </tr>\n",
              "    <tr>\n",
              "      <th>25</th>\n",
              "      <td>July</td>\n",
              "      <td>In April-July 2022, the Russian authorities pu...</td>\n",
              "      <td>2022-7</td>\n",
              "    </tr>\n",
              "    <tr>\n",
              "      <th>26</th>\n",
              "      <td>February</td>\n",
              "      <td>Russian authorities have blocked or removed ab...</td>\n",
              "      <td>2022-2</td>\n",
              "    </tr>\n",
              "  </tbody>\n",
              "</table>\n",
              "</div>\n",
              "      <button class=\"colab-df-convert\" onclick=\"convertToInteractive('df-b6e6234c-152c-4cf3-9ec1-76befc4e3704')\"\n",
              "              title=\"Convert this dataframe to an interactive table.\"\n",
              "              style=\"display:none;\">\n",
              "        \n",
              "  <svg xmlns=\"http://www.w3.org/2000/svg\" height=\"24px\"viewBox=\"0 0 24 24\"\n",
              "       width=\"24px\">\n",
              "    <path d=\"M0 0h24v24H0V0z\" fill=\"none\"/>\n",
              "    <path d=\"M18.56 5.44l.94 2.06.94-2.06 2.06-.94-2.06-.94-.94-2.06-.94 2.06-2.06.94zm-11 1L8.5 8.5l.94-2.06 2.06-.94-2.06-.94L8.5 2.5l-.94 2.06-2.06.94zm10 10l.94 2.06.94-2.06 2.06-.94-2.06-.94-.94-2.06-.94 2.06-2.06.94z\"/><path d=\"M17.41 7.96l-1.37-1.37c-.4-.4-.92-.59-1.43-.59-.52 0-1.04.2-1.43.59L10.3 9.45l-7.72 7.72c-.78.78-.78 2.05 0 2.83L4 21.41c.39.39.9.59 1.41.59.51 0 1.02-.2 1.41-.59l7.78-7.78 2.81-2.81c.8-.78.8-2.07 0-2.86zM5.41 20L4 18.59l7.72-7.72 1.47 1.35L5.41 20z\"/>\n",
              "  </svg>\n",
              "      </button>\n",
              "      \n",
              "  <style>\n",
              "    .colab-df-container {\n",
              "      display:flex;\n",
              "      flex-wrap:wrap;\n",
              "      gap: 12px;\n",
              "    }\n",
              "\n",
              "    .colab-df-convert {\n",
              "      background-color: #E8F0FE;\n",
              "      border: none;\n",
              "      border-radius: 50%;\n",
              "      cursor: pointer;\n",
              "      display: none;\n",
              "      fill: #1967D2;\n",
              "      height: 32px;\n",
              "      padding: 0 0 0 0;\n",
              "      width: 32px;\n",
              "    }\n",
              "\n",
              "    .colab-df-convert:hover {\n",
              "      background-color: #E2EBFA;\n",
              "      box-shadow: 0px 1px 2px rgba(60, 64, 67, 0.3), 0px 1px 3px 1px rgba(60, 64, 67, 0.15);\n",
              "      fill: #174EA6;\n",
              "    }\n",
              "\n",
              "    [theme=dark] .colab-df-convert {\n",
              "      background-color: #3B4455;\n",
              "      fill: #D2E3FC;\n",
              "    }\n",
              "\n",
              "    [theme=dark] .colab-df-convert:hover {\n",
              "      background-color: #434B5C;\n",
              "      box-shadow: 0px 1px 3px 1px rgba(0, 0, 0, 0.15);\n",
              "      filter: drop-shadow(0px 1px 2px rgba(0, 0, 0, 0.3));\n",
              "      fill: #FFFFFF;\n",
              "    }\n",
              "  </style>\n",
              "\n",
              "      <script>\n",
              "        const buttonEl =\n",
              "          document.querySelector('#df-b6e6234c-152c-4cf3-9ec1-76befc4e3704 button.colab-df-convert');\n",
              "        buttonEl.style.display =\n",
              "          google.colab.kernel.accessAllowed ? 'block' : 'none';\n",
              "\n",
              "        async function convertToInteractive(key) {\n",
              "          const element = document.querySelector('#df-b6e6234c-152c-4cf3-9ec1-76befc4e3704');\n",
              "          const dataTable =\n",
              "            await google.colab.kernel.invokeFunction('convertToInteractive',\n",
              "                                                     [key], {});\n",
              "          if (!dataTable) return;\n",
              "\n",
              "          const docLinkHtml = 'Like what you see? Visit the ' +\n",
              "            '<a target=\"_blank\" href=https://colab.research.google.com/notebooks/data_table.ipynb>data table notebook</a>'\n",
              "            + ' to learn more about interactive tables.';\n",
              "          element.innerHTML = '';\n",
              "          dataTable['output_type'] = 'display_data';\n",
              "          await google.colab.output.renderOutput(dataTable, element);\n",
              "          const docLink = document.createElement('div');\n",
              "          docLink.innerHTML = docLinkHtml;\n",
              "          element.appendChild(docLink);\n",
              "        }\n",
              "      </script>\n",
              "    </div>\n",
              "  </div>\n",
              "  "
            ]
          },
          "metadata": {},
          "execution_count": 69
        }
      ]
    },
    {
      "cell_type": "code",
      "source": [
        "event=['Kara-Murza : Russian Opposition Activist Kara-Murza Sentenced To 15 Days In Jail',\n",
        "       'Ilya Yashin : arrested', 'Leonid Gozman :arrested',\n",
        "       'Andrei Pivovarov : Russian opposition activist Andrei Pivovarov jailed for 4 years',\n",
        "       'Helga Pirogova : Siberian Opposition Deputy Flees Criminal \\'War Fakes\\' Prosecution ' ]"
      ],
      "metadata": {
        "id": "5il681r4Pg7r"
      },
      "execution_count": null,
      "outputs": []
    },
    {
      "cell_type": "code",
      "source": [
        "supp_july = pd.DataFrame(event, columns = ['event'])\n",
        "supp_july['datetime']= '2022-7'"
      ],
      "metadata": {
        "id": "cpnzAgCfXKEN"
      },
      "execution_count": null,
      "outputs": []
    },
    {
      "cell_type": "code",
      "source": [
        "supp_july"
      ],
      "metadata": {
        "colab": {
          "base_uri": "https://localhost:8080/",
          "height": 206
        },
        "id": "AGviyJItYJ0t",
        "outputId": "1235879f-ecb6-4540-a81d-67392c3740b6"
      },
      "execution_count": null,
      "outputs": [
        {
          "output_type": "execute_result",
          "data": {
            "text/plain": [
              "                                               event datetime\n",
              "0  Kara-Murza : Russian Opposition Activist Kara-...   2022-7\n",
              "1                             Ilya Yashin : arrested   2022-7\n",
              "2                            Leonid Gozman :arrested   2022-7\n",
              "3  Andrei Pivovarov : Russian opposition activist...   2022-7\n",
              "4  Helga Pirogova : Siberian Opposition Deputy Fl...   2022-7"
            ],
            "text/html": [
              "\n",
              "  <div id=\"df-ca5c38b0-9b5e-4e4f-948d-b33f80075a78\">\n",
              "    <div class=\"colab-df-container\">\n",
              "      <div>\n",
              "<style scoped>\n",
              "    .dataframe tbody tr th:only-of-type {\n",
              "        vertical-align: middle;\n",
              "    }\n",
              "\n",
              "    .dataframe tbody tr th {\n",
              "        vertical-align: top;\n",
              "    }\n",
              "\n",
              "    .dataframe thead th {\n",
              "        text-align: right;\n",
              "    }\n",
              "</style>\n",
              "<table border=\"1\" class=\"dataframe\">\n",
              "  <thead>\n",
              "    <tr style=\"text-align: right;\">\n",
              "      <th></th>\n",
              "      <th>event</th>\n",
              "      <th>datetime</th>\n",
              "    </tr>\n",
              "  </thead>\n",
              "  <tbody>\n",
              "    <tr>\n",
              "      <th>0</th>\n",
              "      <td>Kara-Murza : Russian Opposition Activist Kara-...</td>\n",
              "      <td>2022-7</td>\n",
              "    </tr>\n",
              "    <tr>\n",
              "      <th>1</th>\n",
              "      <td>Ilya Yashin : arrested</td>\n",
              "      <td>2022-7</td>\n",
              "    </tr>\n",
              "    <tr>\n",
              "      <th>2</th>\n",
              "      <td>Leonid Gozman :arrested</td>\n",
              "      <td>2022-7</td>\n",
              "    </tr>\n",
              "    <tr>\n",
              "      <th>3</th>\n",
              "      <td>Andrei Pivovarov : Russian opposition activist...</td>\n",
              "      <td>2022-7</td>\n",
              "    </tr>\n",
              "    <tr>\n",
              "      <th>4</th>\n",
              "      <td>Helga Pirogova : Siberian Opposition Deputy Fl...</td>\n",
              "      <td>2022-7</td>\n",
              "    </tr>\n",
              "  </tbody>\n",
              "</table>\n",
              "</div>\n",
              "      <button class=\"colab-df-convert\" onclick=\"convertToInteractive('df-ca5c38b0-9b5e-4e4f-948d-b33f80075a78')\"\n",
              "              title=\"Convert this dataframe to an interactive table.\"\n",
              "              style=\"display:none;\">\n",
              "        \n",
              "  <svg xmlns=\"http://www.w3.org/2000/svg\" height=\"24px\"viewBox=\"0 0 24 24\"\n",
              "       width=\"24px\">\n",
              "    <path d=\"M0 0h24v24H0V0z\" fill=\"none\"/>\n",
              "    <path d=\"M18.56 5.44l.94 2.06.94-2.06 2.06-.94-2.06-.94-.94-2.06-.94 2.06-2.06.94zm-11 1L8.5 8.5l.94-2.06 2.06-.94-2.06-.94L8.5 2.5l-.94 2.06-2.06.94zm10 10l.94 2.06.94-2.06 2.06-.94-2.06-.94-.94-2.06-.94 2.06-2.06.94z\"/><path d=\"M17.41 7.96l-1.37-1.37c-.4-.4-.92-.59-1.43-.59-.52 0-1.04.2-1.43.59L10.3 9.45l-7.72 7.72c-.78.78-.78 2.05 0 2.83L4 21.41c.39.39.9.59 1.41.59.51 0 1.02-.2 1.41-.59l7.78-7.78 2.81-2.81c.8-.78.8-2.07 0-2.86zM5.41 20L4 18.59l7.72-7.72 1.47 1.35L5.41 20z\"/>\n",
              "  </svg>\n",
              "      </button>\n",
              "      \n",
              "  <style>\n",
              "    .colab-df-container {\n",
              "      display:flex;\n",
              "      flex-wrap:wrap;\n",
              "      gap: 12px;\n",
              "    }\n",
              "\n",
              "    .colab-df-convert {\n",
              "      background-color: #E8F0FE;\n",
              "      border: none;\n",
              "      border-radius: 50%;\n",
              "      cursor: pointer;\n",
              "      display: none;\n",
              "      fill: #1967D2;\n",
              "      height: 32px;\n",
              "      padding: 0 0 0 0;\n",
              "      width: 32px;\n",
              "    }\n",
              "\n",
              "    .colab-df-convert:hover {\n",
              "      background-color: #E2EBFA;\n",
              "      box-shadow: 0px 1px 2px rgba(60, 64, 67, 0.3), 0px 1px 3px 1px rgba(60, 64, 67, 0.15);\n",
              "      fill: #174EA6;\n",
              "    }\n",
              "\n",
              "    [theme=dark] .colab-df-convert {\n",
              "      background-color: #3B4455;\n",
              "      fill: #D2E3FC;\n",
              "    }\n",
              "\n",
              "    [theme=dark] .colab-df-convert:hover {\n",
              "      background-color: #434B5C;\n",
              "      box-shadow: 0px 1px 3px 1px rgba(0, 0, 0, 0.15);\n",
              "      filter: drop-shadow(0px 1px 2px rgba(0, 0, 0, 0.3));\n",
              "      fill: #FFFFFF;\n",
              "    }\n",
              "  </style>\n",
              "\n",
              "      <script>\n",
              "        const buttonEl =\n",
              "          document.querySelector('#df-ca5c38b0-9b5e-4e4f-948d-b33f80075a78 button.colab-df-convert');\n",
              "        buttonEl.style.display =\n",
              "          google.colab.kernel.accessAllowed ? 'block' : 'none';\n",
              "\n",
              "        async function convertToInteractive(key) {\n",
              "          const element = document.querySelector('#df-ca5c38b0-9b5e-4e4f-948d-b33f80075a78');\n",
              "          const dataTable =\n",
              "            await google.colab.kernel.invokeFunction('convertToInteractive',\n",
              "                                                     [key], {});\n",
              "          if (!dataTable) return;\n",
              "\n",
              "          const docLinkHtml = 'Like what you see? Visit the ' +\n",
              "            '<a target=\"_blank\" href=https://colab.research.google.com/notebooks/data_table.ipynb>data table notebook</a>'\n",
              "            + ' to learn more about interactive tables.';\n",
              "          element.innerHTML = '';\n",
              "          dataTable['output_type'] = 'display_data';\n",
              "          await google.colab.output.renderOutput(dataTable, element);\n",
              "          const docLink = document.createElement('div');\n",
              "          docLink.innerHTML = docLinkHtml;\n",
              "          element.appendChild(docLink);\n",
              "        }\n",
              "      </script>\n",
              "    </div>\n",
              "  </div>\n",
              "  "
            ]
          },
          "metadata": {},
          "execution_count": 72
        }
      ]
    },
    {
      "cell_type": "code",
      "source": [
        "event_aug = ['Yevgeny Roizman: Russia arrests ex-mayor for discrediting army amid Ukraine war']\n",
        "supp_aug = pd.DataFrame(event_aug, columns = ['event'])\n",
        "supp_aug['datetime']= '2022-8'"
      ],
      "metadata": {
        "id": "buB_lVenW84S"
      },
      "execution_count": null,
      "outputs": []
    },
    {
      "cell_type": "code",
      "source": [
        "selected_add = add_on_s.append(supp_july, ignore_index=True)\n",
        "selected_add =selected_add.append(supp_aug, ignore_index=True)"
      ],
      "metadata": {
        "id": "oYspYs-nPkHI"
      },
      "execution_count": null,
      "outputs": []
    },
    {
      "cell_type": "code",
      "source": [
        "selected_add"
      ],
      "metadata": {
        "colab": {
          "base_uri": "https://localhost:8080/",
          "height": 332
        },
        "id": "BhAe2vJSgDaw",
        "outputId": "e56fbeea-4545-40c7-ae73-e83daa340c8b"
      },
      "execution_count": null,
      "outputs": [
        {
          "output_type": "execute_result",
          "data": {
            "text/plain": [
              "      month                                              event datetime\n",
              "0     March  On 11 March 2022, Belarusian political police ...   2022-3\n",
              "1      July  In April-July 2022, the Russian authorities pu...   2022-7\n",
              "2  February  Russian authorities have blocked or removed ab...   2022-2\n",
              "3       NaN  Kara-Murza : Russian Opposition Activist Kara-...   2022-7\n",
              "4       NaN                             Ilya Yashin : arrested   2022-7\n",
              "5       NaN                            Leonid Gozman :arrested   2022-7\n",
              "6       NaN  Andrei Pivovarov : Russian opposition activist...   2022-7\n",
              "7       NaN  Helga Pirogova : Siberian Opposition Deputy Fl...   2022-7\n",
              "8       NaN  Yevgeny Roizman: Russia arrests ex-mayor for d...   2022-8"
            ],
            "text/html": [
              "\n",
              "  <div id=\"df-39e727bb-fe84-4232-b2d8-9357b59d6f31\">\n",
              "    <div class=\"colab-df-container\">\n",
              "      <div>\n",
              "<style scoped>\n",
              "    .dataframe tbody tr th:only-of-type {\n",
              "        vertical-align: middle;\n",
              "    }\n",
              "\n",
              "    .dataframe tbody tr th {\n",
              "        vertical-align: top;\n",
              "    }\n",
              "\n",
              "    .dataframe thead th {\n",
              "        text-align: right;\n",
              "    }\n",
              "</style>\n",
              "<table border=\"1\" class=\"dataframe\">\n",
              "  <thead>\n",
              "    <tr style=\"text-align: right;\">\n",
              "      <th></th>\n",
              "      <th>month</th>\n",
              "      <th>event</th>\n",
              "      <th>datetime</th>\n",
              "    </tr>\n",
              "  </thead>\n",
              "  <tbody>\n",
              "    <tr>\n",
              "      <th>0</th>\n",
              "      <td>March</td>\n",
              "      <td>On 11 March 2022, Belarusian political police ...</td>\n",
              "      <td>2022-3</td>\n",
              "    </tr>\n",
              "    <tr>\n",
              "      <th>1</th>\n",
              "      <td>July</td>\n",
              "      <td>In April-July 2022, the Russian authorities pu...</td>\n",
              "      <td>2022-7</td>\n",
              "    </tr>\n",
              "    <tr>\n",
              "      <th>2</th>\n",
              "      <td>February</td>\n",
              "      <td>Russian authorities have blocked or removed ab...</td>\n",
              "      <td>2022-2</td>\n",
              "    </tr>\n",
              "    <tr>\n",
              "      <th>3</th>\n",
              "      <td>NaN</td>\n",
              "      <td>Kara-Murza : Russian Opposition Activist Kara-...</td>\n",
              "      <td>2022-7</td>\n",
              "    </tr>\n",
              "    <tr>\n",
              "      <th>4</th>\n",
              "      <td>NaN</td>\n",
              "      <td>Ilya Yashin : arrested</td>\n",
              "      <td>2022-7</td>\n",
              "    </tr>\n",
              "    <tr>\n",
              "      <th>5</th>\n",
              "      <td>NaN</td>\n",
              "      <td>Leonid Gozman :arrested</td>\n",
              "      <td>2022-7</td>\n",
              "    </tr>\n",
              "    <tr>\n",
              "      <th>6</th>\n",
              "      <td>NaN</td>\n",
              "      <td>Andrei Pivovarov : Russian opposition activist...</td>\n",
              "      <td>2022-7</td>\n",
              "    </tr>\n",
              "    <tr>\n",
              "      <th>7</th>\n",
              "      <td>NaN</td>\n",
              "      <td>Helga Pirogova : Siberian Opposition Deputy Fl...</td>\n",
              "      <td>2022-7</td>\n",
              "    </tr>\n",
              "    <tr>\n",
              "      <th>8</th>\n",
              "      <td>NaN</td>\n",
              "      <td>Yevgeny Roizman: Russia arrests ex-mayor for d...</td>\n",
              "      <td>2022-8</td>\n",
              "    </tr>\n",
              "  </tbody>\n",
              "</table>\n",
              "</div>\n",
              "      <button class=\"colab-df-convert\" onclick=\"convertToInteractive('df-39e727bb-fe84-4232-b2d8-9357b59d6f31')\"\n",
              "              title=\"Convert this dataframe to an interactive table.\"\n",
              "              style=\"display:none;\">\n",
              "        \n",
              "  <svg xmlns=\"http://www.w3.org/2000/svg\" height=\"24px\"viewBox=\"0 0 24 24\"\n",
              "       width=\"24px\">\n",
              "    <path d=\"M0 0h24v24H0V0z\" fill=\"none\"/>\n",
              "    <path d=\"M18.56 5.44l.94 2.06.94-2.06 2.06-.94-2.06-.94-.94-2.06-.94 2.06-2.06.94zm-11 1L8.5 8.5l.94-2.06 2.06-.94-2.06-.94L8.5 2.5l-.94 2.06-2.06.94zm10 10l.94 2.06.94-2.06 2.06-.94-2.06-.94-.94-2.06-.94 2.06-2.06.94z\"/><path d=\"M17.41 7.96l-1.37-1.37c-.4-.4-.92-.59-1.43-.59-.52 0-1.04.2-1.43.59L10.3 9.45l-7.72 7.72c-.78.78-.78 2.05 0 2.83L4 21.41c.39.39.9.59 1.41.59.51 0 1.02-.2 1.41-.59l7.78-7.78 2.81-2.81c.8-.78.8-2.07 0-2.86zM5.41 20L4 18.59l7.72-7.72 1.47 1.35L5.41 20z\"/>\n",
              "  </svg>\n",
              "      </button>\n",
              "      \n",
              "  <style>\n",
              "    .colab-df-container {\n",
              "      display:flex;\n",
              "      flex-wrap:wrap;\n",
              "      gap: 12px;\n",
              "    }\n",
              "\n",
              "    .colab-df-convert {\n",
              "      background-color: #E8F0FE;\n",
              "      border: none;\n",
              "      border-radius: 50%;\n",
              "      cursor: pointer;\n",
              "      display: none;\n",
              "      fill: #1967D2;\n",
              "      height: 32px;\n",
              "      padding: 0 0 0 0;\n",
              "      width: 32px;\n",
              "    }\n",
              "\n",
              "    .colab-df-convert:hover {\n",
              "      background-color: #E2EBFA;\n",
              "      box-shadow: 0px 1px 2px rgba(60, 64, 67, 0.3), 0px 1px 3px 1px rgba(60, 64, 67, 0.15);\n",
              "      fill: #174EA6;\n",
              "    }\n",
              "\n",
              "    [theme=dark] .colab-df-convert {\n",
              "      background-color: #3B4455;\n",
              "      fill: #D2E3FC;\n",
              "    }\n",
              "\n",
              "    [theme=dark] .colab-df-convert:hover {\n",
              "      background-color: #434B5C;\n",
              "      box-shadow: 0px 1px 3px 1px rgba(0, 0, 0, 0.15);\n",
              "      filter: drop-shadow(0px 1px 2px rgba(0, 0, 0, 0.3));\n",
              "      fill: #FFFFFF;\n",
              "    }\n",
              "  </style>\n",
              "\n",
              "      <script>\n",
              "        const buttonEl =\n",
              "          document.querySelector('#df-39e727bb-fe84-4232-b2d8-9357b59d6f31 button.colab-df-convert');\n",
              "        buttonEl.style.display =\n",
              "          google.colab.kernel.accessAllowed ? 'block' : 'none';\n",
              "\n",
              "        async function convertToInteractive(key) {\n",
              "          const element = document.querySelector('#df-39e727bb-fe84-4232-b2d8-9357b59d6f31');\n",
              "          const dataTable =\n",
              "            await google.colab.kernel.invokeFunction('convertToInteractive',\n",
              "                                                     [key], {});\n",
              "          if (!dataTable) return;\n",
              "\n",
              "          const docLinkHtml = 'Like what you see? Visit the ' +\n",
              "            '<a target=\"_blank\" href=https://colab.research.google.com/notebooks/data_table.ipynb>data table notebook</a>'\n",
              "            + ' to learn more about interactive tables.';\n",
              "          element.innerHTML = '';\n",
              "          dataTable['output_type'] = 'display_data';\n",
              "          await google.colab.output.renderOutput(dataTable, element);\n",
              "          const docLink = document.createElement('div');\n",
              "          docLink.innerHTML = docLinkHtml;\n",
              "          element.appendChild(docLink);\n",
              "        }\n",
              "      </script>\n",
              "    </div>\n",
              "  </div>\n",
              "  "
            ]
          },
          "metadata": {},
          "execution_count": 75
        }
      ]
    },
    {
      "cell_type": "code",
      "source": [
        "count_all= (selected_add.groupby(['datetime'])['event'].count()).to_list()"
      ],
      "metadata": {
        "id": "HamIMMskPkD6"
      },
      "execution_count": null,
      "outputs": []
    },
    {
      "cell_type": "code",
      "source": [
        "selected_g = (selected_add.groupby(['datetime'])['event'].sum()).reset_index()\n",
        "selected_g['event_occurances'] = count_all"
      ],
      "metadata": {
        "id": "OSjWIwxEPj8B"
      },
      "execution_count": null,
      "outputs": []
    },
    {
      "cell_type": "code",
      "source": [
        "selected_g"
      ],
      "metadata": {
        "colab": {
          "base_uri": "https://localhost:8080/",
          "height": 175
        },
        "id": "tMc7KfLrPv-f",
        "outputId": "f90a4753-b568-445e-be62-aeaaef8c8193"
      },
      "execution_count": null,
      "outputs": [
        {
          "output_type": "execute_result",
          "data": {
            "text/plain": [
              "  datetime                                              event  \\\n",
              "0   2022-2  Russian authorities have blocked or removed ab...   \n",
              "1   2022-3  On 11 March 2022, Belarusian political police ...   \n",
              "2   2022-7  In April-July 2022, the Russian authorities pu...   \n",
              "3   2022-8  Yevgeny Roizman: Russia arrests ex-mayor for d...   \n",
              "\n",
              "   event_occurances  \n",
              "0                 1  \n",
              "1                 1  \n",
              "2                 6  \n",
              "3                 1  "
            ],
            "text/html": [
              "\n",
              "  <div id=\"df-afd58662-8234-4b0a-a83c-bec2243020f6\">\n",
              "    <div class=\"colab-df-container\">\n",
              "      <div>\n",
              "<style scoped>\n",
              "    .dataframe tbody tr th:only-of-type {\n",
              "        vertical-align: middle;\n",
              "    }\n",
              "\n",
              "    .dataframe tbody tr th {\n",
              "        vertical-align: top;\n",
              "    }\n",
              "\n",
              "    .dataframe thead th {\n",
              "        text-align: right;\n",
              "    }\n",
              "</style>\n",
              "<table border=\"1\" class=\"dataframe\">\n",
              "  <thead>\n",
              "    <tr style=\"text-align: right;\">\n",
              "      <th></th>\n",
              "      <th>datetime</th>\n",
              "      <th>event</th>\n",
              "      <th>event_occurances</th>\n",
              "    </tr>\n",
              "  </thead>\n",
              "  <tbody>\n",
              "    <tr>\n",
              "      <th>0</th>\n",
              "      <td>2022-2</td>\n",
              "      <td>Russian authorities have blocked or removed ab...</td>\n",
              "      <td>1</td>\n",
              "    </tr>\n",
              "    <tr>\n",
              "      <th>1</th>\n",
              "      <td>2022-3</td>\n",
              "      <td>On 11 March 2022, Belarusian political police ...</td>\n",
              "      <td>1</td>\n",
              "    </tr>\n",
              "    <tr>\n",
              "      <th>2</th>\n",
              "      <td>2022-7</td>\n",
              "      <td>In April-July 2022, the Russian authorities pu...</td>\n",
              "      <td>6</td>\n",
              "    </tr>\n",
              "    <tr>\n",
              "      <th>3</th>\n",
              "      <td>2022-8</td>\n",
              "      <td>Yevgeny Roizman: Russia arrests ex-mayor for d...</td>\n",
              "      <td>1</td>\n",
              "    </tr>\n",
              "  </tbody>\n",
              "</table>\n",
              "</div>\n",
              "      <button class=\"colab-df-convert\" onclick=\"convertToInteractive('df-afd58662-8234-4b0a-a83c-bec2243020f6')\"\n",
              "              title=\"Convert this dataframe to an interactive table.\"\n",
              "              style=\"display:none;\">\n",
              "        \n",
              "  <svg xmlns=\"http://www.w3.org/2000/svg\" height=\"24px\"viewBox=\"0 0 24 24\"\n",
              "       width=\"24px\">\n",
              "    <path d=\"M0 0h24v24H0V0z\" fill=\"none\"/>\n",
              "    <path d=\"M18.56 5.44l.94 2.06.94-2.06 2.06-.94-2.06-.94-.94-2.06-.94 2.06-2.06.94zm-11 1L8.5 8.5l.94-2.06 2.06-.94-2.06-.94L8.5 2.5l-.94 2.06-2.06.94zm10 10l.94 2.06.94-2.06 2.06-.94-2.06-.94-.94-2.06-.94 2.06-2.06.94z\"/><path d=\"M17.41 7.96l-1.37-1.37c-.4-.4-.92-.59-1.43-.59-.52 0-1.04.2-1.43.59L10.3 9.45l-7.72 7.72c-.78.78-.78 2.05 0 2.83L4 21.41c.39.39.9.59 1.41.59.51 0 1.02-.2 1.41-.59l7.78-7.78 2.81-2.81c.8-.78.8-2.07 0-2.86zM5.41 20L4 18.59l7.72-7.72 1.47 1.35L5.41 20z\"/>\n",
              "  </svg>\n",
              "      </button>\n",
              "      \n",
              "  <style>\n",
              "    .colab-df-container {\n",
              "      display:flex;\n",
              "      flex-wrap:wrap;\n",
              "      gap: 12px;\n",
              "    }\n",
              "\n",
              "    .colab-df-convert {\n",
              "      background-color: #E8F0FE;\n",
              "      border: none;\n",
              "      border-radius: 50%;\n",
              "      cursor: pointer;\n",
              "      display: none;\n",
              "      fill: #1967D2;\n",
              "      height: 32px;\n",
              "      padding: 0 0 0 0;\n",
              "      width: 32px;\n",
              "    }\n",
              "\n",
              "    .colab-df-convert:hover {\n",
              "      background-color: #E2EBFA;\n",
              "      box-shadow: 0px 1px 2px rgba(60, 64, 67, 0.3), 0px 1px 3px 1px rgba(60, 64, 67, 0.15);\n",
              "      fill: #174EA6;\n",
              "    }\n",
              "\n",
              "    [theme=dark] .colab-df-convert {\n",
              "      background-color: #3B4455;\n",
              "      fill: #D2E3FC;\n",
              "    }\n",
              "\n",
              "    [theme=dark] .colab-df-convert:hover {\n",
              "      background-color: #434B5C;\n",
              "      box-shadow: 0px 1px 3px 1px rgba(0, 0, 0, 0.15);\n",
              "      filter: drop-shadow(0px 1px 2px rgba(0, 0, 0, 0.3));\n",
              "      fill: #FFFFFF;\n",
              "    }\n",
              "  </style>\n",
              "\n",
              "      <script>\n",
              "        const buttonEl =\n",
              "          document.querySelector('#df-afd58662-8234-4b0a-a83c-bec2243020f6 button.colab-df-convert');\n",
              "        buttonEl.style.display =\n",
              "          google.colab.kernel.accessAllowed ? 'block' : 'none';\n",
              "\n",
              "        async function convertToInteractive(key) {\n",
              "          const element = document.querySelector('#df-afd58662-8234-4b0a-a83c-bec2243020f6');\n",
              "          const dataTable =\n",
              "            await google.colab.kernel.invokeFunction('convertToInteractive',\n",
              "                                                     [key], {});\n",
              "          if (!dataTable) return;\n",
              "\n",
              "          const docLinkHtml = 'Like what you see? Visit the ' +\n",
              "            '<a target=\"_blank\" href=https://colab.research.google.com/notebooks/data_table.ipynb>data table notebook</a>'\n",
              "            + ' to learn more about interactive tables.';\n",
              "          element.innerHTML = '';\n",
              "          dataTable['output_type'] = 'display_data';\n",
              "          await google.colab.output.renderOutput(dataTable, element);\n",
              "          const docLink = document.createElement('div');\n",
              "          docLink.innerHTML = docLinkHtml;\n",
              "          element.appendChild(docLink);\n",
              "        }\n",
              "      </script>\n",
              "    </div>\n",
              "  </div>\n",
              "  "
            ]
          },
          "metadata": {},
          "execution_count": 78
        }
      ]
    },
    {
      "cell_type": "code",
      "source": [
        "events_all = pd.concat([censor1_2_3group, selected_g])\n",
        "events_all.drop(columns=['year', 'month'], inplace=True)"
      ],
      "metadata": {
        "id": "es9Ta4fBPx_3"
      },
      "execution_count": null,
      "outputs": []
    },
    {
      "cell_type": "markdown",
      "source": [
        "Arbitrary score for culmulative effect legislation and active policing: \n",
        "Value assignment is based on the following saying:\n",
        "\n",
        "“Строгость российских законов смягчается необязательностью их исполнения(Ru.m.wikipedia.org) \n",
        "\n",
        "“The severity of Russian laws is alleviated by the lack of obligation to fulfill them” (Translation kindly provided by SetarkoYT, https://twitter.com/SetarkoYT), \n",
        "\n",
        "Therefore by extension, although the passing of a new law or amendment may be noted (score=1), it will have little impact, until a very visible implementation, in the form of, for example, a jail sentence, occurs (score=2)."
      ],
      "metadata": {
        "id": "eAKwM_04YXlT"
      }
    },
    {
      "cell_type": "code",
      "source": [
        "import numpy as np\n",
        "key_words =['filtering', 'implementation', 'blacklist', 'block', 'law', 'restricted', 'ban', 'isolate', \n",
        "            'fine', 'harrasment', 'criminal','throttling', 'step down', 'resign', 'killings', 'harassed', 'suppress', 'detained', 'arrested']\n",
        "key_words2 = ['jail', 'sentenced', 'prison']\n",
        "\n",
        "key_words_regex = \"|\".join(key_words)\n",
        "key_words2_regex = \"|\".join(key_words2)"
      ],
      "metadata": {
        "id": "mvN5xfJt4k08"
      },
      "execution_count": null,
      "outputs": []
    },
    {
      "cell_type": "code",
      "source": [
        "events_all['arbitrary_score'] = np.add((np.where(events_all['event'].str.contains(key_words_regex, regex=True), 1, 0.1)), \n",
        "       (np.where(events_all['event'].str.contains(key_words2_regex, regex=True), 2, 0.1)))"
      ],
      "metadata": {
        "id": "QGfMQPG5430g"
      },
      "execution_count": null,
      "outputs": []
    },
    {
      "cell_type": "code",
      "source": [
        "\n",
        "events_all['count_words']=events_all['event'].str.count(key_words_regex)\n",
        "events_all['count_word2']=events_all['event'].str.count(key_words2_regex)\n",
        "events_all.reset_index(drop=True, inplace=True)"
      ],
      "metadata": {
        "id": "FtqiAWeYRINX"
      },
      "execution_count": null,
      "outputs": []
    },
    {
      "cell_type": "code",
      "source": [
        "arb_score = ((events_all['count_words'] + events_all['count_word2']+events_all['event_occurances'] ) *events_all['arbitrary_score']).cumsum()"
      ],
      "metadata": {
        "id": "MQDlrot8dgvj"
      },
      "execution_count": null,
      "outputs": []
    },
    {
      "cell_type": "code",
      "source": [
        "a, b = 1, 95\n",
        "x, y = arb_score.min(), arb_score.max()\n",
        "cens_score = (arb_score - x) / (y - x) * (b - a) + a\n",
        "cens_score.tail()"
      ],
      "metadata": {
        "colab": {
          "base_uri": "https://localhost:8080/"
        },
        "id": "Wi1rg4uNdVby",
        "outputId": "5c55689e-89b0-4ec2-ad79-0d558fa5fa2e"
      },
      "execution_count": null,
      "outputs": [
        {
          "output_type": "execute_result",
          "data": {
            "text/plain": [
              "65    89.499602\n",
              "66    89.828431\n",
              "67    90.486087\n",
              "68    94.970107\n",
              "69    95.000000\n",
              "dtype: float64"
            ]
          },
          "metadata": {},
          "execution_count": 84
        }
      ]
    },
    {
      "cell_type": "code",
      "source": [
        "events_all['censor_score'] = cens_score\n",
        "events_all.tail()"
      ],
      "metadata": {
        "colab": {
          "base_uri": "https://localhost:8080/",
          "height": 206
        },
        "id": "R1dBj-Jed3Jr",
        "outputId": "231c65cc-f27a-44c2-aa6a-83b5df5d57f6"
      },
      "execution_count": null,
      "outputs": [
        {
          "output_type": "execute_result",
          "data": {
            "text/plain": [
              "   datetime                                              event  \\\n",
              "65   2022-3  In March 2022, amid its invasion of Ukraine, R...   \n",
              "66   2022-2  Russian authorities have blocked or removed ab...   \n",
              "67   2022-3  On 11 March 2022, Belarusian political police ...   \n",
              "68   2022-7  In April-July 2022, the Russian authorities pu...   \n",
              "69   2022-8  Yevgeny Roizman: Russia arrests ex-mayor for d...   \n",
              "\n",
              "    event_occurances  arbitrary_score  count_words  count_word2  censor_score  \n",
              "65                14              3.0           16            1     89.499602  \n",
              "66                 1              1.1            1            0     89.828431  \n",
              "67                 1              1.1            3            0     90.486087  \n",
              "68                 6              3.0            3            1     94.970107  \n",
              "69                 1              0.2            0            0     95.000000  "
            ],
            "text/html": [
              "\n",
              "  <div id=\"df-c1855fd5-e2e6-42a5-8f35-140b67a6743d\">\n",
              "    <div class=\"colab-df-container\">\n",
              "      <div>\n",
              "<style scoped>\n",
              "    .dataframe tbody tr th:only-of-type {\n",
              "        vertical-align: middle;\n",
              "    }\n",
              "\n",
              "    .dataframe tbody tr th {\n",
              "        vertical-align: top;\n",
              "    }\n",
              "\n",
              "    .dataframe thead th {\n",
              "        text-align: right;\n",
              "    }\n",
              "</style>\n",
              "<table border=\"1\" class=\"dataframe\">\n",
              "  <thead>\n",
              "    <tr style=\"text-align: right;\">\n",
              "      <th></th>\n",
              "      <th>datetime</th>\n",
              "      <th>event</th>\n",
              "      <th>event_occurances</th>\n",
              "      <th>arbitrary_score</th>\n",
              "      <th>count_words</th>\n",
              "      <th>count_word2</th>\n",
              "      <th>censor_score</th>\n",
              "    </tr>\n",
              "  </thead>\n",
              "  <tbody>\n",
              "    <tr>\n",
              "      <th>65</th>\n",
              "      <td>2022-3</td>\n",
              "      <td>In March 2022, amid its invasion of Ukraine, R...</td>\n",
              "      <td>14</td>\n",
              "      <td>3.0</td>\n",
              "      <td>16</td>\n",
              "      <td>1</td>\n",
              "      <td>89.499602</td>\n",
              "    </tr>\n",
              "    <tr>\n",
              "      <th>66</th>\n",
              "      <td>2022-2</td>\n",
              "      <td>Russian authorities have blocked or removed ab...</td>\n",
              "      <td>1</td>\n",
              "      <td>1.1</td>\n",
              "      <td>1</td>\n",
              "      <td>0</td>\n",
              "      <td>89.828431</td>\n",
              "    </tr>\n",
              "    <tr>\n",
              "      <th>67</th>\n",
              "      <td>2022-3</td>\n",
              "      <td>On 11 March 2022, Belarusian political police ...</td>\n",
              "      <td>1</td>\n",
              "      <td>1.1</td>\n",
              "      <td>3</td>\n",
              "      <td>0</td>\n",
              "      <td>90.486087</td>\n",
              "    </tr>\n",
              "    <tr>\n",
              "      <th>68</th>\n",
              "      <td>2022-7</td>\n",
              "      <td>In April-July 2022, the Russian authorities pu...</td>\n",
              "      <td>6</td>\n",
              "      <td>3.0</td>\n",
              "      <td>3</td>\n",
              "      <td>1</td>\n",
              "      <td>94.970107</td>\n",
              "    </tr>\n",
              "    <tr>\n",
              "      <th>69</th>\n",
              "      <td>2022-8</td>\n",
              "      <td>Yevgeny Roizman: Russia arrests ex-mayor for d...</td>\n",
              "      <td>1</td>\n",
              "      <td>0.2</td>\n",
              "      <td>0</td>\n",
              "      <td>0</td>\n",
              "      <td>95.000000</td>\n",
              "    </tr>\n",
              "  </tbody>\n",
              "</table>\n",
              "</div>\n",
              "      <button class=\"colab-df-convert\" onclick=\"convertToInteractive('df-c1855fd5-e2e6-42a5-8f35-140b67a6743d')\"\n",
              "              title=\"Convert this dataframe to an interactive table.\"\n",
              "              style=\"display:none;\">\n",
              "        \n",
              "  <svg xmlns=\"http://www.w3.org/2000/svg\" height=\"24px\"viewBox=\"0 0 24 24\"\n",
              "       width=\"24px\">\n",
              "    <path d=\"M0 0h24v24H0V0z\" fill=\"none\"/>\n",
              "    <path d=\"M18.56 5.44l.94 2.06.94-2.06 2.06-.94-2.06-.94-.94-2.06-.94 2.06-2.06.94zm-11 1L8.5 8.5l.94-2.06 2.06-.94-2.06-.94L8.5 2.5l-.94 2.06-2.06.94zm10 10l.94 2.06.94-2.06 2.06-.94-2.06-.94-.94-2.06-.94 2.06-2.06.94z\"/><path d=\"M17.41 7.96l-1.37-1.37c-.4-.4-.92-.59-1.43-.59-.52 0-1.04.2-1.43.59L10.3 9.45l-7.72 7.72c-.78.78-.78 2.05 0 2.83L4 21.41c.39.39.9.59 1.41.59.51 0 1.02-.2 1.41-.59l7.78-7.78 2.81-2.81c.8-.78.8-2.07 0-2.86zM5.41 20L4 18.59l7.72-7.72 1.47 1.35L5.41 20z\"/>\n",
              "  </svg>\n",
              "      </button>\n",
              "      \n",
              "  <style>\n",
              "    .colab-df-container {\n",
              "      display:flex;\n",
              "      flex-wrap:wrap;\n",
              "      gap: 12px;\n",
              "    }\n",
              "\n",
              "    .colab-df-convert {\n",
              "      background-color: #E8F0FE;\n",
              "      border: none;\n",
              "      border-radius: 50%;\n",
              "      cursor: pointer;\n",
              "      display: none;\n",
              "      fill: #1967D2;\n",
              "      height: 32px;\n",
              "      padding: 0 0 0 0;\n",
              "      width: 32px;\n",
              "    }\n",
              "\n",
              "    .colab-df-convert:hover {\n",
              "      background-color: #E2EBFA;\n",
              "      box-shadow: 0px 1px 2px rgba(60, 64, 67, 0.3), 0px 1px 3px 1px rgba(60, 64, 67, 0.15);\n",
              "      fill: #174EA6;\n",
              "    }\n",
              "\n",
              "    [theme=dark] .colab-df-convert {\n",
              "      background-color: #3B4455;\n",
              "      fill: #D2E3FC;\n",
              "    }\n",
              "\n",
              "    [theme=dark] .colab-df-convert:hover {\n",
              "      background-color: #434B5C;\n",
              "      box-shadow: 0px 1px 3px 1px rgba(0, 0, 0, 0.15);\n",
              "      filter: drop-shadow(0px 1px 2px rgba(0, 0, 0, 0.3));\n",
              "      fill: #FFFFFF;\n",
              "    }\n",
              "  </style>\n",
              "\n",
              "      <script>\n",
              "        const buttonEl =\n",
              "          document.querySelector('#df-c1855fd5-e2e6-42a5-8f35-140b67a6743d button.colab-df-convert');\n",
              "        buttonEl.style.display =\n",
              "          google.colab.kernel.accessAllowed ? 'block' : 'none';\n",
              "\n",
              "        async function convertToInteractive(key) {\n",
              "          const element = document.querySelector('#df-c1855fd5-e2e6-42a5-8f35-140b67a6743d');\n",
              "          const dataTable =\n",
              "            await google.colab.kernel.invokeFunction('convertToInteractive',\n",
              "                                                     [key], {});\n",
              "          if (!dataTable) return;\n",
              "\n",
              "          const docLinkHtml = 'Like what you see? Visit the ' +\n",
              "            '<a target=\"_blank\" href=https://colab.research.google.com/notebooks/data_table.ipynb>data table notebook</a>'\n",
              "            + ' to learn more about interactive tables.';\n",
              "          element.innerHTML = '';\n",
              "          dataTable['output_type'] = 'display_data';\n",
              "          await google.colab.output.renderOutput(dataTable, element);\n",
              "          const docLink = document.createElement('div');\n",
              "          docLink.innerHTML = docLinkHtml;\n",
              "          element.appendChild(docLink);\n",
              "        }\n",
              "      </script>\n",
              "    </div>\n",
              "  </div>\n",
              "  "
            ]
          },
          "metadata": {},
          "execution_count": 85
        }
      ]
    },
    {
      "cell_type": "code",
      "source": [
        "events_all.to_csv('/content/drive/MyDrive/RUSSdata/wiki/'+date+'/censorship_plus.csv', index=False)#use this when running whole notebook\n"
      ],
      "metadata": {
        "id": "PTEdMv8L4Ymh"
      },
      "execution_count": null,
      "outputs": []
    },
    {
      "cell_type": "markdown",
      "source": [
        "# Cleaning journalists data"
      ],
      "metadata": {
        "id": "4tKWqRVYJ7Z6"
      }
    },
    {
      "cell_type": "code",
      "source": [
        "url_j = 'https://en.wikipedia.org/wiki/List_of_journalists_killed_in_Russia'\n",
        "\n",
        "page_j = requests.get(url_j)\n",
        "soup_j = BeautifulSoup(page_j.content, 'html.parser')"
      ],
      "metadata": {
        "id": "o4vYp17u4jmQ"
      },
      "execution_count": null,
      "outputs": []
    },
    {
      "cell_type": "code",
      "source": [
        "testo1 = []\n",
        "for header in soup_j.find_all(['h4']):\n",
        "  head = (header.get_text())\n",
        "  head = re.sub(r'\\[.*?\\]', \"\",head )\n",
        "  for ele in header.find_next_sibling():\n",
        "    if ele.name == 'li':\n",
        "      event=(ele.get_text())\n",
        "      event=re.sub(r'\\[.*?\\]', \"\",event)\n",
        "      for month in months:\n",
        "        if month in event:\n",
        "          mo =month\n",
        "      datum = head,mo, event\n",
        "      testo1.append(datum)"
      ],
      "metadata": {
        "id": "8Qsuypys4lmU"
      },
      "execution_count": null,
      "outputs": []
    },
    {
      "cell_type": "code",
      "source": [
        "journalist = pd.DataFrame.from_records(testo1, columns=['year', 'month','event'])"
      ],
      "metadata": {
        "id": "R-7GUgZ54nsX"
      },
      "execution_count": null,
      "outputs": []
    },
    {
      "cell_type": "code",
      "source": [
        "journalist_group = journalist.groupby(['year','month'])['event'].apply(' \\\\'.join).reset_index()\n",
        "count_j = (journalist.groupby(['year','month']).count()).reset_index()\n",
        "journalist_group['event_occurances'] = count_j ['event']"
      ],
      "metadata": {
        "id": "K5J2f7LQ4qOJ"
      },
      "execution_count": null,
      "outputs": []
    },
    {
      "cell_type": "code",
      "source": [
        "tables = pd.read_html(url_j)"
      ],
      "metadata": {
        "id": "2YBUkZKNFPKE"
      },
      "execution_count": null,
      "outputs": []
    },
    {
      "cell_type": "code",
      "source": [
        "tablej = tables[0]"
      ],
      "metadata": {
        "id": "mL06FvNOFt5D"
      },
      "execution_count": null,
      "outputs": []
    },
    {
      "cell_type": "code",
      "source": [
        "tablej = tablej .T.reset_index()"
      ],
      "metadata": {
        "id": "L8GztJ1KGUD3"
      },
      "execution_count": null,
      "outputs": []
    },
    {
      "cell_type": "code",
      "source": [
        "cols = tablej.iloc[0]"
      ],
      "metadata": {
        "id": "HIExR8jNIFH1"
      },
      "execution_count": null,
      "outputs": []
    },
    {
      "cell_type": "code",
      "source": [
        "tablej_head = tablej[1:-1]"
      ],
      "metadata": {
        "id": "AIe834YIIZvD"
      },
      "execution_count": null,
      "outputs": []
    },
    {
      "cell_type": "code",
      "source": [
        "tablej_head.columns= cols"
      ],
      "metadata": {
        "id": "EPo5znmwHiYr"
      },
      "execution_count": null,
      "outputs": []
    },
    {
      "cell_type": "code",
      "source": [
        "wiki_tb = tablej_head[['Year', 'Murder only']]"
      ],
      "metadata": {
        "id": "TycF5rl_Fv8N"
      },
      "execution_count": null,
      "outputs": []
    },
    {
      "cell_type": "code",
      "source": [
        "wiki_tb.columns = ['year', 'event_occurances']"
      ],
      "metadata": {
        "id": "i9Uu9iNBN4xo"
      },
      "execution_count": null,
      "outputs": []
    },
    {
      "cell_type": "code",
      "source": [
        "date_time_j = journalist_group.year.str.strip() +\"-\"+ pd.to_datetime(journalist_group.month, format='%B').dt.month.astype(str) \n",
        "journalist_group.insert(loc=0, column='datetime', value=date_time_j )"
      ],
      "metadata": {
        "id": "x9gr5i64De3m"
      },
      "execution_count": null,
      "outputs": []
    },
    {
      "cell_type": "code",
      "source": [
        "journl_sft = journalist_group.groupby('year')['event_occurances'].sum().reset_index()"
      ],
      "metadata": {
        "id": "OcdY-_sGEUv1"
      },
      "execution_count": null,
      "outputs": []
    },
    {
      "cell_type": "code",
      "source": [
        "add_on_j = journl_sft[2:]"
      ],
      "metadata": {
        "id": "BpMQ8FE2OFWu"
      },
      "execution_count": null,
      "outputs": []
    },
    {
      "cell_type": "code",
      "source": [
        "journalists_death = pd.concat([wiki_tb, add_on_j])\n",
        "journalists_death.tail()"
      ],
      "metadata": {
        "colab": {
          "base_uri": "https://localhost:8080/",
          "height": 206
        },
        "id": "jfEhhs5wOvLn",
        "outputId": "a0b3d956-27e6-47ed-c02d-283c94fdcee2"
      },
      "execution_count": null,
      "outputs": [
        {
          "output_type": "execute_result",
          "data": {
            "text/plain": [
              "    year event_occurances\n",
              "6   2014                1\n",
              "7   2016                1\n",
              "8   2017                4\n",
              "9   2018                5\n",
              "10  2022                3"
            ],
            "text/html": [
              "\n",
              "  <div id=\"df-c23e487e-4b31-4bf4-ac6a-e206e73aa6ae\">\n",
              "    <div class=\"colab-df-container\">\n",
              "      <div>\n",
              "<style scoped>\n",
              "    .dataframe tbody tr th:only-of-type {\n",
              "        vertical-align: middle;\n",
              "    }\n",
              "\n",
              "    .dataframe tbody tr th {\n",
              "        vertical-align: top;\n",
              "    }\n",
              "\n",
              "    .dataframe thead th {\n",
              "        text-align: right;\n",
              "    }\n",
              "</style>\n",
              "<table border=\"1\" class=\"dataframe\">\n",
              "  <thead>\n",
              "    <tr style=\"text-align: right;\">\n",
              "      <th></th>\n",
              "      <th>year</th>\n",
              "      <th>event_occurances</th>\n",
              "    </tr>\n",
              "  </thead>\n",
              "  <tbody>\n",
              "    <tr>\n",
              "      <th>6</th>\n",
              "      <td>2014</td>\n",
              "      <td>1</td>\n",
              "    </tr>\n",
              "    <tr>\n",
              "      <th>7</th>\n",
              "      <td>2016</td>\n",
              "      <td>1</td>\n",
              "    </tr>\n",
              "    <tr>\n",
              "      <th>8</th>\n",
              "      <td>2017</td>\n",
              "      <td>4</td>\n",
              "    </tr>\n",
              "    <tr>\n",
              "      <th>9</th>\n",
              "      <td>2018</td>\n",
              "      <td>5</td>\n",
              "    </tr>\n",
              "    <tr>\n",
              "      <th>10</th>\n",
              "      <td>2022</td>\n",
              "      <td>3</td>\n",
              "    </tr>\n",
              "  </tbody>\n",
              "</table>\n",
              "</div>\n",
              "      <button class=\"colab-df-convert\" onclick=\"convertToInteractive('df-c23e487e-4b31-4bf4-ac6a-e206e73aa6ae')\"\n",
              "              title=\"Convert this dataframe to an interactive table.\"\n",
              "              style=\"display:none;\">\n",
              "        \n",
              "  <svg xmlns=\"http://www.w3.org/2000/svg\" height=\"24px\"viewBox=\"0 0 24 24\"\n",
              "       width=\"24px\">\n",
              "    <path d=\"M0 0h24v24H0V0z\" fill=\"none\"/>\n",
              "    <path d=\"M18.56 5.44l.94 2.06.94-2.06 2.06-.94-2.06-.94-.94-2.06-.94 2.06-2.06.94zm-11 1L8.5 8.5l.94-2.06 2.06-.94-2.06-.94L8.5 2.5l-.94 2.06-2.06.94zm10 10l.94 2.06.94-2.06 2.06-.94-2.06-.94-.94-2.06-.94 2.06-2.06.94z\"/><path d=\"M17.41 7.96l-1.37-1.37c-.4-.4-.92-.59-1.43-.59-.52 0-1.04.2-1.43.59L10.3 9.45l-7.72 7.72c-.78.78-.78 2.05 0 2.83L4 21.41c.39.39.9.59 1.41.59.51 0 1.02-.2 1.41-.59l7.78-7.78 2.81-2.81c.8-.78.8-2.07 0-2.86zM5.41 20L4 18.59l7.72-7.72 1.47 1.35L5.41 20z\"/>\n",
              "  </svg>\n",
              "      </button>\n",
              "      \n",
              "  <style>\n",
              "    .colab-df-container {\n",
              "      display:flex;\n",
              "      flex-wrap:wrap;\n",
              "      gap: 12px;\n",
              "    }\n",
              "\n",
              "    .colab-df-convert {\n",
              "      background-color: #E8F0FE;\n",
              "      border: none;\n",
              "      border-radius: 50%;\n",
              "      cursor: pointer;\n",
              "      display: none;\n",
              "      fill: #1967D2;\n",
              "      height: 32px;\n",
              "      padding: 0 0 0 0;\n",
              "      width: 32px;\n",
              "    }\n",
              "\n",
              "    .colab-df-convert:hover {\n",
              "      background-color: #E2EBFA;\n",
              "      box-shadow: 0px 1px 2px rgba(60, 64, 67, 0.3), 0px 1px 3px 1px rgba(60, 64, 67, 0.15);\n",
              "      fill: #174EA6;\n",
              "    }\n",
              "\n",
              "    [theme=dark] .colab-df-convert {\n",
              "      background-color: #3B4455;\n",
              "      fill: #D2E3FC;\n",
              "    }\n",
              "\n",
              "    [theme=dark] .colab-df-convert:hover {\n",
              "      background-color: #434B5C;\n",
              "      box-shadow: 0px 1px 3px 1px rgba(0, 0, 0, 0.15);\n",
              "      filter: drop-shadow(0px 1px 2px rgba(0, 0, 0, 0.3));\n",
              "      fill: #FFFFFF;\n",
              "    }\n",
              "  </style>\n",
              "\n",
              "      <script>\n",
              "        const buttonEl =\n",
              "          document.querySelector('#df-c23e487e-4b31-4bf4-ac6a-e206e73aa6ae button.colab-df-convert');\n",
              "        buttonEl.style.display =\n",
              "          google.colab.kernel.accessAllowed ? 'block' : 'none';\n",
              "\n",
              "        async function convertToInteractive(key) {\n",
              "          const element = document.querySelector('#df-c23e487e-4b31-4bf4-ac6a-e206e73aa6ae');\n",
              "          const dataTable =\n",
              "            await google.colab.kernel.invokeFunction('convertToInteractive',\n",
              "                                                     [key], {});\n",
              "          if (!dataTable) return;\n",
              "\n",
              "          const docLinkHtml = 'Like what you see? Visit the ' +\n",
              "            '<a target=\"_blank\" href=https://colab.research.google.com/notebooks/data_table.ipynb>data table notebook</a>'\n",
              "            + ' to learn more about interactive tables.';\n",
              "          element.innerHTML = '';\n",
              "          dataTable['output_type'] = 'display_data';\n",
              "          await google.colab.output.renderOutput(dataTable, element);\n",
              "          const docLink = document.createElement('div');\n",
              "          docLink.innerHTML = docLinkHtml;\n",
              "          element.appendChild(docLink);\n",
              "        }\n",
              "      </script>\n",
              "    </div>\n",
              "  </div>\n",
              "  "
            ]
          },
          "metadata": {},
          "execution_count": 102
        }
      ]
    },
    {
      "cell_type": "code",
      "source": [
        "journalists_death.to_csv('/content/drive/MyDrive/RUSSdata/wiki/'+date+'/journalists_death.csv', index=False)#use this when running whole notebook\n",
        "#journalist_group.to_csv('/content/drive/MyDrive/RUSSdata/2022-07-20/journalists_death.csv', index=False)"
      ],
      "metadata": {
        "id": "B3PuibEY4sWM"
      },
      "execution_count": null,
      "outputs": []
    },
    {
      "cell_type": "markdown",
      "source": [
        "# Fred Data"
      ],
      "metadata": {
        "id": "knayIo_oLDyu"
      }
    },
    {
      "cell_type": "code",
      "source": [
        "!pip install full-fred\n",
        "\n",
        "# https://github.com/7astro7/full_fred"
      ],
      "metadata": {
        "id": "wv0M05mKKL5s",
        "colab": {
          "base_uri": "https://localhost:8080/"
        },
        "outputId": "4ccbd833-3cc8-4cda-9849-db11671b9e6b"
      },
      "execution_count": null,
      "outputs": [
        {
          "output_type": "stream",
          "name": "stdout",
          "text": [
            "Looking in indexes: https://pypi.org/simple, https://us-python.pkg.dev/colab-wheels/public/simple/\n",
            "Collecting full-fred\n",
            "  Downloading full_fred-0.0.9a3-py3-none-any.whl (47 kB)\n",
            "\u001b[K     |████████████████████████████████| 47 kB 4.7 MB/s \n",
            "\u001b[?25hRequirement already satisfied: requests in /usr/local/lib/python3.7/dist-packages (from full-fred) (2.23.0)\n",
            "Requirement already satisfied: pandas in /usr/local/lib/python3.7/dist-packages (from full-fred) (1.3.5)\n",
            "Requirement already satisfied: pytz>=2017.3 in /usr/local/lib/python3.7/dist-packages (from pandas->full-fred) (2022.2.1)\n",
            "Requirement already satisfied: python-dateutil>=2.7.3 in /usr/local/lib/python3.7/dist-packages (from pandas->full-fred) (2.8.2)\n",
            "Requirement already satisfied: numpy>=1.17.3 in /usr/local/lib/python3.7/dist-packages (from pandas->full-fred) (1.21.6)\n",
            "Requirement already satisfied: six>=1.5 in /usr/local/lib/python3.7/dist-packages (from python-dateutil>=2.7.3->pandas->full-fred) (1.15.0)\n",
            "Requirement already satisfied: chardet<4,>=3.0.2 in /usr/local/lib/python3.7/dist-packages (from requests->full-fred) (3.0.4)\n",
            "Requirement already satisfied: idna<3,>=2.5 in /usr/local/lib/python3.7/dist-packages (from requests->full-fred) (2.10)\n",
            "Requirement already satisfied: urllib3!=1.25.0,!=1.25.1,<1.26,>=1.21.1 in /usr/local/lib/python3.7/dist-packages (from requests->full-fred) (1.24.3)\n",
            "Requirement already satisfied: certifi>=2017.4.17 in /usr/local/lib/python3.7/dist-packages (from requests->full-fred) (2022.6.15)\n",
            "Installing collected packages: full-fred\n",
            "Successfully installed full-fred-0.0.9a3\n"
          ]
        }
      ]
    },
    {
      "cell_type": "code",
      "source": [
        "import pandas as pd\n",
        "import numpy as np"
      ],
      "metadata": {
        "id": "w1HEQ37-KOni"
      },
      "execution_count": null,
      "outputs": []
    },
    {
      "cell_type": "code",
      "source": [
        "from full_fred.fred import Fred\n",
        "\n",
        "fred = Fred('/content/drive/MyDrive/RUSSdata/fred_api_key.txt')\n",
        "\n",
        "fred.get_api_key_file()"
      ],
      "metadata": {
        "id": "KQt64OjcKQo9",
        "colab": {
          "base_uri": "https://localhost:8080/",
          "height": 35
        },
        "outputId": "e9ca021d-89d4-4f82-d8dc-459659b399ed"
      },
      "execution_count": null,
      "outputs": [
        {
          "output_type": "execute_result",
          "data": {
            "text/plain": [
              "'/content/drive/MyDrive/RUSSdata/fred_api_key.txt'"
            ],
            "application/vnd.google.colaboratory.intrinsic+json": {
              "type": "string"
            }
          },
          "metadata": {},
          "execution_count": 106
        }
      ]
    },
    {
      "cell_type": "code",
      "source": [
        "commodities = ['WPU01830161','PSUNOUSDM','PWHEAMTUSDM', 'DCOILBRENTEU', 'PNGASEUUSDM','POILBREUSDM', 'CCUSMA02RUM618N', 'SIPOVGINICHN','SIPOVGINIRUS','SIPOVGINIUSA','NYGDPPCAPKDCHN','NYGDPPCAPKDRUS','NYGDPPCAPKDUSA']\n",
        "names = ['sunflower','sunflower_oil', 'wheat', 'oil_eu', 'natural_gas_eu', 'Brent_Crude_Global','ruble', 'GINI_China','GINI_Rus','GINI_US','Constant_GDP_per_capita_China','Constant_GDP_per_capita_Rus','Constant_GDP_per_capita_US' ]\n"
      ],
      "metadata": {
        "id": "HYW9KIhfKS2V"
      },
      "execution_count": null,
      "outputs": []
    },
    {
      "cell_type": "markdown",
      "source": [
        "Citations:\n",
        "\n",
        "U.S. Bureau of Labor Statistics, Producer Price Index by Commodity: Farm Products: Sunflower [WPU01830161], retrieved from FRED, Federal Reserve Bank of St. Louis; https://fred.stlouisfed.org/series/WPU01830161, July 21, 2022.\n",
        "\n",
        "International Monetary Fund, Global price of Sunflower Oil [PSUNOUSDM], retrieved from FRED, Federal Reserve Bank of St. Louis; https://fred.stlouisfed.org/series/PSUNOUSDM, July 20, 2022.\n",
        "\n",
        "International Monetary Fund, Global price of Wheat [PWHEAMTUSDM], retrieved from FRED, Federal Reserve Bank of St. Louis; https://fred.stlouisfed.org/series/PWHEAMTUSDM, July 20, 2022.\n",
        "\n",
        "U.S. Energy Information Administration, Crude Oil Prices: Brent - Europe [DCOILBRENTEU], retrieved from FRED, Federal Reserve Bank of St. Louis; https://fred.stlouisfed.org/series/DCOILBRENTEU, July 20, 2022.\n",
        "\n",
        "International Monetary Fund, Global price of Natural gas, EU [PNGASEUUSDM], retrieved from FRED, Federal Reserve Bank of St. Louis; https://fred.stlouisfed.org/series/PNGASEUUSDM, July 20, 2022.\n",
        "\n",
        "International Monetary Fund, Global price of Brent Crude [POILBREUSDM], retrieved from FRED, Federal Reserve Bank of St. Louis; https://fred.stlouisfed.org/series/POILBREUSDM, July 20, 2022.\n",
        "\n",
        "Organization for Economic Co-operation and Development, National Currency to US Dollar Exchange Rate: Average of Daily Rates for the Russian Federation [CCUSMA02RUM618N], retrieved from FRED, Federal Reserve Bank of St. Louis; https://fred.stlouisfed.org/series/CCUSMA02RUM618N, July 20, 2022\n",
        "\n",
        "\n",
        "World Bank, GINI Index for the United States [SIPOVGINIUSA], retrieved from FRED, Federal Reserve Bank of St. Louis; https://fred.stlouisfed.org/series/SIPOVGINIUSA, July 24, 2022.\n",
        "\n",
        "https://fred.stlouisfed.org/series/NYGDPPCAPKDCHN World Bank, Constant GDP per capita for China [NYGDPPCAPKDCHN], retrieved from FRED, Federal Reserve Bank of St. Louis; https://fred.stlouisfed.org/series/NYGDPPCAPKDCHN, July 23, 2022.\n",
        "\n",
        "https://fred.stlouisfed.org/series/NYGDPPCAPKDRUS World Bank, Constant GDP per capita for the Russian Federation [NYGDPPCAPKDRUS], retrieved from FRED, Federal Reserve Bank of St. Louis; https://fred.stlouisfed.org/series/NYGDPPCAPKDRUS, July 23, 2022.\n",
        "\n",
        "https://fred.stlouisfed.org/series/NYGDPPCAPKDUSA\n",
        "\n",
        "World Bank, Constant GDP per capita for the United States [NYGDPPCAPKDUSA], retrieved from FRED, Federal Reserve Bank of St. Louis; https://fred.stlouisfed.org/series/NYGDPPCAPKDUSA, July 23, 2022. \n",
        "\n",
        "https://www.reuters.com/world/china/what-is-chinas-common-prosperity-drive-why-does-it-matter-2021-09-02/ BEIJING, Sept 2 (Reuters) - President Xi Jinping has called for China to achieve \"common prosperity\", seeking to narrow a yawning wealth gap that threatens the country's economic ascent and the legitimacy of Communist Party rule.\n",
        "\n",
        "President Xi Assumed office 15 November 2012"
      ],
      "metadata": {
        "id": "BZdmz-pgKZ7G"
      }
    },
    {
      "cell_type": "code",
      "source": [
        "d_names = dict(zip(commodities,names))\n"
      ],
      "metadata": {
        "id": "kz855p2j7zVs"
      },
      "execution_count": null,
      "outputs": []
    },
    {
      "cell_type": "code",
      "source": [
        "comm_data= {}\n",
        "\n",
        "for item in commodities:\n",
        "  temp= fred.get_series_df(item)\n",
        "  temp = temp[['date', 'value']]\n",
        "  temp['value'] = pd.to_numeric(temp['value'], errors='coerce').fillna(np.NaN)\n",
        "  temp = temp.rename(columns={'value':item})\n",
        "  temp['date'] = pd.to_datetime(temp['date'],format='%Y/%m/%d')\n",
        "  #df_list.append(temp)\n",
        "  comm_data[item] = temp\n"
      ],
      "metadata": {
        "id": "E2H9Oam7KXNl",
        "colab": {
          "base_uri": "https://localhost:8080/"
        },
        "outputId": "299d5cc5-a3f4-4a8f-f7e6-8d9e3ab51969"
      },
      "execution_count": null,
      "outputs": [
        {
          "output_type": "stream",
          "name": "stderr",
          "text": [
            "/usr/local/lib/python3.7/dist-packages/ipykernel_launcher.py:6: SettingWithCopyWarning: \n",
            "A value is trying to be set on a copy of a slice from a DataFrame.\n",
            "Try using .loc[row_indexer,col_indexer] = value instead\n",
            "\n",
            "See the caveats in the documentation: https://pandas.pydata.org/pandas-docs/stable/user_guide/indexing.html#returning-a-view-versus-a-copy\n",
            "  \n"
          ]
        }
      ]
    },
    {
      "cell_type": "code",
      "source": [
        "# Change from 1 Dollar to Ruble ---> 1 Ruble to Dollar\n",
        "\n",
        "comm_data['CCUSMA02RUM618N']['CCUSMA02RUM618N'] = 1/comm_data['CCUSMA02RUM618N']['CCUSMA02RUM618N']\n"
      ],
      "metadata": {
        "id": "oMHd5yYACEvR"
      },
      "execution_count": null,
      "outputs": []
    },
    {
      "cell_type": "code",
      "source": [
        "import pathlib\n",
        "from datetime import date\n",
        "\n",
        "date = str(date.today())\n",
        "\n",
        "\n",
        "new_dir = pathlib.Path('/content/drive/MyDrive/RUSSdata/Fred_data/', date)\n",
        "new_dir.mkdir(parents=True, exist_ok=True)\n",
        "\n",
        "for data in comm_data:\n",
        "  comm_data[data].to_csv(str(new_dir)+'/'+ data+'.csv', index=False)"
      ],
      "metadata": {
        "id": "wICwYYXL_mRD"
      },
      "execution_count": null,
      "outputs": []
    },
    {
      "cell_type": "markdown",
      "source": [
        "# World Bank data"
      ],
      "metadata": {
        "id": "y5KprgMfu9Hg"
      }
    },
    {
      "cell_type": "code",
      "source": [
        "!pip install wbgapi"
      ],
      "metadata": {
        "id": "XTP9GB6Bu6yW",
        "colab": {
          "base_uri": "https://localhost:8080/"
        },
        "outputId": "5e551cf4-bbc6-4150-bd9b-fd1a4102963b"
      },
      "execution_count": null,
      "outputs": [
        {
          "output_type": "stream",
          "name": "stdout",
          "text": [
            "Looking in indexes: https://pypi.org/simple, https://us-python.pkg.dev/colab-wheels/public/simple/\n",
            "Collecting wbgapi\n",
            "  Downloading wbgapi-1.0.12-py3-none-any.whl (36 kB)\n",
            "Requirement already satisfied: requests in /usr/local/lib/python3.7/dist-packages (from wbgapi) (2.23.0)\n",
            "Requirement already satisfied: tabulate in /usr/local/lib/python3.7/dist-packages (from wbgapi) (0.8.10)\n",
            "Requirement already satisfied: PyYAML in /usr/local/lib/python3.7/dist-packages (from wbgapi) (6.0)\n",
            "Requirement already satisfied: chardet<4,>=3.0.2 in /usr/local/lib/python3.7/dist-packages (from requests->wbgapi) (3.0.4)\n",
            "Requirement already satisfied: certifi>=2017.4.17 in /usr/local/lib/python3.7/dist-packages (from requests->wbgapi) (2022.6.15)\n",
            "Requirement already satisfied: urllib3!=1.25.0,!=1.25.1,<1.26,>=1.21.1 in /usr/local/lib/python3.7/dist-packages (from requests->wbgapi) (1.24.3)\n",
            "Requirement already satisfied: idna<3,>=2.5 in /usr/local/lib/python3.7/dist-packages (from requests->wbgapi) (2.10)\n",
            "Installing collected packages: wbgapi\n",
            "Successfully installed wbgapi-1.0.12\n"
          ]
        }
      ]
    },
    {
      "cell_type": "code",
      "source": [
        "import wbgapi as wb\n",
        "import pandas as pd\n",
        "import numpy as np"
      ],
      "metadata": {
        "id": "ymOw3qTeu6pA"
      },
      "execution_count": null,
      "outputs": []
    },
    {
      "cell_type": "code",
      "source": [
        "# source = https://data.worldbank.org\n",
        "#NY.GDP.PCAP.CD?locations=RU gdpp per capita Russia\n",
        "#NY.GDP.MKTP. GDP values\n",
        "#NY.GDP.PCAP.CD values GDPP\n",
        "\n",
        "code= ['VC.IHR.PSRC.P5', 'SH.ALC.PCAP.LI', 'SI.POV.NAHC','SI.POV.GINI', 'SH.XPD.GHED.PP.CD']\n",
        "name = ['Intentional homicides (per 100,000 people)', 'Total alcohol consumption per capita (liters of pure alcohol, projected estimates, 15+ years of age)', 'Poverty headcount ratio at national poverty lines (% of population)',\n",
        "        'Gini index','Domestic general government health expenditure per capita, PPP (current international $)',]\n",
        "\n",
        "data = wb.data.DataFrame(['VC.IHR.PSRC.P5', 'SH.ALC.PCAP.LI', 'SI.POV.NAHC', 'SI.POV.GINI','SH.XPD.GHED.PP.CD',], 'RUS', mrv=31) # get 31 years # Vladimir Putin first as Prime Minister under Yeltsin then president 1999"
      ],
      "metadata": {
        "id": "0wACSP_au6aG"
      },
      "execution_count": null,
      "outputs": []
    },
    {
      "cell_type": "code",
      "source": [
        "data_wb = data.T.reset_index()\n",
        "data_wb['index']= data_wb['index'].str.replace('YR', '')\n",
        "data_wb.head()"
      ],
      "metadata": {
        "id": "G513ii58sA97",
        "colab": {
          "base_uri": "https://localhost:8080/",
          "height": 206
        },
        "outputId": "cda36185-5e66-4f99-beff-fc26a821a76c"
      },
      "execution_count": null,
      "outputs": [
        {
          "output_type": "execute_result",
          "data": {
            "text/plain": [
              "series index  SH.ALC.PCAP.LI  SH.XPD.GHED.PP.CD  SI.POV.GINI  SI.POV.NAHC  \\\n",
              "0       1990             NaN                NaN          NaN          NaN   \n",
              "1       1991             NaN                NaN          NaN          NaN   \n",
              "2       1992             NaN                NaN          NaN          NaN   \n",
              "3       1993             NaN                NaN          NaN          NaN   \n",
              "4       1994             NaN                NaN          NaN          NaN   \n",
              "\n",
              "series  VC.IHR.PSRC.P5  \n",
              "0            14.332526  \n",
              "1            15.284916  \n",
              "2            22.872008  \n",
              "3            30.369287  \n",
              "4            32.268406  "
            ],
            "text/html": [
              "\n",
              "  <div id=\"df-ef3bff3a-cabf-4f07-b342-8481d4ce3d5e\">\n",
              "    <div class=\"colab-df-container\">\n",
              "      <div>\n",
              "<style scoped>\n",
              "    .dataframe tbody tr th:only-of-type {\n",
              "        vertical-align: middle;\n",
              "    }\n",
              "\n",
              "    .dataframe tbody tr th {\n",
              "        vertical-align: top;\n",
              "    }\n",
              "\n",
              "    .dataframe thead th {\n",
              "        text-align: right;\n",
              "    }\n",
              "</style>\n",
              "<table border=\"1\" class=\"dataframe\">\n",
              "  <thead>\n",
              "    <tr style=\"text-align: right;\">\n",
              "      <th>series</th>\n",
              "      <th>index</th>\n",
              "      <th>SH.ALC.PCAP.LI</th>\n",
              "      <th>SH.XPD.GHED.PP.CD</th>\n",
              "      <th>SI.POV.GINI</th>\n",
              "      <th>SI.POV.NAHC</th>\n",
              "      <th>VC.IHR.PSRC.P5</th>\n",
              "    </tr>\n",
              "  </thead>\n",
              "  <tbody>\n",
              "    <tr>\n",
              "      <th>0</th>\n",
              "      <td>1990</td>\n",
              "      <td>NaN</td>\n",
              "      <td>NaN</td>\n",
              "      <td>NaN</td>\n",
              "      <td>NaN</td>\n",
              "      <td>14.332526</td>\n",
              "    </tr>\n",
              "    <tr>\n",
              "      <th>1</th>\n",
              "      <td>1991</td>\n",
              "      <td>NaN</td>\n",
              "      <td>NaN</td>\n",
              "      <td>NaN</td>\n",
              "      <td>NaN</td>\n",
              "      <td>15.284916</td>\n",
              "    </tr>\n",
              "    <tr>\n",
              "      <th>2</th>\n",
              "      <td>1992</td>\n",
              "      <td>NaN</td>\n",
              "      <td>NaN</td>\n",
              "      <td>NaN</td>\n",
              "      <td>NaN</td>\n",
              "      <td>22.872008</td>\n",
              "    </tr>\n",
              "    <tr>\n",
              "      <th>3</th>\n",
              "      <td>1993</td>\n",
              "      <td>NaN</td>\n",
              "      <td>NaN</td>\n",
              "      <td>NaN</td>\n",
              "      <td>NaN</td>\n",
              "      <td>30.369287</td>\n",
              "    </tr>\n",
              "    <tr>\n",
              "      <th>4</th>\n",
              "      <td>1994</td>\n",
              "      <td>NaN</td>\n",
              "      <td>NaN</td>\n",
              "      <td>NaN</td>\n",
              "      <td>NaN</td>\n",
              "      <td>32.268406</td>\n",
              "    </tr>\n",
              "  </tbody>\n",
              "</table>\n",
              "</div>\n",
              "      <button class=\"colab-df-convert\" onclick=\"convertToInteractive('df-ef3bff3a-cabf-4f07-b342-8481d4ce3d5e')\"\n",
              "              title=\"Convert this dataframe to an interactive table.\"\n",
              "              style=\"display:none;\">\n",
              "        \n",
              "  <svg xmlns=\"http://www.w3.org/2000/svg\" height=\"24px\"viewBox=\"0 0 24 24\"\n",
              "       width=\"24px\">\n",
              "    <path d=\"M0 0h24v24H0V0z\" fill=\"none\"/>\n",
              "    <path d=\"M18.56 5.44l.94 2.06.94-2.06 2.06-.94-2.06-.94-.94-2.06-.94 2.06-2.06.94zm-11 1L8.5 8.5l.94-2.06 2.06-.94-2.06-.94L8.5 2.5l-.94 2.06-2.06.94zm10 10l.94 2.06.94-2.06 2.06-.94-2.06-.94-.94-2.06-.94 2.06-2.06.94z\"/><path d=\"M17.41 7.96l-1.37-1.37c-.4-.4-.92-.59-1.43-.59-.52 0-1.04.2-1.43.59L10.3 9.45l-7.72 7.72c-.78.78-.78 2.05 0 2.83L4 21.41c.39.39.9.59 1.41.59.51 0 1.02-.2 1.41-.59l7.78-7.78 2.81-2.81c.8-.78.8-2.07 0-2.86zM5.41 20L4 18.59l7.72-7.72 1.47 1.35L5.41 20z\"/>\n",
              "  </svg>\n",
              "      </button>\n",
              "      \n",
              "  <style>\n",
              "    .colab-df-container {\n",
              "      display:flex;\n",
              "      flex-wrap:wrap;\n",
              "      gap: 12px;\n",
              "    }\n",
              "\n",
              "    .colab-df-convert {\n",
              "      background-color: #E8F0FE;\n",
              "      border: none;\n",
              "      border-radius: 50%;\n",
              "      cursor: pointer;\n",
              "      display: none;\n",
              "      fill: #1967D2;\n",
              "      height: 32px;\n",
              "      padding: 0 0 0 0;\n",
              "      width: 32px;\n",
              "    }\n",
              "\n",
              "    .colab-df-convert:hover {\n",
              "      background-color: #E2EBFA;\n",
              "      box-shadow: 0px 1px 2px rgba(60, 64, 67, 0.3), 0px 1px 3px 1px rgba(60, 64, 67, 0.15);\n",
              "      fill: #174EA6;\n",
              "    }\n",
              "\n",
              "    [theme=dark] .colab-df-convert {\n",
              "      background-color: #3B4455;\n",
              "      fill: #D2E3FC;\n",
              "    }\n",
              "\n",
              "    [theme=dark] .colab-df-convert:hover {\n",
              "      background-color: #434B5C;\n",
              "      box-shadow: 0px 1px 3px 1px rgba(0, 0, 0, 0.15);\n",
              "      filter: drop-shadow(0px 1px 2px rgba(0, 0, 0, 0.3));\n",
              "      fill: #FFFFFF;\n",
              "    }\n",
              "  </style>\n",
              "\n",
              "      <script>\n",
              "        const buttonEl =\n",
              "          document.querySelector('#df-ef3bff3a-cabf-4f07-b342-8481d4ce3d5e button.colab-df-convert');\n",
              "        buttonEl.style.display =\n",
              "          google.colab.kernel.accessAllowed ? 'block' : 'none';\n",
              "\n",
              "        async function convertToInteractive(key) {\n",
              "          const element = document.querySelector('#df-ef3bff3a-cabf-4f07-b342-8481d4ce3d5e');\n",
              "          const dataTable =\n",
              "            await google.colab.kernel.invokeFunction('convertToInteractive',\n",
              "                                                     [key], {});\n",
              "          if (!dataTable) return;\n",
              "\n",
              "          const docLinkHtml = 'Like what you see? Visit the ' +\n",
              "            '<a target=\"_blank\" href=https://colab.research.google.com/notebooks/data_table.ipynb>data table notebook</a>'\n",
              "            + ' to learn more about interactive tables.';\n",
              "          element.innerHTML = '';\n",
              "          dataTable['output_type'] = 'display_data';\n",
              "          await google.colab.output.renderOutput(dataTable, element);\n",
              "          const docLink = document.createElement('div');\n",
              "          docLink.innerHTML = docLinkHtml;\n",
              "          element.appendChild(docLink);\n",
              "        }\n",
              "      </script>\n",
              "    </div>\n",
              "  </div>\n",
              "  "
            ]
          },
          "metadata": {},
          "execution_count": 115
        }
      ]
    },
    {
      "cell_type": "code",
      "source": [
        "values_GDPP = wb.data.DataFrame(['NY.GDP.PCAP.CD', ], ['RUS', 'USA'], mrv=31) #gdpp per capita values\n",
        "values_GDP = wb.data.DataFrame(['NY.GDP.MKTP.CD', ], ['RUS', 'USA'], mrv=31) #gdp values "
      ],
      "metadata": {
        "id": "9lkjeh4-ERnG"
      },
      "execution_count": null,
      "outputs": []
    },
    {
      "cell_type": "code",
      "source": [
        "values_GDPP = values_GDPP.T.reset_index()\n",
        "values_GDPP['index']= values_GDPP['index'].str.replace('YR', '')\n",
        "values_GDPP.columns=['year', 'RUS_gdpp','USA_gdpp', ]\n",
        "values_GDPP.head(3)"
      ],
      "metadata": {
        "colab": {
          "base_uri": "https://localhost:8080/",
          "height": 143
        },
        "id": "2N8_zD9ArVtI",
        "outputId": "0553dd4f-4f91-4869-eb96-248d5956453c"
      },
      "execution_count": null,
      "outputs": [
        {
          "output_type": "execute_result",
          "data": {
            "text/plain": [
              "   year     RUS_gdpp      USA_gdpp\n",
              "0  1991  3490.452393  24342.258905\n",
              "1  1992  3098.802734  25418.990776\n",
              "2  1993  2930.670166  26387.293734"
            ],
            "text/html": [
              "\n",
              "  <div id=\"df-095a8232-1d70-4eea-8f44-7ee37439fc2f\">\n",
              "    <div class=\"colab-df-container\">\n",
              "      <div>\n",
              "<style scoped>\n",
              "    .dataframe tbody tr th:only-of-type {\n",
              "        vertical-align: middle;\n",
              "    }\n",
              "\n",
              "    .dataframe tbody tr th {\n",
              "        vertical-align: top;\n",
              "    }\n",
              "\n",
              "    .dataframe thead th {\n",
              "        text-align: right;\n",
              "    }\n",
              "</style>\n",
              "<table border=\"1\" class=\"dataframe\">\n",
              "  <thead>\n",
              "    <tr style=\"text-align: right;\">\n",
              "      <th></th>\n",
              "      <th>year</th>\n",
              "      <th>RUS_gdpp</th>\n",
              "      <th>USA_gdpp</th>\n",
              "    </tr>\n",
              "  </thead>\n",
              "  <tbody>\n",
              "    <tr>\n",
              "      <th>0</th>\n",
              "      <td>1991</td>\n",
              "      <td>3490.452393</td>\n",
              "      <td>24342.258905</td>\n",
              "    </tr>\n",
              "    <tr>\n",
              "      <th>1</th>\n",
              "      <td>1992</td>\n",
              "      <td>3098.802734</td>\n",
              "      <td>25418.990776</td>\n",
              "    </tr>\n",
              "    <tr>\n",
              "      <th>2</th>\n",
              "      <td>1993</td>\n",
              "      <td>2930.670166</td>\n",
              "      <td>26387.293734</td>\n",
              "    </tr>\n",
              "  </tbody>\n",
              "</table>\n",
              "</div>\n",
              "      <button class=\"colab-df-convert\" onclick=\"convertToInteractive('df-095a8232-1d70-4eea-8f44-7ee37439fc2f')\"\n",
              "              title=\"Convert this dataframe to an interactive table.\"\n",
              "              style=\"display:none;\">\n",
              "        \n",
              "  <svg xmlns=\"http://www.w3.org/2000/svg\" height=\"24px\"viewBox=\"0 0 24 24\"\n",
              "       width=\"24px\">\n",
              "    <path d=\"M0 0h24v24H0V0z\" fill=\"none\"/>\n",
              "    <path d=\"M18.56 5.44l.94 2.06.94-2.06 2.06-.94-2.06-.94-.94-2.06-.94 2.06-2.06.94zm-11 1L8.5 8.5l.94-2.06 2.06-.94-2.06-.94L8.5 2.5l-.94 2.06-2.06.94zm10 10l.94 2.06.94-2.06 2.06-.94-2.06-.94-.94-2.06-.94 2.06-2.06.94z\"/><path d=\"M17.41 7.96l-1.37-1.37c-.4-.4-.92-.59-1.43-.59-.52 0-1.04.2-1.43.59L10.3 9.45l-7.72 7.72c-.78.78-.78 2.05 0 2.83L4 21.41c.39.39.9.59 1.41.59.51 0 1.02-.2 1.41-.59l7.78-7.78 2.81-2.81c.8-.78.8-2.07 0-2.86zM5.41 20L4 18.59l7.72-7.72 1.47 1.35L5.41 20z\"/>\n",
              "  </svg>\n",
              "      </button>\n",
              "      \n",
              "  <style>\n",
              "    .colab-df-container {\n",
              "      display:flex;\n",
              "      flex-wrap:wrap;\n",
              "      gap: 12px;\n",
              "    }\n",
              "\n",
              "    .colab-df-convert {\n",
              "      background-color: #E8F0FE;\n",
              "      border: none;\n",
              "      border-radius: 50%;\n",
              "      cursor: pointer;\n",
              "      display: none;\n",
              "      fill: #1967D2;\n",
              "      height: 32px;\n",
              "      padding: 0 0 0 0;\n",
              "      width: 32px;\n",
              "    }\n",
              "\n",
              "    .colab-df-convert:hover {\n",
              "      background-color: #E2EBFA;\n",
              "      box-shadow: 0px 1px 2px rgba(60, 64, 67, 0.3), 0px 1px 3px 1px rgba(60, 64, 67, 0.15);\n",
              "      fill: #174EA6;\n",
              "    }\n",
              "\n",
              "    [theme=dark] .colab-df-convert {\n",
              "      background-color: #3B4455;\n",
              "      fill: #D2E3FC;\n",
              "    }\n",
              "\n",
              "    [theme=dark] .colab-df-convert:hover {\n",
              "      background-color: #434B5C;\n",
              "      box-shadow: 0px 1px 3px 1px rgba(0, 0, 0, 0.15);\n",
              "      filter: drop-shadow(0px 1px 2px rgba(0, 0, 0, 0.3));\n",
              "      fill: #FFFFFF;\n",
              "    }\n",
              "  </style>\n",
              "\n",
              "      <script>\n",
              "        const buttonEl =\n",
              "          document.querySelector('#df-095a8232-1d70-4eea-8f44-7ee37439fc2f button.colab-df-convert');\n",
              "        buttonEl.style.display =\n",
              "          google.colab.kernel.accessAllowed ? 'block' : 'none';\n",
              "\n",
              "        async function convertToInteractive(key) {\n",
              "          const element = document.querySelector('#df-095a8232-1d70-4eea-8f44-7ee37439fc2f');\n",
              "          const dataTable =\n",
              "            await google.colab.kernel.invokeFunction('convertToInteractive',\n",
              "                                                     [key], {});\n",
              "          if (!dataTable) return;\n",
              "\n",
              "          const docLinkHtml = 'Like what you see? Visit the ' +\n",
              "            '<a target=\"_blank\" href=https://colab.research.google.com/notebooks/data_table.ipynb>data table notebook</a>'\n",
              "            + ' to learn more about interactive tables.';\n",
              "          element.innerHTML = '';\n",
              "          dataTable['output_type'] = 'display_data';\n",
              "          await google.colab.output.renderOutput(dataTable, element);\n",
              "          const docLink = document.createElement('div');\n",
              "          docLink.innerHTML = docLinkHtml;\n",
              "          element.appendChild(docLink);\n",
              "        }\n",
              "      </script>\n",
              "    </div>\n",
              "  </div>\n",
              "  "
            ]
          },
          "metadata": {},
          "execution_count": 117
        }
      ]
    },
    {
      "cell_type": "code",
      "source": [
        "values_GDP = values_GDP.T.reset_index()\n",
        "values_GDP['index']= values_GDP['index'].str.replace('YR', '')\n",
        "values_GDP.columns=['year', 'RUS_gdp','USA_gdp', ]\n",
        "values_GDP.head(3)"
      ],
      "metadata": {
        "colab": {
          "base_uri": "https://localhost:8080/",
          "height": 143
        },
        "id": "HQLgzEQirlZi",
        "outputId": "969e878a-7120-4888-cfbd-fc14aec15121"
      },
      "execution_count": null,
      "outputs": [
        {
          "output_type": "execute_result",
          "data": {
            "text/plain": [
              "   year       RUS_gdp       USA_gdp\n",
              "0  1991  5.179630e+11  6.158129e+12\n",
              "1  1992  4.602906e+11  6.520327e+12\n",
              "2  1993  4.350837e+11  6.858559e+12"
            ],
            "text/html": [
              "\n",
              "  <div id=\"df-caa3c109-daa9-4bc4-95c3-8ceef6adbdc4\">\n",
              "    <div class=\"colab-df-container\">\n",
              "      <div>\n",
              "<style scoped>\n",
              "    .dataframe tbody tr th:only-of-type {\n",
              "        vertical-align: middle;\n",
              "    }\n",
              "\n",
              "    .dataframe tbody tr th {\n",
              "        vertical-align: top;\n",
              "    }\n",
              "\n",
              "    .dataframe thead th {\n",
              "        text-align: right;\n",
              "    }\n",
              "</style>\n",
              "<table border=\"1\" class=\"dataframe\">\n",
              "  <thead>\n",
              "    <tr style=\"text-align: right;\">\n",
              "      <th></th>\n",
              "      <th>year</th>\n",
              "      <th>RUS_gdp</th>\n",
              "      <th>USA_gdp</th>\n",
              "    </tr>\n",
              "  </thead>\n",
              "  <tbody>\n",
              "    <tr>\n",
              "      <th>0</th>\n",
              "      <td>1991</td>\n",
              "      <td>5.179630e+11</td>\n",
              "      <td>6.158129e+12</td>\n",
              "    </tr>\n",
              "    <tr>\n",
              "      <th>1</th>\n",
              "      <td>1992</td>\n",
              "      <td>4.602906e+11</td>\n",
              "      <td>6.520327e+12</td>\n",
              "    </tr>\n",
              "    <tr>\n",
              "      <th>2</th>\n",
              "      <td>1993</td>\n",
              "      <td>4.350837e+11</td>\n",
              "      <td>6.858559e+12</td>\n",
              "    </tr>\n",
              "  </tbody>\n",
              "</table>\n",
              "</div>\n",
              "      <button class=\"colab-df-convert\" onclick=\"convertToInteractive('df-caa3c109-daa9-4bc4-95c3-8ceef6adbdc4')\"\n",
              "              title=\"Convert this dataframe to an interactive table.\"\n",
              "              style=\"display:none;\">\n",
              "        \n",
              "  <svg xmlns=\"http://www.w3.org/2000/svg\" height=\"24px\"viewBox=\"0 0 24 24\"\n",
              "       width=\"24px\">\n",
              "    <path d=\"M0 0h24v24H0V0z\" fill=\"none\"/>\n",
              "    <path d=\"M18.56 5.44l.94 2.06.94-2.06 2.06-.94-2.06-.94-.94-2.06-.94 2.06-2.06.94zm-11 1L8.5 8.5l.94-2.06 2.06-.94-2.06-.94L8.5 2.5l-.94 2.06-2.06.94zm10 10l.94 2.06.94-2.06 2.06-.94-2.06-.94-.94-2.06-.94 2.06-2.06.94z\"/><path d=\"M17.41 7.96l-1.37-1.37c-.4-.4-.92-.59-1.43-.59-.52 0-1.04.2-1.43.59L10.3 9.45l-7.72 7.72c-.78.78-.78 2.05 0 2.83L4 21.41c.39.39.9.59 1.41.59.51 0 1.02-.2 1.41-.59l7.78-7.78 2.81-2.81c.8-.78.8-2.07 0-2.86zM5.41 20L4 18.59l7.72-7.72 1.47 1.35L5.41 20z\"/>\n",
              "  </svg>\n",
              "      </button>\n",
              "      \n",
              "  <style>\n",
              "    .colab-df-container {\n",
              "      display:flex;\n",
              "      flex-wrap:wrap;\n",
              "      gap: 12px;\n",
              "    }\n",
              "\n",
              "    .colab-df-convert {\n",
              "      background-color: #E8F0FE;\n",
              "      border: none;\n",
              "      border-radius: 50%;\n",
              "      cursor: pointer;\n",
              "      display: none;\n",
              "      fill: #1967D2;\n",
              "      height: 32px;\n",
              "      padding: 0 0 0 0;\n",
              "      width: 32px;\n",
              "    }\n",
              "\n",
              "    .colab-df-convert:hover {\n",
              "      background-color: #E2EBFA;\n",
              "      box-shadow: 0px 1px 2px rgba(60, 64, 67, 0.3), 0px 1px 3px 1px rgba(60, 64, 67, 0.15);\n",
              "      fill: #174EA6;\n",
              "    }\n",
              "\n",
              "    [theme=dark] .colab-df-convert {\n",
              "      background-color: #3B4455;\n",
              "      fill: #D2E3FC;\n",
              "    }\n",
              "\n",
              "    [theme=dark] .colab-df-convert:hover {\n",
              "      background-color: #434B5C;\n",
              "      box-shadow: 0px 1px 3px 1px rgba(0, 0, 0, 0.15);\n",
              "      filter: drop-shadow(0px 1px 2px rgba(0, 0, 0, 0.3));\n",
              "      fill: #FFFFFF;\n",
              "    }\n",
              "  </style>\n",
              "\n",
              "      <script>\n",
              "        const buttonEl =\n",
              "          document.querySelector('#df-caa3c109-daa9-4bc4-95c3-8ceef6adbdc4 button.colab-df-convert');\n",
              "        buttonEl.style.display =\n",
              "          google.colab.kernel.accessAllowed ? 'block' : 'none';\n",
              "\n",
              "        async function convertToInteractive(key) {\n",
              "          const element = document.querySelector('#df-caa3c109-daa9-4bc4-95c3-8ceef6adbdc4');\n",
              "          const dataTable =\n",
              "            await google.colab.kernel.invokeFunction('convertToInteractive',\n",
              "                                                     [key], {});\n",
              "          if (!dataTable) return;\n",
              "\n",
              "          const docLinkHtml = 'Like what you see? Visit the ' +\n",
              "            '<a target=\"_blank\" href=https://colab.research.google.com/notebooks/data_table.ipynb>data table notebook</a>'\n",
              "            + ' to learn more about interactive tables.';\n",
              "          element.innerHTML = '';\n",
              "          dataTable['output_type'] = 'display_data';\n",
              "          await google.colab.output.renderOutput(dataTable, element);\n",
              "          const docLink = document.createElement('div');\n",
              "          docLink.innerHTML = docLinkHtml;\n",
              "          element.appendChild(docLink);\n",
              "        }\n",
              "      </script>\n",
              "    </div>\n",
              "  </div>\n",
              "  "
            ]
          },
          "metadata": {},
          "execution_count": 118
        }
      ]
    },
    {
      "cell_type": "code",
      "source": [
        "wb_GDP_grow = wb.data.DataFrame(['NY.GDP.MKTP.KD.ZG'], ['RUS', 'USA'], mrv=26)  # GDP growth (annual %) \n",
        "wb_GDPP_grow = wb.data.DataFrame(['NY.GDP.PCAP.KD.ZG'], ['RUS', 'USA'], mrv=26) # GDPP percapita growth (annual %) "
      ],
      "metadata": {
        "id": "EoQk24k936fO"
      },
      "execution_count": null,
      "outputs": []
    },
    {
      "cell_type": "code",
      "source": [
        "wb_GDP_grow = wb_GDP_grow.T.reset_index()\n",
        "wb_GDP_grow['index']= wb_GDP_grow['index'].str.replace('YR', '')\n",
        "wb_GDP_grow.columns = ['year', 'RUS_gdp', 'USA_gdp']\n",
        "wb_GDP_grow.head(3)"
      ],
      "metadata": {
        "colab": {
          "base_uri": "https://localhost:8080/",
          "height": 143
        },
        "id": "CLMNjugMr5Qg",
        "outputId": "4d2216b8-f612-49f6-f5f6-807968e171ac"
      },
      "execution_count": null,
      "outputs": [
        {
          "output_type": "execute_result",
          "data": {
            "text/plain": [
              "   year   RUS_gdp   USA_gdp\n",
              "0  1996 -3.755069  3.772565\n",
              "1  1997  1.399916  4.447175\n",
              "2  1998 -5.299962  4.481394"
            ],
            "text/html": [
              "\n",
              "  <div id=\"df-6ee7c4ad-6f3a-429c-8f83-f80d71fe461f\">\n",
              "    <div class=\"colab-df-container\">\n",
              "      <div>\n",
              "<style scoped>\n",
              "    .dataframe tbody tr th:only-of-type {\n",
              "        vertical-align: middle;\n",
              "    }\n",
              "\n",
              "    .dataframe tbody tr th {\n",
              "        vertical-align: top;\n",
              "    }\n",
              "\n",
              "    .dataframe thead th {\n",
              "        text-align: right;\n",
              "    }\n",
              "</style>\n",
              "<table border=\"1\" class=\"dataframe\">\n",
              "  <thead>\n",
              "    <tr style=\"text-align: right;\">\n",
              "      <th></th>\n",
              "      <th>year</th>\n",
              "      <th>RUS_gdp</th>\n",
              "      <th>USA_gdp</th>\n",
              "    </tr>\n",
              "  </thead>\n",
              "  <tbody>\n",
              "    <tr>\n",
              "      <th>0</th>\n",
              "      <td>1996</td>\n",
              "      <td>-3.755069</td>\n",
              "      <td>3.772565</td>\n",
              "    </tr>\n",
              "    <tr>\n",
              "      <th>1</th>\n",
              "      <td>1997</td>\n",
              "      <td>1.399916</td>\n",
              "      <td>4.447175</td>\n",
              "    </tr>\n",
              "    <tr>\n",
              "      <th>2</th>\n",
              "      <td>1998</td>\n",
              "      <td>-5.299962</td>\n",
              "      <td>4.481394</td>\n",
              "    </tr>\n",
              "  </tbody>\n",
              "</table>\n",
              "</div>\n",
              "      <button class=\"colab-df-convert\" onclick=\"convertToInteractive('df-6ee7c4ad-6f3a-429c-8f83-f80d71fe461f')\"\n",
              "              title=\"Convert this dataframe to an interactive table.\"\n",
              "              style=\"display:none;\">\n",
              "        \n",
              "  <svg xmlns=\"http://www.w3.org/2000/svg\" height=\"24px\"viewBox=\"0 0 24 24\"\n",
              "       width=\"24px\">\n",
              "    <path d=\"M0 0h24v24H0V0z\" fill=\"none\"/>\n",
              "    <path d=\"M18.56 5.44l.94 2.06.94-2.06 2.06-.94-2.06-.94-.94-2.06-.94 2.06-2.06.94zm-11 1L8.5 8.5l.94-2.06 2.06-.94-2.06-.94L8.5 2.5l-.94 2.06-2.06.94zm10 10l.94 2.06.94-2.06 2.06-.94-2.06-.94-.94-2.06-.94 2.06-2.06.94z\"/><path d=\"M17.41 7.96l-1.37-1.37c-.4-.4-.92-.59-1.43-.59-.52 0-1.04.2-1.43.59L10.3 9.45l-7.72 7.72c-.78.78-.78 2.05 0 2.83L4 21.41c.39.39.9.59 1.41.59.51 0 1.02-.2 1.41-.59l7.78-7.78 2.81-2.81c.8-.78.8-2.07 0-2.86zM5.41 20L4 18.59l7.72-7.72 1.47 1.35L5.41 20z\"/>\n",
              "  </svg>\n",
              "      </button>\n",
              "      \n",
              "  <style>\n",
              "    .colab-df-container {\n",
              "      display:flex;\n",
              "      flex-wrap:wrap;\n",
              "      gap: 12px;\n",
              "    }\n",
              "\n",
              "    .colab-df-convert {\n",
              "      background-color: #E8F0FE;\n",
              "      border: none;\n",
              "      border-radius: 50%;\n",
              "      cursor: pointer;\n",
              "      display: none;\n",
              "      fill: #1967D2;\n",
              "      height: 32px;\n",
              "      padding: 0 0 0 0;\n",
              "      width: 32px;\n",
              "    }\n",
              "\n",
              "    .colab-df-convert:hover {\n",
              "      background-color: #E2EBFA;\n",
              "      box-shadow: 0px 1px 2px rgba(60, 64, 67, 0.3), 0px 1px 3px 1px rgba(60, 64, 67, 0.15);\n",
              "      fill: #174EA6;\n",
              "    }\n",
              "\n",
              "    [theme=dark] .colab-df-convert {\n",
              "      background-color: #3B4455;\n",
              "      fill: #D2E3FC;\n",
              "    }\n",
              "\n",
              "    [theme=dark] .colab-df-convert:hover {\n",
              "      background-color: #434B5C;\n",
              "      box-shadow: 0px 1px 3px 1px rgba(0, 0, 0, 0.15);\n",
              "      filter: drop-shadow(0px 1px 2px rgba(0, 0, 0, 0.3));\n",
              "      fill: #FFFFFF;\n",
              "    }\n",
              "  </style>\n",
              "\n",
              "      <script>\n",
              "        const buttonEl =\n",
              "          document.querySelector('#df-6ee7c4ad-6f3a-429c-8f83-f80d71fe461f button.colab-df-convert');\n",
              "        buttonEl.style.display =\n",
              "          google.colab.kernel.accessAllowed ? 'block' : 'none';\n",
              "\n",
              "        async function convertToInteractive(key) {\n",
              "          const element = document.querySelector('#df-6ee7c4ad-6f3a-429c-8f83-f80d71fe461f');\n",
              "          const dataTable =\n",
              "            await google.colab.kernel.invokeFunction('convertToInteractive',\n",
              "                                                     [key], {});\n",
              "          if (!dataTable) return;\n",
              "\n",
              "          const docLinkHtml = 'Like what you see? Visit the ' +\n",
              "            '<a target=\"_blank\" href=https://colab.research.google.com/notebooks/data_table.ipynb>data table notebook</a>'\n",
              "            + ' to learn more about interactive tables.';\n",
              "          element.innerHTML = '';\n",
              "          dataTable['output_type'] = 'display_data';\n",
              "          await google.colab.output.renderOutput(dataTable, element);\n",
              "          const docLink = document.createElement('div');\n",
              "          docLink.innerHTML = docLinkHtml;\n",
              "          element.appendChild(docLink);\n",
              "        }\n",
              "      </script>\n",
              "    </div>\n",
              "  </div>\n",
              "  "
            ]
          },
          "metadata": {},
          "execution_count": 120
        }
      ]
    },
    {
      "cell_type": "code",
      "source": [
        "wb_GDPP_grow = wb_GDPP_grow.T.reset_index()\n",
        "wb_GDPP_grow['index']= wb_GDPP_grow['index'].str.replace('YR', '')\n",
        "wb_GDPP_grow.columns = ['year', 'RUS_gdPP', 'USA_gdPP']\n",
        "wb_GDPP_grow.head(3)"
      ],
      "metadata": {
        "colab": {
          "base_uri": "https://localhost:8080/",
          "height": 143
        },
        "id": "ZUOXAa3rr5Fk",
        "outputId": "9bfeb820-feb5-4c28-c53f-0fc234efb286"
      },
      "execution_count": null,
      "outputs": [
        {
          "output_type": "execute_result",
          "data": {
            "text/plain": [
              "   year  RUS_gdPP  USA_gdPP\n",
              "0  1996 -3.614975  2.572259\n",
              "1  1997  1.567704  3.197212\n",
              "2  1998 -5.143115  3.270511"
            ],
            "text/html": [
              "\n",
              "  <div id=\"df-a8879544-250e-48fd-af0c-efc769eded6a\">\n",
              "    <div class=\"colab-df-container\">\n",
              "      <div>\n",
              "<style scoped>\n",
              "    .dataframe tbody tr th:only-of-type {\n",
              "        vertical-align: middle;\n",
              "    }\n",
              "\n",
              "    .dataframe tbody tr th {\n",
              "        vertical-align: top;\n",
              "    }\n",
              "\n",
              "    .dataframe thead th {\n",
              "        text-align: right;\n",
              "    }\n",
              "</style>\n",
              "<table border=\"1\" class=\"dataframe\">\n",
              "  <thead>\n",
              "    <tr style=\"text-align: right;\">\n",
              "      <th></th>\n",
              "      <th>year</th>\n",
              "      <th>RUS_gdPP</th>\n",
              "      <th>USA_gdPP</th>\n",
              "    </tr>\n",
              "  </thead>\n",
              "  <tbody>\n",
              "    <tr>\n",
              "      <th>0</th>\n",
              "      <td>1996</td>\n",
              "      <td>-3.614975</td>\n",
              "      <td>2.572259</td>\n",
              "    </tr>\n",
              "    <tr>\n",
              "      <th>1</th>\n",
              "      <td>1997</td>\n",
              "      <td>1.567704</td>\n",
              "      <td>3.197212</td>\n",
              "    </tr>\n",
              "    <tr>\n",
              "      <th>2</th>\n",
              "      <td>1998</td>\n",
              "      <td>-5.143115</td>\n",
              "      <td>3.270511</td>\n",
              "    </tr>\n",
              "  </tbody>\n",
              "</table>\n",
              "</div>\n",
              "      <button class=\"colab-df-convert\" onclick=\"convertToInteractive('df-a8879544-250e-48fd-af0c-efc769eded6a')\"\n",
              "              title=\"Convert this dataframe to an interactive table.\"\n",
              "              style=\"display:none;\">\n",
              "        \n",
              "  <svg xmlns=\"http://www.w3.org/2000/svg\" height=\"24px\"viewBox=\"0 0 24 24\"\n",
              "       width=\"24px\">\n",
              "    <path d=\"M0 0h24v24H0V0z\" fill=\"none\"/>\n",
              "    <path d=\"M18.56 5.44l.94 2.06.94-2.06 2.06-.94-2.06-.94-.94-2.06-.94 2.06-2.06.94zm-11 1L8.5 8.5l.94-2.06 2.06-.94-2.06-.94L8.5 2.5l-.94 2.06-2.06.94zm10 10l.94 2.06.94-2.06 2.06-.94-2.06-.94-.94-2.06-.94 2.06-2.06.94z\"/><path d=\"M17.41 7.96l-1.37-1.37c-.4-.4-.92-.59-1.43-.59-.52 0-1.04.2-1.43.59L10.3 9.45l-7.72 7.72c-.78.78-.78 2.05 0 2.83L4 21.41c.39.39.9.59 1.41.59.51 0 1.02-.2 1.41-.59l7.78-7.78 2.81-2.81c.8-.78.8-2.07 0-2.86zM5.41 20L4 18.59l7.72-7.72 1.47 1.35L5.41 20z\"/>\n",
              "  </svg>\n",
              "      </button>\n",
              "      \n",
              "  <style>\n",
              "    .colab-df-container {\n",
              "      display:flex;\n",
              "      flex-wrap:wrap;\n",
              "      gap: 12px;\n",
              "    }\n",
              "\n",
              "    .colab-df-convert {\n",
              "      background-color: #E8F0FE;\n",
              "      border: none;\n",
              "      border-radius: 50%;\n",
              "      cursor: pointer;\n",
              "      display: none;\n",
              "      fill: #1967D2;\n",
              "      height: 32px;\n",
              "      padding: 0 0 0 0;\n",
              "      width: 32px;\n",
              "    }\n",
              "\n",
              "    .colab-df-convert:hover {\n",
              "      background-color: #E2EBFA;\n",
              "      box-shadow: 0px 1px 2px rgba(60, 64, 67, 0.3), 0px 1px 3px 1px rgba(60, 64, 67, 0.15);\n",
              "      fill: #174EA6;\n",
              "    }\n",
              "\n",
              "    [theme=dark] .colab-df-convert {\n",
              "      background-color: #3B4455;\n",
              "      fill: #D2E3FC;\n",
              "    }\n",
              "\n",
              "    [theme=dark] .colab-df-convert:hover {\n",
              "      background-color: #434B5C;\n",
              "      box-shadow: 0px 1px 3px 1px rgba(0, 0, 0, 0.15);\n",
              "      filter: drop-shadow(0px 1px 2px rgba(0, 0, 0, 0.3));\n",
              "      fill: #FFFFFF;\n",
              "    }\n",
              "  </style>\n",
              "\n",
              "      <script>\n",
              "        const buttonEl =\n",
              "          document.querySelector('#df-a8879544-250e-48fd-af0c-efc769eded6a button.colab-df-convert');\n",
              "        buttonEl.style.display =\n",
              "          google.colab.kernel.accessAllowed ? 'block' : 'none';\n",
              "\n",
              "        async function convertToInteractive(key) {\n",
              "          const element = document.querySelector('#df-a8879544-250e-48fd-af0c-efc769eded6a');\n",
              "          const dataTable =\n",
              "            await google.colab.kernel.invokeFunction('convertToInteractive',\n",
              "                                                     [key], {});\n",
              "          if (!dataTable) return;\n",
              "\n",
              "          const docLinkHtml = 'Like what you see? Visit the ' +\n",
              "            '<a target=\"_blank\" href=https://colab.research.google.com/notebooks/data_table.ipynb>data table notebook</a>'\n",
              "            + ' to learn more about interactive tables.';\n",
              "          element.innerHTML = '';\n",
              "          dataTable['output_type'] = 'display_data';\n",
              "          await google.colab.output.renderOutput(dataTable, element);\n",
              "          const docLink = document.createElement('div');\n",
              "          docLink.innerHTML = docLinkHtml;\n",
              "          element.appendChild(docLink);\n",
              "        }\n",
              "      </script>\n",
              "    </div>\n",
              "  </div>\n",
              "  "
            ]
          },
          "metadata": {},
          "execution_count": 121
        }
      ]
    },
    {
      "cell_type": "code",
      "source": [
        "### save both versions 'as is' and normalized:\n",
        "import pathlib\n",
        "from datetime import date\n",
        "\n",
        "date = str(date.today())\n",
        "\n",
        "\n",
        "new_dir = pathlib.Path('/content/drive/MyDrive/RUSSdata/World_Bank/', date)\n",
        "new_dir.mkdir(parents=True, exist_ok=True)\n",
        "\n",
        "data_wb.to_csv(str(new_dir)+'/'+'w_bank_data.csv', index=False)\n",
        "wb_GDP_grow.to_csv(str(new_dir)+'/'+'w_bank_GDP_grow.csv', index=False)\n",
        "wb_GDPP_grow.to_csv(str(new_dir)+'/'+'w_bank_GDPP_grow.csv', index=False)\n",
        "values_GDP.to_csv(str(new_dir)+'/'+'w_bank_GDP_value.csv', index=False)\n",
        "values_GDPP.to_csv(str(new_dir)+'/'+'w_bank_GDPP_value.csv', index=False)"
      ],
      "metadata": {
        "id": "3cVVjLSTs6-M"
      },
      "execution_count": null,
      "outputs": []
    },
    {
      "cell_type": "code",
      "source": [
        "cols = ['SH.ALC.PCAP.LI', 'SH.XPD.GHED.PP.CD', 'SI.POV.GINI',\n",
        "       'SI.POV.NAHC', 'VC.IHR.PSRC.P5']\n",
        "data_wb[cols] = data_wb[cols].apply(pd.to_numeric, errors='coerce').fillna(np.nan)\n",
        "data_wb.head()"
      ],
      "metadata": {
        "id": "Ow-JhlcXvHOf",
        "colab": {
          "base_uri": "https://localhost:8080/",
          "height": 206
        },
        "outputId": "14a9c053-63e6-4012-f44c-bd1bfe3b0d65"
      },
      "execution_count": null,
      "outputs": [
        {
          "output_type": "execute_result",
          "data": {
            "text/plain": [
              "series index  SH.ALC.PCAP.LI  SH.XPD.GHED.PP.CD  SI.POV.GINI  SI.POV.NAHC  \\\n",
              "0       1990             NaN                NaN          NaN          NaN   \n",
              "1       1991             NaN                NaN          NaN          NaN   \n",
              "2       1992             NaN                NaN          NaN          NaN   \n",
              "3       1993             NaN                NaN          NaN          NaN   \n",
              "4       1994             NaN                NaN          NaN          NaN   \n",
              "\n",
              "series  VC.IHR.PSRC.P5  \n",
              "0            14.332526  \n",
              "1            15.284916  \n",
              "2            22.872008  \n",
              "3            30.369287  \n",
              "4            32.268406  "
            ],
            "text/html": [
              "\n",
              "  <div id=\"df-6dbf1279-ee58-4f05-9c48-7d1e573d7356\">\n",
              "    <div class=\"colab-df-container\">\n",
              "      <div>\n",
              "<style scoped>\n",
              "    .dataframe tbody tr th:only-of-type {\n",
              "        vertical-align: middle;\n",
              "    }\n",
              "\n",
              "    .dataframe tbody tr th {\n",
              "        vertical-align: top;\n",
              "    }\n",
              "\n",
              "    .dataframe thead th {\n",
              "        text-align: right;\n",
              "    }\n",
              "</style>\n",
              "<table border=\"1\" class=\"dataframe\">\n",
              "  <thead>\n",
              "    <tr style=\"text-align: right;\">\n",
              "      <th>series</th>\n",
              "      <th>index</th>\n",
              "      <th>SH.ALC.PCAP.LI</th>\n",
              "      <th>SH.XPD.GHED.PP.CD</th>\n",
              "      <th>SI.POV.GINI</th>\n",
              "      <th>SI.POV.NAHC</th>\n",
              "      <th>VC.IHR.PSRC.P5</th>\n",
              "    </tr>\n",
              "  </thead>\n",
              "  <tbody>\n",
              "    <tr>\n",
              "      <th>0</th>\n",
              "      <td>1990</td>\n",
              "      <td>NaN</td>\n",
              "      <td>NaN</td>\n",
              "      <td>NaN</td>\n",
              "      <td>NaN</td>\n",
              "      <td>14.332526</td>\n",
              "    </tr>\n",
              "    <tr>\n",
              "      <th>1</th>\n",
              "      <td>1991</td>\n",
              "      <td>NaN</td>\n",
              "      <td>NaN</td>\n",
              "      <td>NaN</td>\n",
              "      <td>NaN</td>\n",
              "      <td>15.284916</td>\n",
              "    </tr>\n",
              "    <tr>\n",
              "      <th>2</th>\n",
              "      <td>1992</td>\n",
              "      <td>NaN</td>\n",
              "      <td>NaN</td>\n",
              "      <td>NaN</td>\n",
              "      <td>NaN</td>\n",
              "      <td>22.872008</td>\n",
              "    </tr>\n",
              "    <tr>\n",
              "      <th>3</th>\n",
              "      <td>1993</td>\n",
              "      <td>NaN</td>\n",
              "      <td>NaN</td>\n",
              "      <td>NaN</td>\n",
              "      <td>NaN</td>\n",
              "      <td>30.369287</td>\n",
              "    </tr>\n",
              "    <tr>\n",
              "      <th>4</th>\n",
              "      <td>1994</td>\n",
              "      <td>NaN</td>\n",
              "      <td>NaN</td>\n",
              "      <td>NaN</td>\n",
              "      <td>NaN</td>\n",
              "      <td>32.268406</td>\n",
              "    </tr>\n",
              "  </tbody>\n",
              "</table>\n",
              "</div>\n",
              "      <button class=\"colab-df-convert\" onclick=\"convertToInteractive('df-6dbf1279-ee58-4f05-9c48-7d1e573d7356')\"\n",
              "              title=\"Convert this dataframe to an interactive table.\"\n",
              "              style=\"display:none;\">\n",
              "        \n",
              "  <svg xmlns=\"http://www.w3.org/2000/svg\" height=\"24px\"viewBox=\"0 0 24 24\"\n",
              "       width=\"24px\">\n",
              "    <path d=\"M0 0h24v24H0V0z\" fill=\"none\"/>\n",
              "    <path d=\"M18.56 5.44l.94 2.06.94-2.06 2.06-.94-2.06-.94-.94-2.06-.94 2.06-2.06.94zm-11 1L8.5 8.5l.94-2.06 2.06-.94-2.06-.94L8.5 2.5l-.94 2.06-2.06.94zm10 10l.94 2.06.94-2.06 2.06-.94-2.06-.94-.94-2.06-.94 2.06-2.06.94z\"/><path d=\"M17.41 7.96l-1.37-1.37c-.4-.4-.92-.59-1.43-.59-.52 0-1.04.2-1.43.59L10.3 9.45l-7.72 7.72c-.78.78-.78 2.05 0 2.83L4 21.41c.39.39.9.59 1.41.59.51 0 1.02-.2 1.41-.59l7.78-7.78 2.81-2.81c.8-.78.8-2.07 0-2.86zM5.41 20L4 18.59l7.72-7.72 1.47 1.35L5.41 20z\"/>\n",
              "  </svg>\n",
              "      </button>\n",
              "      \n",
              "  <style>\n",
              "    .colab-df-container {\n",
              "      display:flex;\n",
              "      flex-wrap:wrap;\n",
              "      gap: 12px;\n",
              "    }\n",
              "\n",
              "    .colab-df-convert {\n",
              "      background-color: #E8F0FE;\n",
              "      border: none;\n",
              "      border-radius: 50%;\n",
              "      cursor: pointer;\n",
              "      display: none;\n",
              "      fill: #1967D2;\n",
              "      height: 32px;\n",
              "      padding: 0 0 0 0;\n",
              "      width: 32px;\n",
              "    }\n",
              "\n",
              "    .colab-df-convert:hover {\n",
              "      background-color: #E2EBFA;\n",
              "      box-shadow: 0px 1px 2px rgba(60, 64, 67, 0.3), 0px 1px 3px 1px rgba(60, 64, 67, 0.15);\n",
              "      fill: #174EA6;\n",
              "    }\n",
              "\n",
              "    [theme=dark] .colab-df-convert {\n",
              "      background-color: #3B4455;\n",
              "      fill: #D2E3FC;\n",
              "    }\n",
              "\n",
              "    [theme=dark] .colab-df-convert:hover {\n",
              "      background-color: #434B5C;\n",
              "      box-shadow: 0px 1px 3px 1px rgba(0, 0, 0, 0.15);\n",
              "      filter: drop-shadow(0px 1px 2px rgba(0, 0, 0, 0.3));\n",
              "      fill: #FFFFFF;\n",
              "    }\n",
              "  </style>\n",
              "\n",
              "      <script>\n",
              "        const buttonEl =\n",
              "          document.querySelector('#df-6dbf1279-ee58-4f05-9c48-7d1e573d7356 button.colab-df-convert');\n",
              "        buttonEl.style.display =\n",
              "          google.colab.kernel.accessAllowed ? 'block' : 'none';\n",
              "\n",
              "        async function convertToInteractive(key) {\n",
              "          const element = document.querySelector('#df-6dbf1279-ee58-4f05-9c48-7d1e573d7356');\n",
              "          const dataTable =\n",
              "            await google.colab.kernel.invokeFunction('convertToInteractive',\n",
              "                                                     [key], {});\n",
              "          if (!dataTable) return;\n",
              "\n",
              "          const docLinkHtml = 'Like what you see? Visit the ' +\n",
              "            '<a target=\"_blank\" href=https://colab.research.google.com/notebooks/data_table.ipynb>data table notebook</a>'\n",
              "            + ' to learn more about interactive tables.';\n",
              "          element.innerHTML = '';\n",
              "          dataTable['output_type'] = 'display_data';\n",
              "          await google.colab.output.renderOutput(dataTable, element);\n",
              "          const docLink = document.createElement('div');\n",
              "          docLink.innerHTML = docLinkHtml;\n",
              "          element.appendChild(docLink);\n",
              "        }\n",
              "      </script>\n",
              "    </div>\n",
              "  </div>\n",
              "  "
            ]
          },
          "metadata": {},
          "execution_count": 123
        }
      ]
    },
    {
      "cell_type": "code",
      "source": [
        "df_norm = (data_wb[cols]-data_wb[cols].min())/ (data_wb[cols].max() - data_wb[cols].min())"
      ],
      "metadata": {
        "id": "RKCbqKlRwDdN"
      },
      "execution_count": null,
      "outputs": []
    },
    {
      "cell_type": "code",
      "source": [
        "read_name = {'SH.ALC.PCAP.LI': 'alcohol consumption', \n",
        "'SH.XPD.GHED.PP.CD': 'Health Expenditure',\n",
        "'SI.POV.GINI':'Gini Index',\n",
        "'SI.POV.NAHC': 'Poverty',\n",
        "'VC.IHR.PSRC.P5':'Homicide',}"
      ],
      "metadata": {
        "id": "6WNNwYqrv_B8"
      },
      "execution_count": null,
      "outputs": []
    },
    {
      "cell_type": "code",
      "source": [
        "# Normalize data for ease of graphing\n",
        "df_norm = df_norm.rename(columns =read_name)\n",
        "df_norm .head()"
      ],
      "metadata": {
        "id": "J64RhULIvhop",
        "colab": {
          "base_uri": "https://localhost:8080/",
          "height": 206
        },
        "outputId": "83c17f64-4b6c-4872-9de4-6cc979ae4422"
      },
      "execution_count": null,
      "outputs": [
        {
          "output_type": "execute_result",
          "data": {
            "text/plain": [
              "series  alcohol consumption  Health Expenditure  Gini Index  Poverty  Homicide\n",
              "0                       NaN                 NaN         NaN      NaN  0.280793\n",
              "1                       NaN                 NaN         NaN      NaN  0.318982\n",
              "2                       NaN                 NaN         NaN      NaN  0.623216\n",
              "3                       NaN                 NaN         NaN      NaN  0.923848\n",
              "4                       NaN                 NaN         NaN      NaN  1.000000"
            ],
            "text/html": [
              "\n",
              "  <div id=\"df-2d215299-8078-49e6-83a4-5017f53e14b5\">\n",
              "    <div class=\"colab-df-container\">\n",
              "      <div>\n",
              "<style scoped>\n",
              "    .dataframe tbody tr th:only-of-type {\n",
              "        vertical-align: middle;\n",
              "    }\n",
              "\n",
              "    .dataframe tbody tr th {\n",
              "        vertical-align: top;\n",
              "    }\n",
              "\n",
              "    .dataframe thead th {\n",
              "        text-align: right;\n",
              "    }\n",
              "</style>\n",
              "<table border=\"1\" class=\"dataframe\">\n",
              "  <thead>\n",
              "    <tr style=\"text-align: right;\">\n",
              "      <th>series</th>\n",
              "      <th>alcohol consumption</th>\n",
              "      <th>Health Expenditure</th>\n",
              "      <th>Gini Index</th>\n",
              "      <th>Poverty</th>\n",
              "      <th>Homicide</th>\n",
              "    </tr>\n",
              "  </thead>\n",
              "  <tbody>\n",
              "    <tr>\n",
              "      <th>0</th>\n",
              "      <td>NaN</td>\n",
              "      <td>NaN</td>\n",
              "      <td>NaN</td>\n",
              "      <td>NaN</td>\n",
              "      <td>0.280793</td>\n",
              "    </tr>\n",
              "    <tr>\n",
              "      <th>1</th>\n",
              "      <td>NaN</td>\n",
              "      <td>NaN</td>\n",
              "      <td>NaN</td>\n",
              "      <td>NaN</td>\n",
              "      <td>0.318982</td>\n",
              "    </tr>\n",
              "    <tr>\n",
              "      <th>2</th>\n",
              "      <td>NaN</td>\n",
              "      <td>NaN</td>\n",
              "      <td>NaN</td>\n",
              "      <td>NaN</td>\n",
              "      <td>0.623216</td>\n",
              "    </tr>\n",
              "    <tr>\n",
              "      <th>3</th>\n",
              "      <td>NaN</td>\n",
              "      <td>NaN</td>\n",
              "      <td>NaN</td>\n",
              "      <td>NaN</td>\n",
              "      <td>0.923848</td>\n",
              "    </tr>\n",
              "    <tr>\n",
              "      <th>4</th>\n",
              "      <td>NaN</td>\n",
              "      <td>NaN</td>\n",
              "      <td>NaN</td>\n",
              "      <td>NaN</td>\n",
              "      <td>1.000000</td>\n",
              "    </tr>\n",
              "  </tbody>\n",
              "</table>\n",
              "</div>\n",
              "      <button class=\"colab-df-convert\" onclick=\"convertToInteractive('df-2d215299-8078-49e6-83a4-5017f53e14b5')\"\n",
              "              title=\"Convert this dataframe to an interactive table.\"\n",
              "              style=\"display:none;\">\n",
              "        \n",
              "  <svg xmlns=\"http://www.w3.org/2000/svg\" height=\"24px\"viewBox=\"0 0 24 24\"\n",
              "       width=\"24px\">\n",
              "    <path d=\"M0 0h24v24H0V0z\" fill=\"none\"/>\n",
              "    <path d=\"M18.56 5.44l.94 2.06.94-2.06 2.06-.94-2.06-.94-.94-2.06-.94 2.06-2.06.94zm-11 1L8.5 8.5l.94-2.06 2.06-.94-2.06-.94L8.5 2.5l-.94 2.06-2.06.94zm10 10l.94 2.06.94-2.06 2.06-.94-2.06-.94-.94-2.06-.94 2.06-2.06.94z\"/><path d=\"M17.41 7.96l-1.37-1.37c-.4-.4-.92-.59-1.43-.59-.52 0-1.04.2-1.43.59L10.3 9.45l-7.72 7.72c-.78.78-.78 2.05 0 2.83L4 21.41c.39.39.9.59 1.41.59.51 0 1.02-.2 1.41-.59l7.78-7.78 2.81-2.81c.8-.78.8-2.07 0-2.86zM5.41 20L4 18.59l7.72-7.72 1.47 1.35L5.41 20z\"/>\n",
              "  </svg>\n",
              "      </button>\n",
              "      \n",
              "  <style>\n",
              "    .colab-df-container {\n",
              "      display:flex;\n",
              "      flex-wrap:wrap;\n",
              "      gap: 12px;\n",
              "    }\n",
              "\n",
              "    .colab-df-convert {\n",
              "      background-color: #E8F0FE;\n",
              "      border: none;\n",
              "      border-radius: 50%;\n",
              "      cursor: pointer;\n",
              "      display: none;\n",
              "      fill: #1967D2;\n",
              "      height: 32px;\n",
              "      padding: 0 0 0 0;\n",
              "      width: 32px;\n",
              "    }\n",
              "\n",
              "    .colab-df-convert:hover {\n",
              "      background-color: #E2EBFA;\n",
              "      box-shadow: 0px 1px 2px rgba(60, 64, 67, 0.3), 0px 1px 3px 1px rgba(60, 64, 67, 0.15);\n",
              "      fill: #174EA6;\n",
              "    }\n",
              "\n",
              "    [theme=dark] .colab-df-convert {\n",
              "      background-color: #3B4455;\n",
              "      fill: #D2E3FC;\n",
              "    }\n",
              "\n",
              "    [theme=dark] .colab-df-convert:hover {\n",
              "      background-color: #434B5C;\n",
              "      box-shadow: 0px 1px 3px 1px rgba(0, 0, 0, 0.15);\n",
              "      filter: drop-shadow(0px 1px 2px rgba(0, 0, 0, 0.3));\n",
              "      fill: #FFFFFF;\n",
              "    }\n",
              "  </style>\n",
              "\n",
              "      <script>\n",
              "        const buttonEl =\n",
              "          document.querySelector('#df-2d215299-8078-49e6-83a4-5017f53e14b5 button.colab-df-convert');\n",
              "        buttonEl.style.display =\n",
              "          google.colab.kernel.accessAllowed ? 'block' : 'none';\n",
              "\n",
              "        async function convertToInteractive(key) {\n",
              "          const element = document.querySelector('#df-2d215299-8078-49e6-83a4-5017f53e14b5');\n",
              "          const dataTable =\n",
              "            await google.colab.kernel.invokeFunction('convertToInteractive',\n",
              "                                                     [key], {});\n",
              "          if (!dataTable) return;\n",
              "\n",
              "          const docLinkHtml = 'Like what you see? Visit the ' +\n",
              "            '<a target=\"_blank\" href=https://colab.research.google.com/notebooks/data_table.ipynb>data table notebook</a>'\n",
              "            + ' to learn more about interactive tables.';\n",
              "          element.innerHTML = '';\n",
              "          dataTable['output_type'] = 'display_data';\n",
              "          await google.colab.output.renderOutput(dataTable, element);\n",
              "          const docLink = document.createElement('div');\n",
              "          docLink.innerHTML = docLinkHtml;\n",
              "          element.appendChild(docLink);\n",
              "        }\n",
              "      </script>\n",
              "    </div>\n",
              "  </div>\n",
              "  "
            ]
          },
          "metadata": {},
          "execution_count": 126
        }
      ]
    },
    {
      "cell_type": "code",
      "source": [
        "df_norm.insert(0,'Year' ,data_wb['index'])"
      ],
      "metadata": {
        "id": "CCvV3PmqwJoV"
      },
      "execution_count": null,
      "outputs": []
    },
    {
      "cell_type": "code",
      "source": [
        "df_norm.head()"
      ],
      "metadata": {
        "colab": {
          "base_uri": "https://localhost:8080/",
          "height": 206
        },
        "id": "4krbUEmzwFZA",
        "outputId": "623a893c-0c64-4047-9d58-a2a17bd530d7"
      },
      "execution_count": null,
      "outputs": [
        {
          "output_type": "execute_result",
          "data": {
            "text/plain": [
              "series  Year  alcohol consumption  Health Expenditure  Gini Index  Poverty  \\\n",
              "0       1990                  NaN                 NaN         NaN      NaN   \n",
              "1       1991                  NaN                 NaN         NaN      NaN   \n",
              "2       1992                  NaN                 NaN         NaN      NaN   \n",
              "3       1993                  NaN                 NaN         NaN      NaN   \n",
              "4       1994                  NaN                 NaN         NaN      NaN   \n",
              "\n",
              "series  Homicide  \n",
              "0       0.280793  \n",
              "1       0.318982  \n",
              "2       0.623216  \n",
              "3       0.923848  \n",
              "4       1.000000  "
            ],
            "text/html": [
              "\n",
              "  <div id=\"df-e281f3cd-0044-4785-9b2c-435b25213112\">\n",
              "    <div class=\"colab-df-container\">\n",
              "      <div>\n",
              "<style scoped>\n",
              "    .dataframe tbody tr th:only-of-type {\n",
              "        vertical-align: middle;\n",
              "    }\n",
              "\n",
              "    .dataframe tbody tr th {\n",
              "        vertical-align: top;\n",
              "    }\n",
              "\n",
              "    .dataframe thead th {\n",
              "        text-align: right;\n",
              "    }\n",
              "</style>\n",
              "<table border=\"1\" class=\"dataframe\">\n",
              "  <thead>\n",
              "    <tr style=\"text-align: right;\">\n",
              "      <th>series</th>\n",
              "      <th>Year</th>\n",
              "      <th>alcohol consumption</th>\n",
              "      <th>Health Expenditure</th>\n",
              "      <th>Gini Index</th>\n",
              "      <th>Poverty</th>\n",
              "      <th>Homicide</th>\n",
              "    </tr>\n",
              "  </thead>\n",
              "  <tbody>\n",
              "    <tr>\n",
              "      <th>0</th>\n",
              "      <td>1990</td>\n",
              "      <td>NaN</td>\n",
              "      <td>NaN</td>\n",
              "      <td>NaN</td>\n",
              "      <td>NaN</td>\n",
              "      <td>0.280793</td>\n",
              "    </tr>\n",
              "    <tr>\n",
              "      <th>1</th>\n",
              "      <td>1991</td>\n",
              "      <td>NaN</td>\n",
              "      <td>NaN</td>\n",
              "      <td>NaN</td>\n",
              "      <td>NaN</td>\n",
              "      <td>0.318982</td>\n",
              "    </tr>\n",
              "    <tr>\n",
              "      <th>2</th>\n",
              "      <td>1992</td>\n",
              "      <td>NaN</td>\n",
              "      <td>NaN</td>\n",
              "      <td>NaN</td>\n",
              "      <td>NaN</td>\n",
              "      <td>0.623216</td>\n",
              "    </tr>\n",
              "    <tr>\n",
              "      <th>3</th>\n",
              "      <td>1993</td>\n",
              "      <td>NaN</td>\n",
              "      <td>NaN</td>\n",
              "      <td>NaN</td>\n",
              "      <td>NaN</td>\n",
              "      <td>0.923848</td>\n",
              "    </tr>\n",
              "    <tr>\n",
              "      <th>4</th>\n",
              "      <td>1994</td>\n",
              "      <td>NaN</td>\n",
              "      <td>NaN</td>\n",
              "      <td>NaN</td>\n",
              "      <td>NaN</td>\n",
              "      <td>1.000000</td>\n",
              "    </tr>\n",
              "  </tbody>\n",
              "</table>\n",
              "</div>\n",
              "      <button class=\"colab-df-convert\" onclick=\"convertToInteractive('df-e281f3cd-0044-4785-9b2c-435b25213112')\"\n",
              "              title=\"Convert this dataframe to an interactive table.\"\n",
              "              style=\"display:none;\">\n",
              "        \n",
              "  <svg xmlns=\"http://www.w3.org/2000/svg\" height=\"24px\"viewBox=\"0 0 24 24\"\n",
              "       width=\"24px\">\n",
              "    <path d=\"M0 0h24v24H0V0z\" fill=\"none\"/>\n",
              "    <path d=\"M18.56 5.44l.94 2.06.94-2.06 2.06-.94-2.06-.94-.94-2.06-.94 2.06-2.06.94zm-11 1L8.5 8.5l.94-2.06 2.06-.94-2.06-.94L8.5 2.5l-.94 2.06-2.06.94zm10 10l.94 2.06.94-2.06 2.06-.94-2.06-.94-.94-2.06-.94 2.06-2.06.94z\"/><path d=\"M17.41 7.96l-1.37-1.37c-.4-.4-.92-.59-1.43-.59-.52 0-1.04.2-1.43.59L10.3 9.45l-7.72 7.72c-.78.78-.78 2.05 0 2.83L4 21.41c.39.39.9.59 1.41.59.51 0 1.02-.2 1.41-.59l7.78-7.78 2.81-2.81c.8-.78.8-2.07 0-2.86zM5.41 20L4 18.59l7.72-7.72 1.47 1.35L5.41 20z\"/>\n",
              "  </svg>\n",
              "      </button>\n",
              "      \n",
              "  <style>\n",
              "    .colab-df-container {\n",
              "      display:flex;\n",
              "      flex-wrap:wrap;\n",
              "      gap: 12px;\n",
              "    }\n",
              "\n",
              "    .colab-df-convert {\n",
              "      background-color: #E8F0FE;\n",
              "      border: none;\n",
              "      border-radius: 50%;\n",
              "      cursor: pointer;\n",
              "      display: none;\n",
              "      fill: #1967D2;\n",
              "      height: 32px;\n",
              "      padding: 0 0 0 0;\n",
              "      width: 32px;\n",
              "    }\n",
              "\n",
              "    .colab-df-convert:hover {\n",
              "      background-color: #E2EBFA;\n",
              "      box-shadow: 0px 1px 2px rgba(60, 64, 67, 0.3), 0px 1px 3px 1px rgba(60, 64, 67, 0.15);\n",
              "      fill: #174EA6;\n",
              "    }\n",
              "\n",
              "    [theme=dark] .colab-df-convert {\n",
              "      background-color: #3B4455;\n",
              "      fill: #D2E3FC;\n",
              "    }\n",
              "\n",
              "    [theme=dark] .colab-df-convert:hover {\n",
              "      background-color: #434B5C;\n",
              "      box-shadow: 0px 1px 3px 1px rgba(0, 0, 0, 0.15);\n",
              "      filter: drop-shadow(0px 1px 2px rgba(0, 0, 0, 0.3));\n",
              "      fill: #FFFFFF;\n",
              "    }\n",
              "  </style>\n",
              "\n",
              "      <script>\n",
              "        const buttonEl =\n",
              "          document.querySelector('#df-e281f3cd-0044-4785-9b2c-435b25213112 button.colab-df-convert');\n",
              "        buttonEl.style.display =\n",
              "          google.colab.kernel.accessAllowed ? 'block' : 'none';\n",
              "\n",
              "        async function convertToInteractive(key) {\n",
              "          const element = document.querySelector('#df-e281f3cd-0044-4785-9b2c-435b25213112');\n",
              "          const dataTable =\n",
              "            await google.colab.kernel.invokeFunction('convertToInteractive',\n",
              "                                                     [key], {});\n",
              "          if (!dataTable) return;\n",
              "\n",
              "          const docLinkHtml = 'Like what you see? Visit the ' +\n",
              "            '<a target=\"_blank\" href=https://colab.research.google.com/notebooks/data_table.ipynb>data table notebook</a>'\n",
              "            + ' to learn more about interactive tables.';\n",
              "          element.innerHTML = '';\n",
              "          dataTable['output_type'] = 'display_data';\n",
              "          await google.colab.output.renderOutput(dataTable, element);\n",
              "          const docLink = document.createElement('div');\n",
              "          docLink.innerHTML = docLinkHtml;\n",
              "          element.appendChild(docLink);\n",
              "        }\n",
              "      </script>\n",
              "    </div>\n",
              "  </div>\n",
              "  "
            ]
          },
          "metadata": {},
          "execution_count": 128
        }
      ]
    },
    {
      "cell_type": "code",
      "source": [
        "short = df_norm[df_norm['Year']>'1998']"
      ],
      "metadata": {
        "id": "zu-eYGPZwvGO"
      },
      "execution_count": null,
      "outputs": []
    },
    {
      "cell_type": "code",
      "source": [
        "### save both versions 'as is' and normalized:\n",
        "import pathlib\n",
        "from datetime import date\n",
        "\n",
        "date = str(date.today())\n",
        "\n",
        "\n",
        "new_dir = pathlib.Path('/content/drive/MyDrive/RUSSdata/World_Bank/', date)\n",
        "new_dir.mkdir(parents=True, exist_ok=True)\n",
        "\n",
        "short.to_csv(str(new_dir)+'/'+'w_b_normalized.csv', index=False)\n",
        "df_norm.to_csv(str(new_dir)+'/'+'w_b_normalized_long.csv', index=False)\n"
      ],
      "metadata": {
        "id": "SPk4v9LmwQNt"
      },
      "execution_count": null,
      "outputs": []
    },
    {
      "cell_type": "markdown",
      "source": [
        "# Inflation and unemployment data\n",
        "\n",
        "sources:\n",
        "\n",
        "'https://www.statbureau.org/ru' - inflation\n",
        "\n",
        "'https://ruxpert.ru/' - unemploymnet - I cross checked the data on the original source RosStat: https://rosstat.gov.ru/\n"
      ],
      "metadata": {
        "id": "DCtjVQFY0QkR"
      }
    },
    {
      "cell_type": "code",
      "source": [
        "import pathlib\n",
        "from datetime import date\n",
        "\n",
        "date = str(date.today())\n",
        "\n",
        "\n",
        "new_dir = pathlib.Path('/content/drive/MyDrive/RUSSdata/Russ_Stat_Office/', date)\n",
        "new_dir.mkdir(parents=True, exist_ok=True)"
      ],
      "metadata": {
        "id": "d9FQ4wqgC06b"
      },
      "execution_count": null,
      "outputs": []
    },
    {
      "cell_type": "code",
      "source": [
        "import pandas as pd\n",
        "\n",
        "link_ru = 'https://www.statbureau.org/ru/russia/inflation-tables'\n",
        "\n",
        "tables = pd.read_html(link_ru)\n",
        "\n"
      ],
      "metadata": {
        "id": "osmBaEMW9vSS"
      },
      "execution_count": null,
      "outputs": []
    },
    {
      "cell_type": "code",
      "source": [
        "data = tables[1]\n",
        "year = data['Год']\n",
        "data_val = data.iloc[:, 1:]/100\n",
        "data_val.insert(0, 'Year', year, True)"
      ],
      "metadata": {
        "id": "1-IIg-1x-mRj"
      },
      "execution_count": null,
      "outputs": []
    },
    {
      "cell_type": "code",
      "source": [
        "# renaiming columns to English:\n",
        "column_names = ['Year', 'Jan', 'Feb', 'Mar', 'Apr', 'May', 'Jun', 'Jul', 'Aug', 'Sept', 'Oct', 'Nov', 'Dec','Total']\n",
        "\n",
        "data_val.columns=[column_names]"
      ],
      "metadata": {
        "id": "X-azAxHh-r02"
      },
      "execution_count": null,
      "outputs": []
    },
    {
      "cell_type": "code",
      "source": [
        "data_val.to_csv(str(new_dir)+'/'+'inflation_russia.csv', index=False) "
      ],
      "metadata": {
        "id": "-Xwkav9Q-caV"
      },
      "execution_count": null,
      "outputs": []
    },
    {
      "cell_type": "code",
      "source": [
        "import pandas as pd\n",
        "\n",
        "unempl= 'https://ruxpert.ru/%D0%A1%D1%82%D0%B0%D1%82%D0%B8%D1%81%D1%82%D0%B8%D0%BA%D0%B0:%D0%A3%D1%80%D0%BE%D0%B2%D0%B5%D0%BD%D1%8C_%D0%B1%D0%B5%D0%B7%D1%80%D0%B0%D0%B1%D0%BE%D1%82%D0%B8%D1%86%D1%8B_%D0%B2_%D0%A0%D0%BE%D1%81%D1%81%D0%B8%D0%B8' # not working downloaded xlx from https://rosstat.gov.ru/labour_force\n",
        "\n",
        "unempl_tables = pd.read_html(unempl)"
      ],
      "metadata": {
        "id": "TRKnaAMA2y1c"
      },
      "execution_count": null,
      "outputs": []
    },
    {
      "cell_type": "code",
      "source": [
        "data = unempl_tables[0]"
      ],
      "metadata": {
        "id": "YaMPIxsd3A0A"
      },
      "execution_count": null,
      "outputs": []
    },
    {
      "cell_type": "code",
      "source": [
        "data.columns=['Year', 'Unemployment rate(million people)', 'Unemployment rate(% of population)' ]\n"
      ],
      "metadata": {
        "id": "DEXXtf0n5iUv"
      },
      "execution_count": null,
      "outputs": []
    },
    {
      "cell_type": "code",
      "source": [
        "import pandas as pd\n",
        "# typo on original site https://ruxpert.ru/, coma instead of dot\n",
        "\n",
        "data.at[2,'Unemployment rate(% of population)']=7.9"
      ],
      "metadata": {
        "id": "alBndzbxEKuk"
      },
      "execution_count": null,
      "outputs": []
    },
    {
      "cell_type": "code",
      "source": [
        "data.head(3)"
      ],
      "metadata": {
        "colab": {
          "base_uri": "https://localhost:8080/",
          "height": 143
        },
        "id": "DbjieSIvFRrU",
        "outputId": "51857615-f88f-4994-be4f-86507e0a39cb"
      },
      "execution_count": null,
      "outputs": [
        {
          "output_type": "execute_result",
          "data": {
            "text/plain": [
              "   Year  Unemployment rate(million people)  Unemployment rate(% of population)\n",
              "0  2000                              7.700                                10.6\n",
              "1  2001                              6.424                                 9.0\n",
              "2  2002                              5.698                                 7.9"
            ],
            "text/html": [
              "\n",
              "  <div id=\"df-37e1b5ea-ad4b-46e6-9aa3-113437980a82\">\n",
              "    <div class=\"colab-df-container\">\n",
              "      <div>\n",
              "<style scoped>\n",
              "    .dataframe tbody tr th:only-of-type {\n",
              "        vertical-align: middle;\n",
              "    }\n",
              "\n",
              "    .dataframe tbody tr th {\n",
              "        vertical-align: top;\n",
              "    }\n",
              "\n",
              "    .dataframe thead th {\n",
              "        text-align: right;\n",
              "    }\n",
              "</style>\n",
              "<table border=\"1\" class=\"dataframe\">\n",
              "  <thead>\n",
              "    <tr style=\"text-align: right;\">\n",
              "      <th></th>\n",
              "      <th>Year</th>\n",
              "      <th>Unemployment rate(million people)</th>\n",
              "      <th>Unemployment rate(% of population)</th>\n",
              "    </tr>\n",
              "  </thead>\n",
              "  <tbody>\n",
              "    <tr>\n",
              "      <th>0</th>\n",
              "      <td>2000</td>\n",
              "      <td>7.700</td>\n",
              "      <td>10.6</td>\n",
              "    </tr>\n",
              "    <tr>\n",
              "      <th>1</th>\n",
              "      <td>2001</td>\n",
              "      <td>6.424</td>\n",
              "      <td>9.0</td>\n",
              "    </tr>\n",
              "    <tr>\n",
              "      <th>2</th>\n",
              "      <td>2002</td>\n",
              "      <td>5.698</td>\n",
              "      <td>7.9</td>\n",
              "    </tr>\n",
              "  </tbody>\n",
              "</table>\n",
              "</div>\n",
              "      <button class=\"colab-df-convert\" onclick=\"convertToInteractive('df-37e1b5ea-ad4b-46e6-9aa3-113437980a82')\"\n",
              "              title=\"Convert this dataframe to an interactive table.\"\n",
              "              style=\"display:none;\">\n",
              "        \n",
              "  <svg xmlns=\"http://www.w3.org/2000/svg\" height=\"24px\"viewBox=\"0 0 24 24\"\n",
              "       width=\"24px\">\n",
              "    <path d=\"M0 0h24v24H0V0z\" fill=\"none\"/>\n",
              "    <path d=\"M18.56 5.44l.94 2.06.94-2.06 2.06-.94-2.06-.94-.94-2.06-.94 2.06-2.06.94zm-11 1L8.5 8.5l.94-2.06 2.06-.94-2.06-.94L8.5 2.5l-.94 2.06-2.06.94zm10 10l.94 2.06.94-2.06 2.06-.94-2.06-.94-.94-2.06-.94 2.06-2.06.94z\"/><path d=\"M17.41 7.96l-1.37-1.37c-.4-.4-.92-.59-1.43-.59-.52 0-1.04.2-1.43.59L10.3 9.45l-7.72 7.72c-.78.78-.78 2.05 0 2.83L4 21.41c.39.39.9.59 1.41.59.51 0 1.02-.2 1.41-.59l7.78-7.78 2.81-2.81c.8-.78.8-2.07 0-2.86zM5.41 20L4 18.59l7.72-7.72 1.47 1.35L5.41 20z\"/>\n",
              "  </svg>\n",
              "      </button>\n",
              "      \n",
              "  <style>\n",
              "    .colab-df-container {\n",
              "      display:flex;\n",
              "      flex-wrap:wrap;\n",
              "      gap: 12px;\n",
              "    }\n",
              "\n",
              "    .colab-df-convert {\n",
              "      background-color: #E8F0FE;\n",
              "      border: none;\n",
              "      border-radius: 50%;\n",
              "      cursor: pointer;\n",
              "      display: none;\n",
              "      fill: #1967D2;\n",
              "      height: 32px;\n",
              "      padding: 0 0 0 0;\n",
              "      width: 32px;\n",
              "    }\n",
              "\n",
              "    .colab-df-convert:hover {\n",
              "      background-color: #E2EBFA;\n",
              "      box-shadow: 0px 1px 2px rgba(60, 64, 67, 0.3), 0px 1px 3px 1px rgba(60, 64, 67, 0.15);\n",
              "      fill: #174EA6;\n",
              "    }\n",
              "\n",
              "    [theme=dark] .colab-df-convert {\n",
              "      background-color: #3B4455;\n",
              "      fill: #D2E3FC;\n",
              "    }\n",
              "\n",
              "    [theme=dark] .colab-df-convert:hover {\n",
              "      background-color: #434B5C;\n",
              "      box-shadow: 0px 1px 3px 1px rgba(0, 0, 0, 0.15);\n",
              "      filter: drop-shadow(0px 1px 2px rgba(0, 0, 0, 0.3));\n",
              "      fill: #FFFFFF;\n",
              "    }\n",
              "  </style>\n",
              "\n",
              "      <script>\n",
              "        const buttonEl =\n",
              "          document.querySelector('#df-37e1b5ea-ad4b-46e6-9aa3-113437980a82 button.colab-df-convert');\n",
              "        buttonEl.style.display =\n",
              "          google.colab.kernel.accessAllowed ? 'block' : 'none';\n",
              "\n",
              "        async function convertToInteractive(key) {\n",
              "          const element = document.querySelector('#df-37e1b5ea-ad4b-46e6-9aa3-113437980a82');\n",
              "          const dataTable =\n",
              "            await google.colab.kernel.invokeFunction('convertToInteractive',\n",
              "                                                     [key], {});\n",
              "          if (!dataTable) return;\n",
              "\n",
              "          const docLinkHtml = 'Like what you see? Visit the ' +\n",
              "            '<a target=\"_blank\" href=https://colab.research.google.com/notebooks/data_table.ipynb>data table notebook</a>'\n",
              "            + ' to learn more about interactive tables.';\n",
              "          element.innerHTML = '';\n",
              "          dataTable['output_type'] = 'display_data';\n",
              "          await google.colab.output.renderOutput(dataTable, element);\n",
              "          const docLink = document.createElement('div');\n",
              "          docLink.innerHTML = docLinkHtml;\n",
              "          element.appendChild(docLink);\n",
              "        }\n",
              "      </script>\n",
              "    </div>\n",
              "  </div>\n",
              "  "
            ]
          },
          "metadata": {},
          "execution_count": 140
        }
      ]
    },
    {
      "cell_type": "markdown",
      "source": [
        "adding back in :\n",
        "data for year 2021 and 2022, downloaded xlx from https://rosstat.gov.ru/labour_force"
      ],
      "metadata": {
        "id": "R8n30wSo6Kjy"
      }
    },
    {
      "cell_type": "code",
      "source": [
        "#add back in 2021\n",
        "year_2021= {'Year':'2021','Unemployment rate(million people)':3.630, 'Unemployment rate(% of population)':4.8 }\n",
        "\n",
        "data = data.append(year_2021, ignore_index=True)\n",
        "data.head()"
      ],
      "metadata": {
        "colab": {
          "base_uri": "https://localhost:8080/",
          "height": 206
        },
        "id": "cLsDQs1n-suQ",
        "outputId": "ad6280cc-ed07-46a3-fd4e-5a58b1093915"
      },
      "execution_count": null,
      "outputs": [
        {
          "output_type": "execute_result",
          "data": {
            "text/plain": [
              "   Year  Unemployment rate(million people)  Unemployment rate(% of population)\n",
              "0  2000                              7.700                                10.6\n",
              "1  2001                              6.424                                 9.0\n",
              "2  2002                              5.698                                 7.9\n",
              "3  2003                              5.934                                 8.2\n",
              "4  2004                              5.666                                 7.8"
            ],
            "text/html": [
              "\n",
              "  <div id=\"df-226c58bb-f312-4ffa-8109-2133da3d6c49\">\n",
              "    <div class=\"colab-df-container\">\n",
              "      <div>\n",
              "<style scoped>\n",
              "    .dataframe tbody tr th:only-of-type {\n",
              "        vertical-align: middle;\n",
              "    }\n",
              "\n",
              "    .dataframe tbody tr th {\n",
              "        vertical-align: top;\n",
              "    }\n",
              "\n",
              "    .dataframe thead th {\n",
              "        text-align: right;\n",
              "    }\n",
              "</style>\n",
              "<table border=\"1\" class=\"dataframe\">\n",
              "  <thead>\n",
              "    <tr style=\"text-align: right;\">\n",
              "      <th></th>\n",
              "      <th>Year</th>\n",
              "      <th>Unemployment rate(million people)</th>\n",
              "      <th>Unemployment rate(% of population)</th>\n",
              "    </tr>\n",
              "  </thead>\n",
              "  <tbody>\n",
              "    <tr>\n",
              "      <th>0</th>\n",
              "      <td>2000</td>\n",
              "      <td>7.700</td>\n",
              "      <td>10.6</td>\n",
              "    </tr>\n",
              "    <tr>\n",
              "      <th>1</th>\n",
              "      <td>2001</td>\n",
              "      <td>6.424</td>\n",
              "      <td>9.0</td>\n",
              "    </tr>\n",
              "    <tr>\n",
              "      <th>2</th>\n",
              "      <td>2002</td>\n",
              "      <td>5.698</td>\n",
              "      <td>7.9</td>\n",
              "    </tr>\n",
              "    <tr>\n",
              "      <th>3</th>\n",
              "      <td>2003</td>\n",
              "      <td>5.934</td>\n",
              "      <td>8.2</td>\n",
              "    </tr>\n",
              "    <tr>\n",
              "      <th>4</th>\n",
              "      <td>2004</td>\n",
              "      <td>5.666</td>\n",
              "      <td>7.8</td>\n",
              "    </tr>\n",
              "  </tbody>\n",
              "</table>\n",
              "</div>\n",
              "      <button class=\"colab-df-convert\" onclick=\"convertToInteractive('df-226c58bb-f312-4ffa-8109-2133da3d6c49')\"\n",
              "              title=\"Convert this dataframe to an interactive table.\"\n",
              "              style=\"display:none;\">\n",
              "        \n",
              "  <svg xmlns=\"http://www.w3.org/2000/svg\" height=\"24px\"viewBox=\"0 0 24 24\"\n",
              "       width=\"24px\">\n",
              "    <path d=\"M0 0h24v24H0V0z\" fill=\"none\"/>\n",
              "    <path d=\"M18.56 5.44l.94 2.06.94-2.06 2.06-.94-2.06-.94-.94-2.06-.94 2.06-2.06.94zm-11 1L8.5 8.5l.94-2.06 2.06-.94-2.06-.94L8.5 2.5l-.94 2.06-2.06.94zm10 10l.94 2.06.94-2.06 2.06-.94-2.06-.94-.94-2.06-.94 2.06-2.06.94z\"/><path d=\"M17.41 7.96l-1.37-1.37c-.4-.4-.92-.59-1.43-.59-.52 0-1.04.2-1.43.59L10.3 9.45l-7.72 7.72c-.78.78-.78 2.05 0 2.83L4 21.41c.39.39.9.59 1.41.59.51 0 1.02-.2 1.41-.59l7.78-7.78 2.81-2.81c.8-.78.8-2.07 0-2.86zM5.41 20L4 18.59l7.72-7.72 1.47 1.35L5.41 20z\"/>\n",
              "  </svg>\n",
              "      </button>\n",
              "      \n",
              "  <style>\n",
              "    .colab-df-container {\n",
              "      display:flex;\n",
              "      flex-wrap:wrap;\n",
              "      gap: 12px;\n",
              "    }\n",
              "\n",
              "    .colab-df-convert {\n",
              "      background-color: #E8F0FE;\n",
              "      border: none;\n",
              "      border-radius: 50%;\n",
              "      cursor: pointer;\n",
              "      display: none;\n",
              "      fill: #1967D2;\n",
              "      height: 32px;\n",
              "      padding: 0 0 0 0;\n",
              "      width: 32px;\n",
              "    }\n",
              "\n",
              "    .colab-df-convert:hover {\n",
              "      background-color: #E2EBFA;\n",
              "      box-shadow: 0px 1px 2px rgba(60, 64, 67, 0.3), 0px 1px 3px 1px rgba(60, 64, 67, 0.15);\n",
              "      fill: #174EA6;\n",
              "    }\n",
              "\n",
              "    [theme=dark] .colab-df-convert {\n",
              "      background-color: #3B4455;\n",
              "      fill: #D2E3FC;\n",
              "    }\n",
              "\n",
              "    [theme=dark] .colab-df-convert:hover {\n",
              "      background-color: #434B5C;\n",
              "      box-shadow: 0px 1px 3px 1px rgba(0, 0, 0, 0.15);\n",
              "      filter: drop-shadow(0px 1px 2px rgba(0, 0, 0, 0.3));\n",
              "      fill: #FFFFFF;\n",
              "    }\n",
              "  </style>\n",
              "\n",
              "      <script>\n",
              "        const buttonEl =\n",
              "          document.querySelector('#df-226c58bb-f312-4ffa-8109-2133da3d6c49 button.colab-df-convert');\n",
              "        buttonEl.style.display =\n",
              "          google.colab.kernel.accessAllowed ? 'block' : 'none';\n",
              "\n",
              "        async function convertToInteractive(key) {\n",
              "          const element = document.querySelector('#df-226c58bb-f312-4ffa-8109-2133da3d6c49');\n",
              "          const dataTable =\n",
              "            await google.colab.kernel.invokeFunction('convertToInteractive',\n",
              "                                                     [key], {});\n",
              "          if (!dataTable) return;\n",
              "\n",
              "          const docLinkHtml = 'Like what you see? Visit the ' +\n",
              "            '<a target=\"_blank\" href=https://colab.research.google.com/notebooks/data_table.ipynb>data table notebook</a>'\n",
              "            + ' to learn more about interactive tables.';\n",
              "          element.innerHTML = '';\n",
              "          dataTable['output_type'] = 'display_data';\n",
              "          await google.colab.output.renderOutput(dataTable, element);\n",
              "          const docLink = document.createElement('div');\n",
              "          docLink.innerHTML = docLinkHtml;\n",
              "          element.appendChild(docLink);\n",
              "        }\n",
              "      </script>\n",
              "    </div>\n",
              "  </div>\n",
              "  "
            ]
          },
          "metadata": {},
          "execution_count": 141
        }
      ]
    },
    {
      "cell_type": "code",
      "source": [
        "unemp_ross= pd.read_csv('/content/drive/MyDrive/RUSSdata/Russ_Stat_Office/unemp_2022_rostat.txt', sep='\\t')\n",
        "unemp_ross_2022 = unemp_ross.iloc[:, :-5]"
      ],
      "metadata": {
        "id": "nfMvzb986Avo"
      },
      "execution_count": null,
      "outputs": []
    },
    {
      "cell_type": "code",
      "source": [
        "unemp_ross_2022 #save this "
      ],
      "metadata": {
        "colab": {
          "base_uri": "https://localhost:8080/",
          "height": 269
        },
        "id": "UayIIaOv6vXE",
        "outputId": "9fee9f7d-50fb-4fbc-b3ca-790a59bcda4e"
      },
      "execution_count": null,
      "outputs": [
        {
          "output_type": "execute_result",
          "data": {
            "text/plain": [
              "      year  Unemployment rate (million people)  \\\n",
              "0  2022-01                               3.296   \n",
              "1  2022-02                               3.071   \n",
              "2  2022-03                               3.078   \n",
              "3  2022-04                               3.005   \n",
              "4  2022-05                               2.946   \n",
              "5  2022-06                               2.951   \n",
              "6  2022-07                               2.900   \n",
              "\n",
              "   Unemployment rate (% of population)  \n",
              "0                                  4.4  \n",
              "1                                  4.1  \n",
              "2                                  4.1  \n",
              "3                                  4.0  \n",
              "4                                  3.9  \n",
              "5                                  3.9  \n",
              "6                                  3.9  "
            ],
            "text/html": [
              "\n",
              "  <div id=\"df-89d2812d-7c37-40fe-986d-b7bbc8a86f8b\">\n",
              "    <div class=\"colab-df-container\">\n",
              "      <div>\n",
              "<style scoped>\n",
              "    .dataframe tbody tr th:only-of-type {\n",
              "        vertical-align: middle;\n",
              "    }\n",
              "\n",
              "    .dataframe tbody tr th {\n",
              "        vertical-align: top;\n",
              "    }\n",
              "\n",
              "    .dataframe thead th {\n",
              "        text-align: right;\n",
              "    }\n",
              "</style>\n",
              "<table border=\"1\" class=\"dataframe\">\n",
              "  <thead>\n",
              "    <tr style=\"text-align: right;\">\n",
              "      <th></th>\n",
              "      <th>year</th>\n",
              "      <th>Unemployment rate (million people)</th>\n",
              "      <th>Unemployment rate (% of population)</th>\n",
              "    </tr>\n",
              "  </thead>\n",
              "  <tbody>\n",
              "    <tr>\n",
              "      <th>0</th>\n",
              "      <td>2022-01</td>\n",
              "      <td>3.296</td>\n",
              "      <td>4.4</td>\n",
              "    </tr>\n",
              "    <tr>\n",
              "      <th>1</th>\n",
              "      <td>2022-02</td>\n",
              "      <td>3.071</td>\n",
              "      <td>4.1</td>\n",
              "    </tr>\n",
              "    <tr>\n",
              "      <th>2</th>\n",
              "      <td>2022-03</td>\n",
              "      <td>3.078</td>\n",
              "      <td>4.1</td>\n",
              "    </tr>\n",
              "    <tr>\n",
              "      <th>3</th>\n",
              "      <td>2022-04</td>\n",
              "      <td>3.005</td>\n",
              "      <td>4.0</td>\n",
              "    </tr>\n",
              "    <tr>\n",
              "      <th>4</th>\n",
              "      <td>2022-05</td>\n",
              "      <td>2.946</td>\n",
              "      <td>3.9</td>\n",
              "    </tr>\n",
              "    <tr>\n",
              "      <th>5</th>\n",
              "      <td>2022-06</td>\n",
              "      <td>2.951</td>\n",
              "      <td>3.9</td>\n",
              "    </tr>\n",
              "    <tr>\n",
              "      <th>6</th>\n",
              "      <td>2022-07</td>\n",
              "      <td>2.900</td>\n",
              "      <td>3.9</td>\n",
              "    </tr>\n",
              "  </tbody>\n",
              "</table>\n",
              "</div>\n",
              "      <button class=\"colab-df-convert\" onclick=\"convertToInteractive('df-89d2812d-7c37-40fe-986d-b7bbc8a86f8b')\"\n",
              "              title=\"Convert this dataframe to an interactive table.\"\n",
              "              style=\"display:none;\">\n",
              "        \n",
              "  <svg xmlns=\"http://www.w3.org/2000/svg\" height=\"24px\"viewBox=\"0 0 24 24\"\n",
              "       width=\"24px\">\n",
              "    <path d=\"M0 0h24v24H0V0z\" fill=\"none\"/>\n",
              "    <path d=\"M18.56 5.44l.94 2.06.94-2.06 2.06-.94-2.06-.94-.94-2.06-.94 2.06-2.06.94zm-11 1L8.5 8.5l.94-2.06 2.06-.94-2.06-.94L8.5 2.5l-.94 2.06-2.06.94zm10 10l.94 2.06.94-2.06 2.06-.94-2.06-.94-.94-2.06-.94 2.06-2.06.94z\"/><path d=\"M17.41 7.96l-1.37-1.37c-.4-.4-.92-.59-1.43-.59-.52 0-1.04.2-1.43.59L10.3 9.45l-7.72 7.72c-.78.78-.78 2.05 0 2.83L4 21.41c.39.39.9.59 1.41.59.51 0 1.02-.2 1.41-.59l7.78-7.78 2.81-2.81c.8-.78.8-2.07 0-2.86zM5.41 20L4 18.59l7.72-7.72 1.47 1.35L5.41 20z\"/>\n",
              "  </svg>\n",
              "      </button>\n",
              "      \n",
              "  <style>\n",
              "    .colab-df-container {\n",
              "      display:flex;\n",
              "      flex-wrap:wrap;\n",
              "      gap: 12px;\n",
              "    }\n",
              "\n",
              "    .colab-df-convert {\n",
              "      background-color: #E8F0FE;\n",
              "      border: none;\n",
              "      border-radius: 50%;\n",
              "      cursor: pointer;\n",
              "      display: none;\n",
              "      fill: #1967D2;\n",
              "      height: 32px;\n",
              "      padding: 0 0 0 0;\n",
              "      width: 32px;\n",
              "    }\n",
              "\n",
              "    .colab-df-convert:hover {\n",
              "      background-color: #E2EBFA;\n",
              "      box-shadow: 0px 1px 2px rgba(60, 64, 67, 0.3), 0px 1px 3px 1px rgba(60, 64, 67, 0.15);\n",
              "      fill: #174EA6;\n",
              "    }\n",
              "\n",
              "    [theme=dark] .colab-df-convert {\n",
              "      background-color: #3B4455;\n",
              "      fill: #D2E3FC;\n",
              "    }\n",
              "\n",
              "    [theme=dark] .colab-df-convert:hover {\n",
              "      background-color: #434B5C;\n",
              "      box-shadow: 0px 1px 3px 1px rgba(0, 0, 0, 0.15);\n",
              "      filter: drop-shadow(0px 1px 2px rgba(0, 0, 0, 0.3));\n",
              "      fill: #FFFFFF;\n",
              "    }\n",
              "  </style>\n",
              "\n",
              "      <script>\n",
              "        const buttonEl =\n",
              "          document.querySelector('#df-89d2812d-7c37-40fe-986d-b7bbc8a86f8b button.colab-df-convert');\n",
              "        buttonEl.style.display =\n",
              "          google.colab.kernel.accessAllowed ? 'block' : 'none';\n",
              "\n",
              "        async function convertToInteractive(key) {\n",
              "          const element = document.querySelector('#df-89d2812d-7c37-40fe-986d-b7bbc8a86f8b');\n",
              "          const dataTable =\n",
              "            await google.colab.kernel.invokeFunction('convertToInteractive',\n",
              "                                                     [key], {});\n",
              "          if (!dataTable) return;\n",
              "\n",
              "          const docLinkHtml = 'Like what you see? Visit the ' +\n",
              "            '<a target=\"_blank\" href=https://colab.research.google.com/notebooks/data_table.ipynb>data table notebook</a>'\n",
              "            + ' to learn more about interactive tables.';\n",
              "          element.innerHTML = '';\n",
              "          dataTable['output_type'] = 'display_data';\n",
              "          await google.colab.output.renderOutput(dataTable, element);\n",
              "          const docLink = document.createElement('div');\n",
              "          docLink.innerHTML = docLinkHtml;\n",
              "          element.appendChild(docLink);\n",
              "        }\n",
              "      </script>\n",
              "    </div>\n",
              "  </div>\n",
              "  "
            ]
          },
          "metadata": {},
          "execution_count": 143
        }
      ]
    },
    {
      "cell_type": "code",
      "source": [
        "#append average so far\n",
        "new_row =['2022',unemp_ross_2022['Unemployment rate (million people)'].mean(),unemp_ross_2022['Unemployment rate (% of population)'].mean() ]\n",
        "year_2022 = {'Year':'2022','Unemployment rate(million people)':unemp_ross_2022['Unemployment rate (million people)'].mean(),\n",
        "             'Unemployment rate(% of population)':unemp_ross_2022['Unemployment rate (% of population)'].mean()}\n",
        "data = data.append(year_2022, ignore_index=True)\n",
        "data.head()"
      ],
      "metadata": {
        "colab": {
          "base_uri": "https://localhost:8080/",
          "height": 206
        },
        "id": "f2QkgRom-oIE",
        "outputId": "b6fda762-cb1f-4ece-b84a-fde6eb308aed"
      },
      "execution_count": null,
      "outputs": [
        {
          "output_type": "execute_result",
          "data": {
            "text/plain": [
              "   Year  Unemployment rate(million people)  Unemployment rate(% of population)\n",
              "0  2000                              7.700                                10.6\n",
              "1  2001                              6.424                                 9.0\n",
              "2  2002                              5.698                                 7.9\n",
              "3  2003                              5.934                                 8.2\n",
              "4  2004                              5.666                                 7.8"
            ],
            "text/html": [
              "\n",
              "  <div id=\"df-272d5497-b37b-4b97-8517-4bbfeb2848d1\">\n",
              "    <div class=\"colab-df-container\">\n",
              "      <div>\n",
              "<style scoped>\n",
              "    .dataframe tbody tr th:only-of-type {\n",
              "        vertical-align: middle;\n",
              "    }\n",
              "\n",
              "    .dataframe tbody tr th {\n",
              "        vertical-align: top;\n",
              "    }\n",
              "\n",
              "    .dataframe thead th {\n",
              "        text-align: right;\n",
              "    }\n",
              "</style>\n",
              "<table border=\"1\" class=\"dataframe\">\n",
              "  <thead>\n",
              "    <tr style=\"text-align: right;\">\n",
              "      <th></th>\n",
              "      <th>Year</th>\n",
              "      <th>Unemployment rate(million people)</th>\n",
              "      <th>Unemployment rate(% of population)</th>\n",
              "    </tr>\n",
              "  </thead>\n",
              "  <tbody>\n",
              "    <tr>\n",
              "      <th>0</th>\n",
              "      <td>2000</td>\n",
              "      <td>7.700</td>\n",
              "      <td>10.6</td>\n",
              "    </tr>\n",
              "    <tr>\n",
              "      <th>1</th>\n",
              "      <td>2001</td>\n",
              "      <td>6.424</td>\n",
              "      <td>9.0</td>\n",
              "    </tr>\n",
              "    <tr>\n",
              "      <th>2</th>\n",
              "      <td>2002</td>\n",
              "      <td>5.698</td>\n",
              "      <td>7.9</td>\n",
              "    </tr>\n",
              "    <tr>\n",
              "      <th>3</th>\n",
              "      <td>2003</td>\n",
              "      <td>5.934</td>\n",
              "      <td>8.2</td>\n",
              "    </tr>\n",
              "    <tr>\n",
              "      <th>4</th>\n",
              "      <td>2004</td>\n",
              "      <td>5.666</td>\n",
              "      <td>7.8</td>\n",
              "    </tr>\n",
              "  </tbody>\n",
              "</table>\n",
              "</div>\n",
              "      <button class=\"colab-df-convert\" onclick=\"convertToInteractive('df-272d5497-b37b-4b97-8517-4bbfeb2848d1')\"\n",
              "              title=\"Convert this dataframe to an interactive table.\"\n",
              "              style=\"display:none;\">\n",
              "        \n",
              "  <svg xmlns=\"http://www.w3.org/2000/svg\" height=\"24px\"viewBox=\"0 0 24 24\"\n",
              "       width=\"24px\">\n",
              "    <path d=\"M0 0h24v24H0V0z\" fill=\"none\"/>\n",
              "    <path d=\"M18.56 5.44l.94 2.06.94-2.06 2.06-.94-2.06-.94-.94-2.06-.94 2.06-2.06.94zm-11 1L8.5 8.5l.94-2.06 2.06-.94-2.06-.94L8.5 2.5l-.94 2.06-2.06.94zm10 10l.94 2.06.94-2.06 2.06-.94-2.06-.94-.94-2.06-.94 2.06-2.06.94z\"/><path d=\"M17.41 7.96l-1.37-1.37c-.4-.4-.92-.59-1.43-.59-.52 0-1.04.2-1.43.59L10.3 9.45l-7.72 7.72c-.78.78-.78 2.05 0 2.83L4 21.41c.39.39.9.59 1.41.59.51 0 1.02-.2 1.41-.59l7.78-7.78 2.81-2.81c.8-.78.8-2.07 0-2.86zM5.41 20L4 18.59l7.72-7.72 1.47 1.35L5.41 20z\"/>\n",
              "  </svg>\n",
              "      </button>\n",
              "      \n",
              "  <style>\n",
              "    .colab-df-container {\n",
              "      display:flex;\n",
              "      flex-wrap:wrap;\n",
              "      gap: 12px;\n",
              "    }\n",
              "\n",
              "    .colab-df-convert {\n",
              "      background-color: #E8F0FE;\n",
              "      border: none;\n",
              "      border-radius: 50%;\n",
              "      cursor: pointer;\n",
              "      display: none;\n",
              "      fill: #1967D2;\n",
              "      height: 32px;\n",
              "      padding: 0 0 0 0;\n",
              "      width: 32px;\n",
              "    }\n",
              "\n",
              "    .colab-df-convert:hover {\n",
              "      background-color: #E2EBFA;\n",
              "      box-shadow: 0px 1px 2px rgba(60, 64, 67, 0.3), 0px 1px 3px 1px rgba(60, 64, 67, 0.15);\n",
              "      fill: #174EA6;\n",
              "    }\n",
              "\n",
              "    [theme=dark] .colab-df-convert {\n",
              "      background-color: #3B4455;\n",
              "      fill: #D2E3FC;\n",
              "    }\n",
              "\n",
              "    [theme=dark] .colab-df-convert:hover {\n",
              "      background-color: #434B5C;\n",
              "      box-shadow: 0px 1px 3px 1px rgba(0, 0, 0, 0.15);\n",
              "      filter: drop-shadow(0px 1px 2px rgba(0, 0, 0, 0.3));\n",
              "      fill: #FFFFFF;\n",
              "    }\n",
              "  </style>\n",
              "\n",
              "      <script>\n",
              "        const buttonEl =\n",
              "          document.querySelector('#df-272d5497-b37b-4b97-8517-4bbfeb2848d1 button.colab-df-convert');\n",
              "        buttonEl.style.display =\n",
              "          google.colab.kernel.accessAllowed ? 'block' : 'none';\n",
              "\n",
              "        async function convertToInteractive(key) {\n",
              "          const element = document.querySelector('#df-272d5497-b37b-4b97-8517-4bbfeb2848d1');\n",
              "          const dataTable =\n",
              "            await google.colab.kernel.invokeFunction('convertToInteractive',\n",
              "                                                     [key], {});\n",
              "          if (!dataTable) return;\n",
              "\n",
              "          const docLinkHtml = 'Like what you see? Visit the ' +\n",
              "            '<a target=\"_blank\" href=https://colab.research.google.com/notebooks/data_table.ipynb>data table notebook</a>'\n",
              "            + ' to learn more about interactive tables.';\n",
              "          element.innerHTML = '';\n",
              "          dataTable['output_type'] = 'display_data';\n",
              "          await google.colab.output.renderOutput(dataTable, element);\n",
              "          const docLink = document.createElement('div');\n",
              "          docLink.innerHTML = docLinkHtml;\n",
              "          element.appendChild(docLink);\n",
              "        }\n",
              "      </script>\n",
              "    </div>\n",
              "  </div>\n",
              "  "
            ]
          },
          "metadata": {},
          "execution_count": 144
        }
      ]
    },
    {
      "cell_type": "code",
      "source": [
        "data.to_csv('/content/drive/MyDrive/RUSSdata/Russ_Stat_Office/yearly_unemployment.csv', index=False)\n",
        "unemp_ross_2022.to_csv('/content/drive/MyDrive/RUSSdata/Russ_Stat_Office/monthly_unemployment_2022.csv', index=False)\n"
      ],
      "metadata": {
        "id": "539-HZ5AA8AF"
      },
      "execution_count": null,
      "outputs": []
    }
  ]
}