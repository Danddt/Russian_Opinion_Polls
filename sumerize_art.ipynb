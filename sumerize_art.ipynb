{
  "nbformat": 4,
  "nbformat_minor": 0,
  "metadata": {
    "colab": {
      "provenance": [],
      "mount_file_id": "1UPGN1RZD4_e7fGob9tChuPZaxmqDG_Gi",
      "authorship_tag": "ABX9TyPGTEVS7lVCWjEmSPiMZPCc",
      "include_colab_link": true
    },
    "kernelspec": {
      "name": "python3",
      "display_name": "Python 3"
    },
    "language_info": {
      "name": "python"
    }
  },
  "cells": [
    {
      "cell_type": "markdown",
      "metadata": {
        "id": "view-in-github",
        "colab_type": "text"
      },
      "source": [
        "<a href=\"https://colab.research.google.com/github/Danddt/Russian_Opinion_Polls/blob/main/sumerize_art.ipynb\" target=\"_parent\"><img src=\"https://colab.research.google.com/assets/colab-badge.svg\" alt=\"Open In Colab\"/></a>"
      ]
    },
    {
      "cell_type": "code",
      "source": [
        "import torch"
      ],
      "metadata": {
        "id": "audf0S-Fht_L"
      },
      "execution_count": null,
      "outputs": []
    },
    {
      "cell_type": "code",
      "execution_count": null,
      "metadata": {
        "id": "hlCXQaZHgi8f"
      },
      "outputs": [],
      "source": [
        "import spacy\n",
        "from spacy.lang.en.stop_words import STOP_WORDS\n",
        "from string import punctuation\n",
        "from heapq import nlargest"
      ]
    },
    {
      "cell_type": "code",
      "source": [
        "# source code: https://www.activestate.com/blog/how-to-do-text-summarization-with-python/\n",
        "def summarize(text, per):\n",
        "    nlp = spacy.load('en_core_web_sm')\n",
        "    doc= nlp(text)\n",
        "    tokens=[token.text for token in doc]\n",
        "    word_frequencies={}\n",
        "    for word in doc:\n",
        "        if word.text.lower() not in list(STOP_WORDS):\n",
        "            if word.text.lower() not in punctuation:\n",
        "                if word.text not in word_frequencies.keys():\n",
        "                    word_frequencies[word.text] = 1\n",
        "                else:\n",
        "                    word_frequencies[word.text] += 1\n",
        "    max_frequency=max(word_frequencies.values())\n",
        "    for word in word_frequencies.keys():\n",
        "        word_frequencies[word]=word_frequencies[word]/max_frequency\n",
        "    sentence_tokens= [sent for sent in doc.sents]\n",
        "    sentence_scores = {}\n",
        "    for sent in sentence_tokens:\n",
        "        for word in sent:\n",
        "            if word.text.lower() in word_frequencies.keys():\n",
        "                if sent not in sentence_scores.keys():                            \n",
        "                    sentence_scores[sent]=word_frequencies[word.text.lower()]\n",
        "                else:\n",
        "                    sentence_scores[sent]+=word_frequencies[word.text.lower()]\n",
        "    select_length=int(len(sentence_tokens)*per)\n",
        "    summary=nlargest(select_length, sentence_scores,key=sentence_scores.get)\n",
        "    final_summary=[word.text for word in summary]\n",
        "    summary=''.join(final_summary)\n",
        "    return summary"
      ],
      "metadata": {
        "id": "B4wpzKhghJbS"
      },
      "execution_count": null,
      "outputs": []
    },
    {
      "cell_type": "code",
      "source": [
        "with open('/content/drive/MyDrive/news/Petro_Poroshenko.txt', 'r') as file:\n",
        "    poroshenko = file.read().replace('\\n', ' ')"
      ],
      "metadata": {
        "id": "9XnHdwDgiAgq"
      },
      "execution_count": null,
      "outputs": []
    },
    {
      "cell_type": "code",
      "source": [
        "summarize(poroshenko, 0.05)"
      ],
      "metadata": {
        "colab": {
          "base_uri": "https://localhost:8080/",
          "height": 71
        },
        "id": "PyXt9m4siO3X",
        "outputId": "8a092754-4d42-496c-ee40-a5596841c7ec"
      },
      "execution_count": null,
      "outputs": [
        {
          "output_type": "execute_result",
          "data": {
            "text/plain": [
              "\"We have enough weapons to resist, to stop Putin, but we definitely don't have enough weapons to push Putin out of Ukrainian territory, to launch a counteroffensive.And in this situation, time, combined with the number of weapons, are key factors.And in this situation, it becomes 10 times more difficult for the Ukrainian troops to destroy the Russian ones on Ukrainian territory.\""
            ],
            "application/vnd.google.colaboratory.intrinsic+json": {
              "type": "string"
            }
          },
          "metadata": {},
          "execution_count": 10
        }
      ]
    },
    {
      "cell_type": "code",
      "source": [
        "import pandas as pd\n",
        "import numpy as np\n",
        "\n",
        "df = pd.read_csv('/content/drive/MyDrive/news/bg_articles_clean_final.csv')\n",
        "df.head()"
      ],
      "metadata": {
        "colab": {
          "base_uri": "https://localhost:8080/",
          "height": 337
        },
        "id": "7nPQpXt1iT5i",
        "outputId": "00c98b7f-a7d6-4a9d-bb7e-b0bd223ef864"
      },
      "execution_count": null,
      "outputs": [
        {
          "output_type": "execute_result",
          "data": {
            "text/plain": [
              "   index        Date                                              Title  \\\n",
              "0      0  2023-04-03  Задържаха 26-годишна за убийството на руски во...   \n",
              "1      1  2023-04-01  Руският военен министър Сергей Шойгу обеща да ...   \n",
              "2      2  2023-04-01  Ескалация на дипломатическото напрежение между...   \n",
              "3      3  2023-03-30  Путин подписа указ за набиране на 147 000 войн...   \n",
              "4      4  2023-03-30  Фон дер Лайен: Украйна е определящ фактор за в...   \n",
              "\n",
              "                                             Content  \\\n",
              "0   Руската полиция задържа жена за убийството на...   \n",
              "1   Русият военен министър Сергей Шойгу обеща да ...   \n",
              "2   Дипломатическото напрежение между Москва и За...   \n",
              "3   Руският президент Владимир Путин подписа указ...   \n",
              "4   Председателят на ЕК Урсула фон дер Лайен пред...   \n",
              "\n",
              "                                                link  \\\n",
              "0  https://nova.bg/news/view/2023/04/03/407128/%D...   \n",
              "1  https://nova.bg/news/view/2023/04/01/406878/%D...   \n",
              "2  https://nova.bg/news/view/2023/04/01/406869/%D...   \n",
              "3  https://nova.bg/news/view/2023/03/30/406699/%D...   \n",
              "4  https://nova.bg/news/view/2023/03/30/406652/%D...   \n",
              "\n",
              "                                            Title_en  \\\n",
              "0  They detained a 26-year-old woman for the murd...   \n",
              "1  Russian Defense Minister Sergei Shoigu promise...   \n",
              "2  Escalation of diplomatic tension between Mosco...   \n",
              "3  Putin signed a decree to recruit 147,000 soldi...   \n",
              "4  Von der Leyen: Ukraine is a determining factor...   \n",
              "\n",
              "                                          Content_en  \n",
              "0  Russian police have detained a woman for the m...  \n",
              "1  Russian Defense Minister Sergei Shoigu has pro...  \n",
              "2  The diplomatic tension between Moscow and the ...  \n",
              "3  Russian President Vladimir Putin has signed a ...  \n",
              "4  EC President Ursula von der Leyen warned China...  "
            ],
            "text/html": [
              "\n",
              "  <div id=\"df-7ba85024-ffc4-4ac2-93ca-9b50503dc893\">\n",
              "    <div class=\"colab-df-container\">\n",
              "      <div>\n",
              "<style scoped>\n",
              "    .dataframe tbody tr th:only-of-type {\n",
              "        vertical-align: middle;\n",
              "    }\n",
              "\n",
              "    .dataframe tbody tr th {\n",
              "        vertical-align: top;\n",
              "    }\n",
              "\n",
              "    .dataframe thead th {\n",
              "        text-align: right;\n",
              "    }\n",
              "</style>\n",
              "<table border=\"1\" class=\"dataframe\">\n",
              "  <thead>\n",
              "    <tr style=\"text-align: right;\">\n",
              "      <th></th>\n",
              "      <th>index</th>\n",
              "      <th>Date</th>\n",
              "      <th>Title</th>\n",
              "      <th>Content</th>\n",
              "      <th>link</th>\n",
              "      <th>Title_en</th>\n",
              "      <th>Content_en</th>\n",
              "    </tr>\n",
              "  </thead>\n",
              "  <tbody>\n",
              "    <tr>\n",
              "      <th>0</th>\n",
              "      <td>0</td>\n",
              "      <td>2023-04-03</td>\n",
              "      <td>Задържаха 26-годишна за убийството на руски во...</td>\n",
              "      <td>Руската полиция задържа жена за убийството на...</td>\n",
              "      <td>https://nova.bg/news/view/2023/04/03/407128/%D...</td>\n",
              "      <td>They detained a 26-year-old woman for the murd...</td>\n",
              "      <td>Russian police have detained a woman for the m...</td>\n",
              "    </tr>\n",
              "    <tr>\n",
              "      <th>1</th>\n",
              "      <td>1</td>\n",
              "      <td>2023-04-01</td>\n",
              "      <td>Руският военен министър Сергей Шойгу обеща да ...</td>\n",
              "      <td>Русият военен министър Сергей Шойгу обеща да ...</td>\n",
              "      <td>https://nova.bg/news/view/2023/04/01/406878/%D...</td>\n",
              "      <td>Russian Defense Minister Sergei Shoigu promise...</td>\n",
              "      <td>Russian Defense Minister Sergei Shoigu has pro...</td>\n",
              "    </tr>\n",
              "    <tr>\n",
              "      <th>2</th>\n",
              "      <td>2</td>\n",
              "      <td>2023-04-01</td>\n",
              "      <td>Ескалация на дипломатическото напрежение между...</td>\n",
              "      <td>Дипломатическото напрежение между Москва и За...</td>\n",
              "      <td>https://nova.bg/news/view/2023/04/01/406869/%D...</td>\n",
              "      <td>Escalation of diplomatic tension between Mosco...</td>\n",
              "      <td>The diplomatic tension between Moscow and the ...</td>\n",
              "    </tr>\n",
              "    <tr>\n",
              "      <th>3</th>\n",
              "      <td>3</td>\n",
              "      <td>2023-03-30</td>\n",
              "      <td>Путин подписа указ за набиране на 147 000 войн...</td>\n",
              "      <td>Руският президент Владимир Путин подписа указ...</td>\n",
              "      <td>https://nova.bg/news/view/2023/03/30/406699/%D...</td>\n",
              "      <td>Putin signed a decree to recruit 147,000 soldi...</td>\n",
              "      <td>Russian President Vladimir Putin has signed a ...</td>\n",
              "    </tr>\n",
              "    <tr>\n",
              "      <th>4</th>\n",
              "      <td>4</td>\n",
              "      <td>2023-03-30</td>\n",
              "      <td>Фон дер Лайен: Украйна е определящ фактор за в...</td>\n",
              "      <td>Председателят на ЕК Урсула фон дер Лайен пред...</td>\n",
              "      <td>https://nova.bg/news/view/2023/03/30/406652/%D...</td>\n",
              "      <td>Von der Leyen: Ukraine is a determining factor...</td>\n",
              "      <td>EC President Ursula von der Leyen warned China...</td>\n",
              "    </tr>\n",
              "  </tbody>\n",
              "</table>\n",
              "</div>\n",
              "      <button class=\"colab-df-convert\" onclick=\"convertToInteractive('df-7ba85024-ffc4-4ac2-93ca-9b50503dc893')\"\n",
              "              title=\"Convert this dataframe to an interactive table.\"\n",
              "              style=\"display:none;\">\n",
              "        \n",
              "  <svg xmlns=\"http://www.w3.org/2000/svg\" height=\"24px\"viewBox=\"0 0 24 24\"\n",
              "       width=\"24px\">\n",
              "    <path d=\"M0 0h24v24H0V0z\" fill=\"none\"/>\n",
              "    <path d=\"M18.56 5.44l.94 2.06.94-2.06 2.06-.94-2.06-.94-.94-2.06-.94 2.06-2.06.94zm-11 1L8.5 8.5l.94-2.06 2.06-.94-2.06-.94L8.5 2.5l-.94 2.06-2.06.94zm10 10l.94 2.06.94-2.06 2.06-.94-2.06-.94-.94-2.06-.94 2.06-2.06.94z\"/><path d=\"M17.41 7.96l-1.37-1.37c-.4-.4-.92-.59-1.43-.59-.52 0-1.04.2-1.43.59L10.3 9.45l-7.72 7.72c-.78.78-.78 2.05 0 2.83L4 21.41c.39.39.9.59 1.41.59.51 0 1.02-.2 1.41-.59l7.78-7.78 2.81-2.81c.8-.78.8-2.07 0-2.86zM5.41 20L4 18.59l7.72-7.72 1.47 1.35L5.41 20z\"/>\n",
              "  </svg>\n",
              "      </button>\n",
              "      \n",
              "  <style>\n",
              "    .colab-df-container {\n",
              "      display:flex;\n",
              "      flex-wrap:wrap;\n",
              "      gap: 12px;\n",
              "    }\n",
              "\n",
              "    .colab-df-convert {\n",
              "      background-color: #E8F0FE;\n",
              "      border: none;\n",
              "      border-radius: 50%;\n",
              "      cursor: pointer;\n",
              "      display: none;\n",
              "      fill: #1967D2;\n",
              "      height: 32px;\n",
              "      padding: 0 0 0 0;\n",
              "      width: 32px;\n",
              "    }\n",
              "\n",
              "    .colab-df-convert:hover {\n",
              "      background-color: #E2EBFA;\n",
              "      box-shadow: 0px 1px 2px rgba(60, 64, 67, 0.3), 0px 1px 3px 1px rgba(60, 64, 67, 0.15);\n",
              "      fill: #174EA6;\n",
              "    }\n",
              "\n",
              "    [theme=dark] .colab-df-convert {\n",
              "      background-color: #3B4455;\n",
              "      fill: #D2E3FC;\n",
              "    }\n",
              "\n",
              "    [theme=dark] .colab-df-convert:hover {\n",
              "      background-color: #434B5C;\n",
              "      box-shadow: 0px 1px 3px 1px rgba(0, 0, 0, 0.15);\n",
              "      filter: drop-shadow(0px 1px 2px rgba(0, 0, 0, 0.3));\n",
              "      fill: #FFFFFF;\n",
              "    }\n",
              "  </style>\n",
              "\n",
              "      <script>\n",
              "        const buttonEl =\n",
              "          document.querySelector('#df-7ba85024-ffc4-4ac2-93ca-9b50503dc893 button.colab-df-convert');\n",
              "        buttonEl.style.display =\n",
              "          google.colab.kernel.accessAllowed ? 'block' : 'none';\n",
              "\n",
              "        async function convertToInteractive(key) {\n",
              "          const element = document.querySelector('#df-7ba85024-ffc4-4ac2-93ca-9b50503dc893');\n",
              "          const dataTable =\n",
              "            await google.colab.kernel.invokeFunction('convertToInteractive',\n",
              "                                                     [key], {});\n",
              "          if (!dataTable) return;\n",
              "\n",
              "          const docLinkHtml = 'Like what you see? Visit the ' +\n",
              "            '<a target=\"_blank\" href=https://colab.research.google.com/notebooks/data_table.ipynb>data table notebook</a>'\n",
              "            + ' to learn more about interactive tables.';\n",
              "          element.innerHTML = '';\n",
              "          dataTable['output_type'] = 'display_data';\n",
              "          await google.colab.output.renderOutput(dataTable, element);\n",
              "          const docLink = document.createElement('div');\n",
              "          docLink.innerHTML = docLinkHtml;\n",
              "          element.appendChild(docLink);\n",
              "        }\n",
              "      </script>\n",
              "    </div>\n",
              "  </div>\n",
              "  "
            ]
          },
          "metadata": {},
          "execution_count": 84
        }
      ]
    },
    {
      "cell_type": "code",
      "source": [
        "df['Content_en'] =df['Content_en'].str.replace('NOVA news - now on Instagram, Twitter, Telegram and Viber - follow us.', '')"
      ],
      "metadata": {
        "colab": {
          "base_uri": "https://localhost:8080/"
        },
        "id": "wKBfUMon5k51",
        "outputId": "eb3206c3-2d56-489a-aff6-c313072c3d49"
      },
      "execution_count": null,
      "outputs": [
        {
          "output_type": "stream",
          "name": "stderr",
          "text": [
            "<ipython-input-85-5d96f1f57bb6>:1: FutureWarning: The default value of regex will change from True to False in a future version.\n",
            "  df['Content_en'] =df['Content_en'].str.replace('NOVA news - now on Instagram, Twitter, Telegram and Viber - follow us.', '')\n"
          ]
        }
      ]
    },
    {
      "cell_type": "code",
      "source": [
        "len_item = []\n",
        "for item in df['Content_en']:\n",
        "  item= len(str(item))\n",
        "  len_item.append(item)"
      ],
      "metadata": {
        "id": "xOt_IFFX-D9y"
      },
      "execution_count": null,
      "outputs": []
    },
    {
      "cell_type": "code",
      "source": [
        "df['len_art'] = len_item\n",
        "df['len_art'].describe()"
      ],
      "metadata": {
        "colab": {
          "base_uri": "https://localhost:8080/"
        },
        "id": "tRoEIost-cOn",
        "outputId": "6a8bdcb8-a8cf-4dd0-d1c1-3943c3269cb2"
      },
      "execution_count": null,
      "outputs": [
        {
          "output_type": "execute_result",
          "data": {
            "text/plain": [
              "count      38.000000\n",
              "mean     1573.473684\n",
              "std      1000.255825\n",
              "min       513.000000\n",
              "25%       965.000000\n",
              "50%      1344.500000\n",
              "75%      1803.250000\n",
              "max      5294.000000\n",
              "Name: len_art, dtype: float64"
            ]
          },
          "metadata": {},
          "execution_count": 89
        }
      ]
    },
    {
      "cell_type": "code",
      "source": [
        "df[df['len_art']<1200].count()"
      ],
      "metadata": {
        "colab": {
          "base_uri": "https://localhost:8080/"
        },
        "id": "QWimUugWDkN7",
        "outputId": "eb623c44-fdeb-4a0b-d644-62aa9f173ce3"
      },
      "execution_count": null,
      "outputs": [
        {
          "output_type": "execute_result",
          "data": {
            "text/plain": [
              "index         15\n",
              "Date          15\n",
              "Title         15\n",
              "Content       15\n",
              "link          15\n",
              "Title_en      15\n",
              "Content_en    15\n",
              "len_art       15\n",
              "dtype: int64"
            ]
          },
          "metadata": {},
          "execution_count": 107
        }
      ]
    },
    {
      "cell_type": "code",
      "source": [
        "summery_list = []\n",
        "for item in df['Content_en']:\n",
        "  if len(str(item))>1300:\n",
        "    temp = summarize(item, 0.1)\n",
        "    summery_list.append(temp)\n",
        "  if (len(str(item))<1300) and (len(str(item))>1000):\n",
        "    temp = summarize(item, 0.2)\n",
        "    summery_list.append(temp)\n",
        "  if (len(str(item))<1000):\n",
        "    temp = summarize(item, 0.5)\n",
        "    summery_list.append(temp)"
      ],
      "metadata": {
        "id": "5pDDAbw6nFWt"
      },
      "execution_count": null,
      "outputs": []
    },
    {
      "cell_type": "code",
      "source": [
        "len(summery_list)"
      ],
      "metadata": {
        "colab": {
          "base_uri": "https://localhost:8080/"
        },
        "id": "VeR6N1SoEpzh",
        "outputId": "2344ae85-9fe2-44db-ddda-643eb6272c25"
      },
      "execution_count": null,
      "outputs": [
        {
          "output_type": "execute_result",
          "data": {
            "text/plain": [
              "38"
            ]
          },
          "metadata": {},
          "execution_count": 118
        }
      ]
    },
    {
      "cell_type": "code",
      "source": [
        "df['summerized'] =summery_list"
      ],
      "metadata": {
        "id": "0HHBwcwuFeiD"
      },
      "execution_count": null,
      "outputs": []
    },
    {
      "cell_type": "code",
      "source": [
        "df.to_csv('/content/drive/MyDrive/news/article_and_summery.csv', index=False)"
      ],
      "metadata": {
        "id": "z1ylaFFKFrj9"
      },
      "execution_count": null,
      "outputs": []
    },
    {
      "cell_type": "code",
      "source": [],
      "metadata": {
        "id": "q60wzPS_GZ-M"
      },
      "execution_count": null,
      "outputs": []
    }
  ]
}