{
  "nbformat": 4,
  "nbformat_minor": 0,
  "metadata": {
    "colab": {
      "name": "git_copy_cleaning_data_for_analysis.ipynb",
      "provenance": [],
      "collapsed_sections": [
        "QgX8wLXD4Vxj",
        "2WL3ycTVgs1K",
        "SzYbmHqCCvuD",
        "QLgUDwT9tF3p",
        "4tKWqRVYJ7Z6",
        "knayIo_oLDyu",
        "y5KprgMfu9Hg"
      ],
      "mount_file_id": "1_HtjX4uC0qOKUNOcfIbfy3hiuhQ_VyQp",
      "authorship_tag": "ABX9TyOXvymIQ6iMfl0i3lkwCHNR",
      "include_colab_link": true
    },
    "kernelspec": {
      "name": "python3",
      "display_name": "Python 3"
    },
    "language_info": {
      "name": "python"
    }
  },
  "cells": [
    {
      "cell_type": "markdown",
      "metadata": {
        "id": "view-in-github",
        "colab_type": "text"
      },
      "source": [
        "<a href=\"https://colab.research.google.com/github/Danddt/Russian_Opinion_Polls/blob/main/git_copy_cleaning_data_for_analysis.ipynb\" target=\"_parent\"><img src=\"https://colab.research.google.com/assets/colab-badge.svg\" alt=\"Open In Colab\"/></a>"
      ]
    },
    {
      "cell_type": "code",
      "execution_count": null,
      "metadata": {
        "id": "KonhS-QtJCOB"
      },
      "outputs": [],
      "source": [
        "import pandas as pd\n",
        "import numpy as np"
      ]
    },
    {
      "cell_type": "markdown",
      "source": [
        "# Cleaning Levada files"
      ],
      "metadata": {
        "id": "QgX8wLXD4Vxj"
      }
    },
    {
      "cell_type": "code",
      "source": [
        "import requests\n",
        "import pandas as pd\n",
        "from bs4 import BeautifulSoup"
      ],
      "metadata": {
        "id": "oO5uq5UGh4OF"
      },
      "execution_count": null,
      "outputs": []
    },
    {
      "cell_type": "code",
      "source": [
        "url = 'https://www.levada.ru/en/ratings/'\n",
        "response= requests.get(url).content\n",
        "df_list = pd.read_html(response)\n"
      ],
      "metadata": {
        "id": "l6K5jp9V4ukC"
      },
      "execution_count": null,
      "outputs": []
    },
    {
      "cell_type": "code",
      "source": [
        "soup_levada = BeautifulSoup(response, \"html.parser\")\n"
      ],
      "metadata": {
        "id": "xuziJ1lR6Q7U"
      },
      "execution_count": null,
      "outputs": []
    },
    {
      "cell_type": "code",
      "source": [
        "# Cleaing data from soup\n",
        "import re\n",
        "\n",
        "names = soup_levada.find_all('h4')\n",
        "\n",
        "data_only = df_list[1::2]\n",
        "descript = df_list[0::2]\n",
        "\n",
        "d={}\n",
        "names = []\n",
        "for header in soup_levada.find_all('h4'):\n",
        "  test = header.get_text()\n",
        "  names.append(test)\n",
        "\n",
        "for item in range(len(names)):\n",
        "    temp = descript[item]\n",
        "\n",
        "    temp0 =  pd.DataFrame([['date'] * len(temp .columns)], columns=temp.columns)\n",
        "    temp1 = temp0.append(temp, ignore_index=True)\n",
        "    col_name = temp1[0].to_list()\n",
        "    data = data_only[item].T\n",
        "    data[0] = data[0].apply(lambda x: \"{:.4f}\".format(x))\n",
        "    data[0]=(data[0].str.split('.')).apply(lambda x: list(reversed(x))) #reverse to get Year Month (currently Month Year)\n",
        "    data[0]=data[0].apply('-'.join)\n",
        " \n",
        "\n",
        "    data.columns = col_name\n",
        "    d[names[item]] = data\n"
      ],
      "metadata": {
        "id": "2NL9rF2g68iJ"
      },
      "execution_count": null,
      "outputs": []
    },
    {
      "cell_type": "code",
      "source": [
        "import pathlib\n",
        "from datetime import date\n",
        "\n",
        "date = str(date.today())\n",
        "\n",
        "\n",
        "new_dir = pathlib.Path('/content/', date)\n",
        "new_dir.mkdir(parents=True, exist_ok=True)\n"
      ],
      "metadata": {
        "id": "MUnkGMUt6jbS"
      },
      "execution_count": null,
      "outputs": []
    },
    {
      "cell_type": "code",
      "source": [
        "#CREATE FOLDER FOR LEVADA\n",
        "\n",
        "for data in d:\n",
        "  d[data].to_csv(str(new_dir)+ '/Levada_' + data+'.csv', index=False)\n"
      ],
      "metadata": {
        "id": "dz1YuHFe41ab"
      },
      "execution_count": null,
      "outputs": []
    },
    {
      "cell_type": "markdown",
      "source": [
        "#Cleaning conflict"
      ],
      "metadata": {
        "id": "2WL3ycTVgs1K"
      }
    },
    {
      "cell_type": "code",
      "source": [
        "import requests\n",
        "import pandas as pd\n",
        "from bs4 import BeautifulSoup"
      ],
      "metadata": {
        "id": "I3gcLJdzPzqY"
      },
      "execution_count": null,
      "outputs": []
    },
    {
      "cell_type": "code",
      "source": [
        "#Get wiki table\n",
        "link = \"https://en.wikipedia.org/wiki/List_of_wars_involving_Russia\"\n",
        "tables = pd.read_html(link)\n",
        "data= tables[14].iloc[1:]"
      ],
      "metadata": {
        "id": "HDc0vShagsMp"
      },
      "execution_count": null,
      "outputs": []
    },
    {
      "cell_type": "code",
      "source": [
        "#Cleaning table\n",
        "data[['start', 'end']]=data['Date'].str.split(pat='–',n=-1, expand=True)\n",
        "data_reorder = data[['start', 'end', 'Conflict', 'Location', 'Russia (and its allies)','Opponent(s)', 'Result', ]]\n"
      ],
      "metadata": {
        "id": "sDHj5RDVAHyl"
      },
      "execution_count": null,
      "outputs": []
    },
    {
      "cell_type": "markdown",
      "source": [
        "Select conflicts started or ended after 2004\n",
        "\n",
        "Additonal data: \n",
        "\n",
        "https://en.wikipedia.org/wiki/Second_Chechen_War start : August 1999 / end: April (2009)\n",
        "\n",
        "https://en.wikipedia.org/wiki/Russo-Georgian_War start:August 2008 / end: August (2008)\n",
        "\n",
        "https://en.wikipedia.org/wiki/Insurgency_in_the_North_Caucasus start: April 2009 /end: December (2017)\n",
        "\n",
        "https://en.wikipedia.org/wiki/Russo-Ukrainian_War start: February 2014 / ongoing\n",
        "\n",
        "https://en.wikipedia.org/wiki/Russian_military_intervention_in_the_Syrian_civil_war start: September 2015 / ongoing\n",
        "\n",
        "https://en.wikipedia.org/wiki/Central_African_Republic_Civil_War start(of Russian Intervention): August\n",
        "\n",
        "https://en.wikipedia.org/wiki/2022_Russian_invasion_of_Ukraine start: February 2022\n",
        "\n"
      ],
      "metadata": {
        "id": "3g3i6z1aA3s9"
      }
    },
    {
      "cell_type": "code",
      "source": [
        "#adding missing data\n",
        "month_start = [8,8,4,2,9,8,2]\n",
        "month_end = [4,8,12,'present','present','present','present']"
      ],
      "metadata": {
        "id": "QL5z-Rz2Bxvo"
      },
      "execution_count": null,
      "outputs": []
    },
    {
      "cell_type": "code",
      "source": [
        "conflict_inc = data_reorder.iloc[7:, :]\n",
        "conflict_inc=conflict_inc[['start', 'end', 'Location']]\n",
        "ukraine_data= {'start': 2022, 'end': 'present','Location': 'Ukraine'}\n",
        "conflict_inc = conflict_inc.append(ukraine_data, ignore_index=True)\n",
        "conflict_inc['month_start'] = month_start\n",
        "conflict_inc['month_end']=month_end\n",
        "conflict_inc"
      ],
      "metadata": {
        "colab": {
          "base_uri": "https://localhost:8080/",
          "height": 269
        },
        "id": "G4sV66kjA25E",
        "outputId": "8fa22607-5afd-4624-ead1-5ad7e24de380"
      },
      "execution_count": null,
      "outputs": [
        {
          "output_type": "execute_result",
          "data": {
            "text/plain": [
              "  start      end                             Location  month_start month_end\n",
              "0  1999     2009                             Chechnya            8         4\n",
              "1  2008     None  Georgia, South Ossetia and Abkhazia            8         8\n",
              "2  2009     2017                       North Caucasus            4        12\n",
              "3  2014  present               Ukraine (incl. Crimea)            2   present\n",
              "4  2015  present                                Syria            9   present\n",
              "5  2018  present             Central African Republic            8   present\n",
              "6  2022  present                              Ukraine            2   present"
            ],
            "text/html": [
              "\n",
              "  <div id=\"df-f240648a-96ed-46b0-9ed3-baf1769f8316\">\n",
              "    <div class=\"colab-df-container\">\n",
              "      <div>\n",
              "<style scoped>\n",
              "    .dataframe tbody tr th:only-of-type {\n",
              "        vertical-align: middle;\n",
              "    }\n",
              "\n",
              "    .dataframe tbody tr th {\n",
              "        vertical-align: top;\n",
              "    }\n",
              "\n",
              "    .dataframe thead th {\n",
              "        text-align: right;\n",
              "    }\n",
              "</style>\n",
              "<table border=\"1\" class=\"dataframe\">\n",
              "  <thead>\n",
              "    <tr style=\"text-align: right;\">\n",
              "      <th></th>\n",
              "      <th>start</th>\n",
              "      <th>end</th>\n",
              "      <th>Location</th>\n",
              "      <th>month_start</th>\n",
              "      <th>month_end</th>\n",
              "    </tr>\n",
              "  </thead>\n",
              "  <tbody>\n",
              "    <tr>\n",
              "      <th>0</th>\n",
              "      <td>1999</td>\n",
              "      <td>2009</td>\n",
              "      <td>Chechnya</td>\n",
              "      <td>8</td>\n",
              "      <td>4</td>\n",
              "    </tr>\n",
              "    <tr>\n",
              "      <th>1</th>\n",
              "      <td>2008</td>\n",
              "      <td>None</td>\n",
              "      <td>Georgia, South Ossetia and Abkhazia</td>\n",
              "      <td>8</td>\n",
              "      <td>8</td>\n",
              "    </tr>\n",
              "    <tr>\n",
              "      <th>2</th>\n",
              "      <td>2009</td>\n",
              "      <td>2017</td>\n",
              "      <td>North Caucasus</td>\n",
              "      <td>4</td>\n",
              "      <td>12</td>\n",
              "    </tr>\n",
              "    <tr>\n",
              "      <th>3</th>\n",
              "      <td>2014</td>\n",
              "      <td>present</td>\n",
              "      <td>Ukraine (incl. Crimea)</td>\n",
              "      <td>2</td>\n",
              "      <td>present</td>\n",
              "    </tr>\n",
              "    <tr>\n",
              "      <th>4</th>\n",
              "      <td>2015</td>\n",
              "      <td>present</td>\n",
              "      <td>Syria</td>\n",
              "      <td>9</td>\n",
              "      <td>present</td>\n",
              "    </tr>\n",
              "    <tr>\n",
              "      <th>5</th>\n",
              "      <td>2018</td>\n",
              "      <td>present</td>\n",
              "      <td>Central African Republic</td>\n",
              "      <td>8</td>\n",
              "      <td>present</td>\n",
              "    </tr>\n",
              "    <tr>\n",
              "      <th>6</th>\n",
              "      <td>2022</td>\n",
              "      <td>present</td>\n",
              "      <td>Ukraine</td>\n",
              "      <td>2</td>\n",
              "      <td>present</td>\n",
              "    </tr>\n",
              "  </tbody>\n",
              "</table>\n",
              "</div>\n",
              "      <button class=\"colab-df-convert\" onclick=\"convertToInteractive('df-f240648a-96ed-46b0-9ed3-baf1769f8316')\"\n",
              "              title=\"Convert this dataframe to an interactive table.\"\n",
              "              style=\"display:none;\">\n",
              "        \n",
              "  <svg xmlns=\"http://www.w3.org/2000/svg\" height=\"24px\"viewBox=\"0 0 24 24\"\n",
              "       width=\"24px\">\n",
              "    <path d=\"M0 0h24v24H0V0z\" fill=\"none\"/>\n",
              "    <path d=\"M18.56 5.44l.94 2.06.94-2.06 2.06-.94-2.06-.94-.94-2.06-.94 2.06-2.06.94zm-11 1L8.5 8.5l.94-2.06 2.06-.94-2.06-.94L8.5 2.5l-.94 2.06-2.06.94zm10 10l.94 2.06.94-2.06 2.06-.94-2.06-.94-.94-2.06-.94 2.06-2.06.94z\"/><path d=\"M17.41 7.96l-1.37-1.37c-.4-.4-.92-.59-1.43-.59-.52 0-1.04.2-1.43.59L10.3 9.45l-7.72 7.72c-.78.78-.78 2.05 0 2.83L4 21.41c.39.39.9.59 1.41.59.51 0 1.02-.2 1.41-.59l7.78-7.78 2.81-2.81c.8-.78.8-2.07 0-2.86zM5.41 20L4 18.59l7.72-7.72 1.47 1.35L5.41 20z\"/>\n",
              "  </svg>\n",
              "      </button>\n",
              "      \n",
              "  <style>\n",
              "    .colab-df-container {\n",
              "      display:flex;\n",
              "      flex-wrap:wrap;\n",
              "      gap: 12px;\n",
              "    }\n",
              "\n",
              "    .colab-df-convert {\n",
              "      background-color: #E8F0FE;\n",
              "      border: none;\n",
              "      border-radius: 50%;\n",
              "      cursor: pointer;\n",
              "      display: none;\n",
              "      fill: #1967D2;\n",
              "      height: 32px;\n",
              "      padding: 0 0 0 0;\n",
              "      width: 32px;\n",
              "    }\n",
              "\n",
              "    .colab-df-convert:hover {\n",
              "      background-color: #E2EBFA;\n",
              "      box-shadow: 0px 1px 2px rgba(60, 64, 67, 0.3), 0px 1px 3px 1px rgba(60, 64, 67, 0.15);\n",
              "      fill: #174EA6;\n",
              "    }\n",
              "\n",
              "    [theme=dark] .colab-df-convert {\n",
              "      background-color: #3B4455;\n",
              "      fill: #D2E3FC;\n",
              "    }\n",
              "\n",
              "    [theme=dark] .colab-df-convert:hover {\n",
              "      background-color: #434B5C;\n",
              "      box-shadow: 0px 1px 3px 1px rgba(0, 0, 0, 0.15);\n",
              "      filter: drop-shadow(0px 1px 2px rgba(0, 0, 0, 0.3));\n",
              "      fill: #FFFFFF;\n",
              "    }\n",
              "  </style>\n",
              "\n",
              "      <script>\n",
              "        const buttonEl =\n",
              "          document.querySelector('#df-f240648a-96ed-46b0-9ed3-baf1769f8316 button.colab-df-convert');\n",
              "        buttonEl.style.display =\n",
              "          google.colab.kernel.accessAllowed ? 'block' : 'none';\n",
              "\n",
              "        async function convertToInteractive(key) {\n",
              "          const element = document.querySelector('#df-f240648a-96ed-46b0-9ed3-baf1769f8316');\n",
              "          const dataTable =\n",
              "            await google.colab.kernel.invokeFunction('convertToInteractive',\n",
              "                                                     [key], {});\n",
              "          if (!dataTable) return;\n",
              "\n",
              "          const docLinkHtml = 'Like what you see? Visit the ' +\n",
              "            '<a target=\"_blank\" href=https://colab.research.google.com/notebooks/data_table.ipynb>data table notebook</a>'\n",
              "            + ' to learn more about interactive tables.';\n",
              "          element.innerHTML = '';\n",
              "          dataTable['output_type'] = 'display_data';\n",
              "          await google.colab.output.renderOutput(dataTable, element);\n",
              "          const docLink = document.createElement('div');\n",
              "          docLink.innerHTML = docLinkHtml;\n",
              "          element.appendChild(docLink);\n",
              "        }\n",
              "      </script>\n",
              "    </div>\n",
              "  </div>\n",
              "  "
            ]
          },
          "metadata": {},
          "execution_count": 12
        }
      ]
    },
    {
      "cell_type": "code",
      "source": [
        "datetime= conflict_inc['start'].astype(str)+'-'+conflict_inc['month_start'].astype(str)"
      ],
      "metadata": {
        "id": "Zi_5BpnUP45U"
      },
      "execution_count": null,
      "outputs": []
    },
    {
      "cell_type": "code",
      "source": [
        "conflict_inc.insert(loc=0, column='datetime', value=datetime)"
      ],
      "metadata": {
        "id": "2d1BQmJmRBDZ"
      },
      "execution_count": null,
      "outputs": []
    },
    {
      "cell_type": "code",
      "source": [
        "# setting arbitrary value for start of a war to 100\n",
        "conflict_inc['arb_val_war']= 100"
      ],
      "metadata": {
        "id": "y6la2UGvRaWU"
      },
      "execution_count": null,
      "outputs": []
    },
    {
      "cell_type": "code",
      "source": [
        "import pathlib\n",
        "from datetime import date\n",
        "\n",
        "date = str(date.today())\n",
        "\n",
        "\n",
        "new_dir = pathlib.Path('/content/RUSSdata/wiki/', date)\n",
        "new_dir.mkdir(parents=True, exist_ok=True)"
      ],
      "metadata": {
        "id": "qiMaDbOIvRut"
      },
      "execution_count": null,
      "outputs": []
    },
    {
      "cell_type": "code",
      "source": [
        "conflict_inc.to_csv('/content/RUSSdata/wiki/'+date+'/conflicts_russian_federation.csv', index=False) "
      ],
      "metadata": {
        "id": "y4xdPvbUDebP"
      },
      "execution_count": null,
      "outputs": []
    },
    {
      "cell_type": "markdown",
      "source": [
        "# Cleaning Terror incidents"
      ],
      "metadata": {
        "id": "SzYbmHqCCvuD"
      }
    },
    {
      "cell_type": "code",
      "source": [
        "import requests\n",
        "from bs4 import BeautifulSoup\n",
        "\n",
        "url = 'https://en.wikipedia.org/wiki/Terrorism_in_Russia'\n",
        "\n",
        "page = requests.get(url)\n",
        "soup = BeautifulSoup(page.content, 'html.parser')"
      ],
      "metadata": {
        "id": "5AyP1t1BCtDK"
      },
      "execution_count": null,
      "outputs": []
    },
    {
      "cell_type": "code",
      "source": [
        "import calendar\n",
        "months = (list(calendar.month_name))\n",
        "months.pop(0)\n",
        "month_pattern =('|'.join(months))"
      ],
      "metadata": {
        "id": "QOiJVMiBEGTe"
      },
      "execution_count": null,
      "outputs": []
    },
    {
      "cell_type": "code",
      "source": [
        "import re\n",
        "temp=[]\n",
        "\n",
        "for header in soup.find_all(['h4']):\n",
        "  test = header.get_text()\n",
        "  test= str(test)\n",
        "  test = test[:-6]\n",
        "  \n",
        "\n",
        "  for elem in header.next_siblings:\n",
        "    if elem.name and elem.name.startswith('h'):\n",
        "        break\n",
        "    if elem.name == 'p':\n",
        "      ev = elem.get_text()\n",
        "      ev= ev.strip()\n",
        "      ev = re.sub(r'\\[.*?\\]', \"\",ev )\n",
        "      ev=str(ev)\n",
        "      for month in months:\n",
        "        if month in ev:\n",
        "          mo = month\n",
        "      \n",
        "      data = test, mo, ev\n",
        "      temp.append(data)"
      ],
      "metadata": {
        "id": "XxiqQsIsEJbx"
      },
      "execution_count": null,
      "outputs": []
    },
    {
      "cell_type": "code",
      "source": [
        "import pandas as pd\n",
        "\n",
        "df = pd.DataFrame.from_records(temp, columns=['year','month',  'event'])\n",
        "df1 = df[df['event'].str.contains(month_pattern)]\n"
      ],
      "metadata": {
        "id": "wBMg-R2OU63j"
      },
      "execution_count": null,
      "outputs": []
    },
    {
      "cell_type": "code",
      "source": [
        "#Retrieve city names\n",
        "import pandas as pd\n",
        "\n",
        "link = \"https://en.wikipedia.org/wiki/List_of_cities_and_towns_in_Russia_by_population\"\n",
        "tables = pd.read_html(link)\n",
        "data = tables[0]"
      ],
      "metadata": {
        "id": "SzQPRQr0b7dW"
      },
      "execution_count": null,
      "outputs": []
    },
    {
      "cell_type": "code",
      "source": [
        "cities= data['City / Town']"
      ],
      "metadata": {
        "id": "Pblppc67aHMI"
      },
      "execution_count": null,
      "outputs": []
    },
    {
      "cell_type": "code",
      "source": [
        "city_list = cities['City / Town'].to_list()\n",
        "city_list.append('Beslan')\n",
        "city_list.append('St Petersburg')\n",
        "city_list.remove('Vladimir')\n",
        "city_list.append('Achkhoy-Martonovsky')"
      ],
      "metadata": {
        "id": "Gj8N8I_IEOJW"
      },
      "execution_count": null,
      "outputs": []
    },
    {
      "cell_type": "code",
      "source": [
        "df1['city_name_mapped'] = (df1.event.str.findall('|'.join(city_list)).str[:2]) #.apply(', '.join)"
      ],
      "metadata": {
        "id": "SS4UrIJbEs0v",
        "colab": {
          "base_uri": "https://localhost:8080/"
        },
        "outputId": "a3dff27c-98e6-4d30-f980-51407ab872dd"
      },
      "execution_count": null,
      "outputs": [
        {
          "output_type": "stream",
          "name": "stderr",
          "text": [
            "/usr/local/lib/python3.7/dist-packages/ipykernel_launcher.py:1: SettingWithCopyWarning: \n",
            "A value is trying to be set on a copy of a slice from a DataFrame.\n",
            "Try using .loc[row_indexer,col_indexer] = value instead\n",
            "\n",
            "See the caveats in the documentation: https://pandas.pydata.org/pandas-docs/stable/user_guide/indexing.html#returning-a-view-versus-a-copy\n",
            "  \"\"\"Entry point for launching an IPython kernel.\n"
          ]
        }
      ]
    },
    {
      "cell_type": "code",
      "source": [
        "df1['city_name_mapped'].str[0]==df1['city_name_mapped'].str[1]\n",
        "\n",
        "for item in df1['city_name_mapped']:\n",
        "  if len(item)>1:\n",
        "    if item[0] in item[1]:\n",
        "      item.pop()\n",
        "      "
      ],
      "metadata": {
        "id": "l7QkOOfNiT-v"
      },
      "execution_count": null,
      "outputs": []
    },
    {
      "cell_type": "code",
      "source": [
        "df1['city_name_mapped'] = (df1.city_name_mapped.apply(', '.join))\n"
      ],
      "metadata": {
        "id": "4y0VoccugVBV",
        "colab": {
          "base_uri": "https://localhost:8080/"
        },
        "outputId": "cb4c7c25-a70d-4bd9-9652-794c9898ebf7"
      },
      "execution_count": null,
      "outputs": [
        {
          "output_type": "stream",
          "name": "stderr",
          "text": [
            "/usr/local/lib/python3.7/dist-packages/ipykernel_launcher.py:1: SettingWithCopyWarning: \n",
            "A value is trying to be set on a copy of a slice from a DataFrame.\n",
            "Try using .loc[row_indexer,col_indexer] = value instead\n",
            "\n",
            "See the caveats in the documentation: https://pandas.pydata.org/pandas-docs/stable/user_guide/indexing.html#returning-a-view-versus-a-copy\n",
            "  \"\"\"Entry point for launching an IPython kernel.\n"
          ]
        }
      ]
    },
    {
      "cell_type": "code",
      "source": [
        "import numpy as np\n",
        "df1['city_name_mapped'].replace('', np.nan, inplace=True)\n",
        "df1.dropna(inplace=True)"
      ],
      "metadata": {
        "id": "MLi8LI4AEwzN",
        "colab": {
          "base_uri": "https://localhost:8080/"
        },
        "outputId": "21160a13-c249-462b-cdf4-cf341d74e946"
      },
      "execution_count": null,
      "outputs": [
        {
          "output_type": "stream",
          "name": "stderr",
          "text": [
            "/usr/local/lib/python3.7/dist-packages/pandas/core/generic.py:6619: SettingWithCopyWarning: \n",
            "A value is trying to be set on a copy of a slice from a DataFrame\n",
            "\n",
            "See the caveats in the documentation: https://pandas.pydata.org/pandas-docs/stable/user_guide/indexing.html#returning-a-view-versus-a-copy\n",
            "  return self._update_inplace(result)\n",
            "/usr/local/lib/python3.7/dist-packages/pandas/util/_decorators.py:311: SettingWithCopyWarning: \n",
            "A value is trying to be set on a copy of a slice from a DataFrame\n",
            "\n",
            "See the caveats in the documentation: https://pandas.pydata.org/pandas-docs/stable/user_guide/indexing.html#returning-a-view-versus-a-copy\n",
            "  return func(*args, **kwargs)\n"
          ]
        }
      ]
    },
    {
      "cell_type": "code",
      "source": [
        "listo = []\n",
        "for header in soup.find_all(['h3']):\n",
        "  for elem in header.next_siblings:\n",
        "    if elem.name and elem.name.startswith('h'):\n",
        "      break\n",
        "    if elem.name == 'p':\n",
        "        txt = str(elem.get_text())\n",
        "        txt = re.sub(\"\\[.*?\\]\",\"\",txt)\n",
        "        splito = txt.split('\\n')\n",
        "        listo.append(splito)"
      ],
      "metadata": {
        "id": "caFXAoWFE-mG"
      },
      "execution_count": null,
      "outputs": []
    },
    {
      "cell_type": "code",
      "source": [
        "short_list = listo[-6:]"
      ],
      "metadata": {
        "id": "9SBjxZHMFD6F"
      },
      "execution_count": null,
      "outputs": []
    },
    {
      "cell_type": "code",
      "source": [
        "flat_list = [item for sublist in short_list[1::2] for item in sublist]"
      ],
      "metadata": {
        "id": "vfXfuGdfFXiR"
      },
      "execution_count": null,
      "outputs": []
    },
    {
      "cell_type": "code",
      "source": [
        "month_date=[]\n",
        "for item in flat_list:\n",
        "  for mo in months:\n",
        "    if mo in item:\n",
        "      month_date.append(mo)"
      ],
      "metadata": {
        "id": "OWEZw3m2avES"
      },
      "execution_count": null,
      "outputs": []
    },
    {
      "cell_type": "code",
      "source": [
        "from_2002 = pd.DataFrame({'year':(short_list[::2]), 'month':month_date , 'event':(short_list[1::2]),})\n",
        "from_2002['year'] = (from_2002['year'].apply(', '.join)).str.replace(',','')\n",
        "from_2002['event'] = from_2002['event'].apply(', '.join)\n",
        "from_2002['city_name_mapped'] = (from_2002.event.str.findall('|'.join(city_list)).str[:2]).apply(', '.join)"
      ],
      "metadata": {
        "id": "0sp7x_mgbQ1B"
      },
      "execution_count": null,
      "outputs": []
    },
    {
      "cell_type": "code",
      "source": [
        "terror_incidents = pd.concat([from_2002, df1])"
      ],
      "metadata": {
        "id": "FcWO1gbCbch0"
      },
      "execution_count": null,
      "outputs": []
    },
    {
      "cell_type": "code",
      "source": [
        "datetime_t = terror_incidents.year.str.strip() +\"-\"+ pd.to_datetime(terror_incidents.month, format='%B').dt.month.astype(str) "
      ],
      "metadata": {
        "id": "oWeXJ3pMSOFl"
      },
      "execution_count": null,
      "outputs": []
    },
    {
      "cell_type": "code",
      "source": [
        "terror_incidents.insert(loc=0, column='datetime', value=datetime_t)"
      ],
      "metadata": {
        "id": "th1nwPO9Vjqc"
      },
      "execution_count": null,
      "outputs": []
    },
    {
      "cell_type": "code",
      "source": [
        "# setting arbitrary value for terror incident at 80\n",
        "terror_incidents['arb_val_terror']= 80"
      ],
      "metadata": {
        "id": "0b1Zd-mXVrGs"
      },
      "execution_count": null,
      "outputs": []
    },
    {
      "cell_type": "code",
      "source": [
        "terror_incidents.to_csv('/content/RUSSdata/wiki/'+date+'/terror_incidents.csv', index=False) "
      ],
      "metadata": {
        "id": "5IB9v-3taw_q"
      },
      "execution_count": null,
      "outputs": []
    },
    {
      "cell_type": "markdown",
      "source": [
        "# Cleaning censorship, application of the law, protests,  files"
      ],
      "metadata": {
        "id": "QLgUDwT9tF3p"
      }
    },
    {
      "cell_type": "code",
      "source": [
        "import requests\n",
        "import pandas as pd\n",
        "from bs4 import BeautifulSoup"
      ],
      "metadata": {
        "id": "W5pq2Yn4tDWo"
      },
      "execution_count": null,
      "outputs": []
    },
    {
      "cell_type": "code",
      "source": [
        "url1 = \"https://en.wikipedia.org/wiki/Internet_censorship_in_Russia\"\n",
        "page = requests.get(url1)\n",
        "soup = BeautifulSoup(page.content, 'html.parser')"
      ],
      "metadata": {
        "id": "nwJES4-krsCr"
      },
      "execution_count": null,
      "outputs": []
    },
    {
      "cell_type": "code",
      "source": [
        "import calendar\n",
        "months = (list(calendar.month_name))\n",
        "months.pop(0)\n",
        "month_pattern =('|'.join(months))"
      ],
      "metadata": {
        "id": "refevnRC331P"
      },
      "execution_count": null,
      "outputs": []
    },
    {
      "cell_type": "code",
      "source": [
        "yer = []\n",
        "for item in range(2000,2023 ):\n",
        "  yer.append(str(item))\n",
        "\n",
        "pattern = ('|'.join(yer))\n"
      ],
      "metadata": {
        "id": "NrN6UCyL36QI"
      },
      "execution_count": null,
      "outputs": []
    },
    {
      "cell_type": "code",
      "source": [
        "import re\n",
        "temp=[]\n",
        "\n",
        "for header in soup.find_all(['h4']):\n",
        "  test = header.get_text()\n",
        "  test= str(test)\n",
        "  test = test[:-6]\n",
        "  \n",
        "\n",
        "  for elem in header.next_siblings:\n",
        "    if elem.name and elem.name.startswith('h'):\n",
        "        break\n",
        "    if elem.name == 'p':\n",
        "\n",
        "      ev = elem.get_text()\n",
        "      # ev= ev.strip()\n",
        "      ev = re.sub(r'\\[.*?\\]', \"\",ev )\n",
        "      ev=str(ev)\n",
        "\n",
        "      for month in months:\n",
        "        if month in ev:\n",
        "          mo = month\n",
        "      for year in yer:\n",
        "        if year in ev:\n",
        "          yyear= year\n",
        "  \n",
        "      \n",
        "      data = yyear,mo, ev\n",
        "      temp.append(data)"
      ],
      "metadata": {
        "id": "nHyiiMv038yU"
      },
      "execution_count": null,
      "outputs": []
    },
    {
      "cell_type": "code",
      "source": [
        "import pandas as pd\n",
        "\n",
        "soupp1_test = pd.DataFrame.from_records(temp, columns=['year', 'month', 'event'])"
      ],
      "metadata": {
        "id": "cVU5InQo3_Gy"
      },
      "execution_count": null,
      "outputs": []
    },
    {
      "cell_type": "code",
      "source": [
        "soup1_group = soupp1_test.groupby(['year','month'])['event'].apply(' \\\\'.join).reset_index()\n",
        "count = (soupp1_test.groupby(['year','month']).count()).reset_index()\n",
        "soup1_group['event_occurances']  =count['event']"
      ],
      "metadata": {
        "id": "HQTWTmb64BRM"
      },
      "execution_count": null,
      "outputs": []
    },
    {
      "cell_type": "code",
      "source": [
        "url2 = \"https://en.wikipedia.org/wiki/List_of_websites_blocked_in_Russia\"\n",
        "page2 = requests.get(url2)\n",
        "soup2 = BeautifulSoup(page2.content, 'html.parser')"
      ],
      "metadata": {
        "id": "4nEQ2SaA4Das"
      },
      "execution_count": null,
      "outputs": []
    },
    {
      "cell_type": "code",
      "source": [
        "import re\n",
        "\n",
        "\n",
        "sentence_list = []\n",
        "year_list= []\n",
        "prefixes = ('^','1','2','3','4')\n",
        "len_num = len(soup2.find_all('div'))\n",
        "\n",
        "for item in range(0, len_num):\n",
        "  temp =  soup2.find_all('li')[item].get_text()\n",
        "  temp = temp.strip()\n",
        "  temp = re.sub(r'\\[.*?\\]', \"\",temp )\n",
        "  temp=str(temp)\n",
        "  if not temp.startswith(prefixes):\n",
        "\n",
        "    for month in months:\n",
        "      if month in temp:\n",
        "        mo = month\n",
        "    for year in yer:\n",
        "      if year in temp:\n",
        "        yyear= year\n",
        "\n",
        "    data1 = yyear, mo, temp\n",
        "    sentence_list.append(data1)"
      ],
      "metadata": {
        "id": "5yV-3T_A4Fpr"
      },
      "execution_count": null,
      "outputs": []
    },
    {
      "cell_type": "code",
      "source": [
        "import pandas as pd\n",
        "\n",
        "soupp2_test = pd.DataFrame.from_records(sentence_list[:-3], columns=['year', 'month', 'event'])\n"
      ],
      "metadata": {
        "id": "vlz_ppSv4HXd"
      },
      "execution_count": null,
      "outputs": []
    },
    {
      "cell_type": "code",
      "source": [
        "soup2_group = soupp2_test.groupby(['year','month'])['event'].apply(' \\\\'.join).reset_index()\n",
        "count2 = (soupp2_test.groupby(['year','month']).count()).reset_index()\n",
        "soup2_group['event_occurances']  =count2['event']"
      ],
      "metadata": {
        "id": "rnlT0_jP4JAI"
      },
      "execution_count": null,
      "outputs": []
    },
    {
      "cell_type": "code",
      "source": [
        "url3 = 'https://en.wikipedia.org/wiki/Media_freedom_in_Russia'\n",
        "\n",
        "page3 = requests.get(url3)\n",
        "soup3 = BeautifulSoup(page3.content, 'html.parser')"
      ],
      "metadata": {
        "id": "WtqoU7Pr4Lhv"
      },
      "execution_count": null,
      "outputs": []
    },
    {
      "cell_type": "code",
      "source": [
        "import re\n",
        "temp3=[]\n",
        "\n",
        "\n",
        "for ele in soup3.find_all('p'):\n",
        "  test3 = ele.get_text()\n",
        "  test3 = re.sub(r'\\[.*?\\]' , \"\",test3 )\n",
        "  test3= str(test3)\n",
        "\n",
        "  for month in months:\n",
        "    if month in test3:\n",
        "      mo = month\n",
        "  for year in yer:\n",
        "    if year in test3:\n",
        "      yyear= year\n",
        "  \n",
        "\n",
        "  \n",
        "  data3 = yyear, mo, test3\n",
        "  temp3.append(data3)\n"
      ],
      "metadata": {
        "id": "7fAr2rAm4Nbm"
      },
      "execution_count": null,
      "outputs": []
    },
    {
      "cell_type": "code",
      "source": [
        "import pandas as pd\n",
        "\n",
        "soupp3_test = pd.DataFrame.from_records(temp3, columns=['year', 'month', 'event'])\n",
        "soupp3_test.drop(0, inplace=True)"
      ],
      "metadata": {
        "id": "8hTItAkG4PSM"
      },
      "execution_count": null,
      "outputs": []
    },
    {
      "cell_type": "code",
      "source": [
        "soupp3_group = soupp3_test.groupby(['year','month'])['event'].apply(' \\\\'.join).reset_index()\n",
        "count3 = (soupp3_test.groupby(['year','month']).count()).reset_index()\n",
        "soupp3_group ['event_occurances'] = count3['event']"
      ],
      "metadata": {
        "id": "fH-8C7h24Q6G"
      },
      "execution_count": null,
      "outputs": []
    },
    {
      "cell_type": "code",
      "source": [
        "censor1_2_3 =  pd.concat([soup1_group, soup2_group, soupp3_group])"
      ],
      "metadata": {
        "id": "_T1oQjP94TMl"
      },
      "execution_count": null,
      "outputs": []
    },
    {
      "cell_type": "code",
      "source": [
        "censor1_2_3group = censor1_2_3.groupby(['year','month'])['event'].apply(' \\\\'.join).reset_index()\n",
        "count_all= (censor1_2_3.groupby(['year','month'])['event_occurances'].sum()).reset_index()\n",
        "censor1_2_3group['event_occurances'] = count_all['event_occurances']"
      ],
      "metadata": {
        "id": "abXzD5iS4Vl4"
      },
      "execution_count": null,
      "outputs": []
    },
    {
      "cell_type": "code",
      "source": [
        "datetime_c = censor1_2_3group.year.str.strip() +\"-\"+ pd.to_datetime(censor1_2_3group.month, format='%B').dt.month.astype(str) "
      ],
      "metadata": {
        "id": "fvSZzfpfWnNo"
      },
      "execution_count": null,
      "outputs": []
    },
    {
      "cell_type": "code",
      "source": [
        "censor1_2_3group.insert(loc=0, column='datetime', value=datetime_c)"
      ],
      "metadata": {
        "id": "3A4y1elbXClR"
      },
      "execution_count": null,
      "outputs": []
    },
    {
      "cell_type": "markdown",
      "source": [
        "**Adding in recent data : additional**\n",
        "\n",
        "Wikipedia:\n",
        "\n",
        "\"https://en.wikipedia.org/wiki/2022_anti-war_protests_in_Russia\"\n",
        "\n",
        "\n",
        "Additional information alternative saurces (not wikipedia)\n",
        "\n",
        "Kara-Murza : Russian Opposition Activist Kara-Murza Sentenced To 15 Days In Jail source: https://www.rferl.org/a/russia-kara-murza-arrested/31798286.html\n",
        "\n",
        "Ilya Yashin : arrest https://www.themoscowtimes.com/2022/07/13/russia-arrests-anti-war-opposition-activist-ilya-yashin-a78288\n",
        "\n",
        "Leonid Gozman :arrest source: https://apnews.com/article/russia-ukraine-arrests-moscow-4cf9bb89d486fccb4ad2ff7299b28b1f\n",
        "\n",
        "Andrei Pivovarov : Russian opposition activist Andrei Pivovarov jailed for 4 years source: https://www.aljazeera.com/news/2022/7/15/russian-opposition-activist-andrei-pivovarov-jailed-for-4-years\n",
        "\n",
        "Helga Pirogova : Siberian Opposition Deputy Flees Criminal 'War Fakes' Prosecution source : https://www.themoscowtimes.com/2022/07/25/siberian-opposition-deputy-flees-criminal-war-fakes-prosecution-a78395\n",
        "\n"
      ],
      "metadata": {
        "id": "2XFPy7UjN2Td"
      }
    },
    {
      "cell_type": "code",
      "source": [
        "import requests\n",
        "import pandas as pd\n",
        "from bs4 import BeautifulSoup"
      ],
      "metadata": {
        "id": "dcEvESiq8Tkh"
      },
      "execution_count": null,
      "outputs": []
    },
    {
      "cell_type": "code",
      "source": [
        "url4 = \"https://en.wikipedia.org/wiki/2022_anti-war_protests_in_Russia\"\n",
        "page4 = requests.get(url4)\n",
        "soup4 = BeautifulSoup(page.content, 'html.parser')"
      ],
      "metadata": {
        "id": "i7AxagzgOLde"
      },
      "execution_count": null,
      "outputs": []
    },
    {
      "cell_type": "code",
      "source": [
        "import calendar\n",
        "months = (list(calendar.month_name))\n",
        "months.pop(0)\n",
        "month_pattern =('|'.join(months))"
      ],
      "metadata": {
        "id": "9IwgEodVOLV0"
      },
      "execution_count": null,
      "outputs": []
    },
    {
      "cell_type": "code",
      "source": [
        "import re\n",
        "temp4=[]\n",
        "\n",
        "for header in soup4.find_all(['h3']):\n",
        "  test = header.get_text()\n",
        "  test= str(test)\n",
        "\n",
        "  \n",
        "  for elem in header.next_siblings:\n",
        "    if elem.name and elem.name.startswith('h'):\n",
        "        break\n",
        "    if elem.name == 'p':\n",
        "      ev = elem.get_text()\n",
        "      ev= ev.strip()\n",
        "      ev = re.sub(r'\\[.*?\\]', \"\",ev )\n",
        "      ev=str(ev)\n",
        "      for month in months:\n",
        "        if month in ev:\n",
        "          mo = month\n",
        "      \n",
        "      data = mo, ev\n",
        "      temp4.append(data)\n"
      ],
      "metadata": {
        "id": "X1mSpTPTOLLx"
      },
      "execution_count": null,
      "outputs": []
    },
    {
      "cell_type": "code",
      "source": [
        "add_on =pd.DataFrame.from_records(temp4, columns=['month', 'event'])"
      ],
      "metadata": {
        "id": "CHEOYg9jOf31"
      },
      "execution_count": null,
      "outputs": []
    },
    {
      "cell_type": "code",
      "source": [
        "add_on_s = add_on[add_on['event'].str.contains('2022', regex=True)]"
      ],
      "metadata": {
        "id": "AKhF1kOSkiYk"
      },
      "execution_count": null,
      "outputs": []
    },
    {
      "cell_type": "code",
      "source": [
        "add_on_s['datetime'] = '2022'\n",
        "add_on_s['datetime'] =add_on_s.datetime+'-'+pd.to_datetime(add_on_s.month, format='%B').dt.month.astype(str) \n",
        "add_on_s = add_on_s[1:]"
      ],
      "metadata": {
        "colab": {
          "base_uri": "https://localhost:8080/"
        },
        "id": "9QdTAMagOfya",
        "outputId": "fb1273e5-c45f-420f-9e43-92729c3fd6bc"
      },
      "execution_count": null,
      "outputs": [
        {
          "output_type": "stream",
          "name": "stderr",
          "text": [
            "/usr/local/lib/python3.7/dist-packages/ipykernel_launcher.py:1: SettingWithCopyWarning: \n",
            "A value is trying to be set on a copy of a slice from a DataFrame.\n",
            "Try using .loc[row_indexer,col_indexer] = value instead\n",
            "\n",
            "See the caveats in the documentation: https://pandas.pydata.org/pandas-docs/stable/user_guide/indexing.html#returning-a-view-versus-a-copy\n",
            "  \"\"\"Entry point for launching an IPython kernel.\n",
            "/usr/local/lib/python3.7/dist-packages/ipykernel_launcher.py:2: SettingWithCopyWarning: \n",
            "A value is trying to be set on a copy of a slice from a DataFrame.\n",
            "Try using .loc[row_indexer,col_indexer] = value instead\n",
            "\n",
            "See the caveats in the documentation: https://pandas.pydata.org/pandas-docs/stable/user_guide/indexing.html#returning-a-view-versus-a-copy\n",
            "  \n"
          ]
        }
      ]
    },
    {
      "cell_type": "code",
      "source": [
        "event=['Kara-Murza : Russian Opposition Activist Kara-Murza Sentenced To 15 Days In Jail',\n",
        "       'Ilya Yashin : arrested', 'Leonid Gozman :arrested',\n",
        "       'Andrei Pivovarov : Russian opposition activist Andrei Pivovarov jailed for 4 years',\n",
        "       'Helga Pirogova : Siberian Opposition Deputy Flees Criminal \\'War Fakes\\' Prosecution ' ]"
      ],
      "metadata": {
        "id": "5il681r4Pg7r"
      },
      "execution_count": null,
      "outputs": []
    },
    {
      "cell_type": "code",
      "source": [
        "supp_july = pd.DataFrame(event, columns = ['event'])\n",
        "supp_july['datetime']= '2022-7'"
      ],
      "metadata": {
        "id": "N1j-_8oCPkKE"
      },
      "execution_count": null,
      "outputs": []
    },
    {
      "cell_type": "code",
      "source": [
        "selected_add = add_on_s.append(supp_july, ignore_index=True)\n"
      ],
      "metadata": {
        "id": "oYspYs-nPkHI"
      },
      "execution_count": null,
      "outputs": []
    },
    {
      "cell_type": "code",
      "source": [
        "# count the event occurances by month\n",
        "count_all= (selected_add.groupby(['datetime'])['event'].count()).to_list()"
      ],
      "metadata": {
        "id": "HamIMMskPkD6"
      },
      "execution_count": null,
      "outputs": []
    },
    {
      "cell_type": "code",
      "source": [
        "# add the event occurances by month\n",
        "selected_g = (selected_add.groupby(['datetime'])['event'].sum()).reset_index()\n",
        "selected_g['event_occurances'] = count_all"
      ],
      "metadata": {
        "id": "OSjWIwxEPj8B"
      },
      "execution_count": null,
      "outputs": []
    },
    {
      "cell_type": "code",
      "source": [
        "events_all = pd.concat([censor1_2_3group, selected_g])\n",
        "events_all.drop(columns=['year', 'month'], inplace=True)"
      ],
      "metadata": {
        "id": "es9Ta4fBPx_3"
      },
      "execution_count": null,
      "outputs": []
    },
    {
      "cell_type": "code",
      "source": [
        "# key words lists to use in text search of events description\n",
        "import numpy as np\n",
        "key_words =['filtering', 'implementation', 'blacklist', 'block', 'law', 'restricted', 'ban', 'isolate', \n",
        "            'fine', 'harrasment', 'criminal','throttling', 'step down', 'resign', 'killings', 'harassed', 'suppress', 'detained', 'arrested']\n",
        "key_words2 = ['jail', 'sentenced', 'prison']\n",
        "\n",
        "key_words_regex = \"|\".join(key_words)\n",
        "key_words2_regex = \"|\".join(key_words2)"
      ],
      "metadata": {
        "id": "mvN5xfJt4k08"
      },
      "execution_count": null,
      "outputs": []
    },
    {
      "cell_type": "code",
      "source": [
        "# applying score to key words, key words in key_words=[] score of 1, no occurances score 0.1\n",
        "# applying score to key words, key words in key_words2=[] score of 2, no occurances score 0.1\n",
        "events_all['arbitrary_score'] = np.add((np.where(events_all['event'].str.contains(key_words_regex, regex=True), 1, 0.1)), \n",
        "       (np.where(events_all['event'].str.contains(key_words2_regex, regex=True), 2, 0.1)))"
      ],
      "metadata": {
        "id": "QGfMQPG5430g"
      },
      "execution_count": null,
      "outputs": []
    },
    {
      "cell_type": "code",
      "source": [
        "# count  occurances of key words\n",
        "events_all['count_words']=events_all['event'].str.count(key_words_regex)\n",
        "events_all['count_word2']=events_all['event'].str.count(key_words2_regex)\n",
        "events_all.reset_index(drop=True, inplace=True)"
      ],
      "metadata": {
        "id": "FtqiAWeYRINX"
      },
      "execution_count": null,
      "outputs": []
    },
    {
      "cell_type": "code",
      "source": [
        "# add occurances of key words, and event occurances then  multiply by the key words scoring , apply cumulative sum to the columns\n",
        "arb_score = ((events_all['count_words'] + events_all['count_word2']+events_all['event_occurances'] ) *events_all['arbitrary_score']).cumsum()"
      ],
      "metadata": {
        "id": "MQDlrot8dgvj"
      },
      "execution_count": null,
      "outputs": []
    },
    {
      "cell_type": "code",
      "source": [
        "#Scale the Arbitrary score to a range of 1 to 95 for later comparison with opinion polls responses range\n",
        "a, b = 1, 95\n",
        "x, y = arb_score.min(), arb_score.max()\n",
        "cens_score = (arb_score - x) / (y - x) * (b - a) + a"
      ],
      "metadata": {
        "colab": {
          "base_uri": "https://localhost:8080/"
        },
        "id": "Wi1rg4uNdVby",
        "outputId": "cb002c26-2443-4b63-bf5d-3a3dd94c1e90"
      },
      "execution_count": null,
      "outputs": [
        {
          "output_type": "execute_result",
          "data": {
            "text/plain": [
              "0      1.000000\n",
              "1      1.090182\n",
              "2      1.150304\n",
              "3      2.307643\n",
              "4      3.134314\n",
              "        ...    \n",
              "63    75.821234\n",
              "64    75.851295\n",
              "65    89.829549\n",
              "66    90.490886\n",
              "67    95.000000\n",
              "Length: 68, dtype: float64"
            ]
          },
          "metadata": {},
          "execution_count": 78
        }
      ]
    },
    {
      "cell_type": "code",
      "source": [
        "events_all['censor_score'] = cens_score\n",
        "events_all"
      ],
      "metadata": {
        "colab": {
          "base_uri": "https://localhost:8080/",
          "height": 424
        },
        "id": "R1dBj-Jed3Jr",
        "outputId": "4b07bd62-ed67-4548-9315-9d3a47a040ac"
      },
      "execution_count": null,
      "outputs": [
        {
          "output_type": "execute_result",
          "data": {
            "text/plain": [
              "   datetime                                              event  \\\n",
              "0   2000-10  \\nIn 2000, prior to the presidential election,...   \n",
              "1   2003-12  According to the Committee to Protect Journali...   \n",
              "2    2005-5  Russian head of the Parliamentary Committee on...   \n",
              "3   2005-10  The Commissioner for Human Rights of the Counc...   \n",
              "4   2006-12  Remembrance Day of Journalists Killed in the L...   \n",
              "..      ...                                                ...   \n",
              "63   2021-9  In September 2021 OCCRP declared it will cease...   \n",
              "64   2022-4  On 5 April 2022, the Denis Diderot Committee l...   \n",
              "65   2022-3  In March 2022, amid its invasion of Ukraine, R...   \n",
              "66   2022-3  On 11 March 2022, Belarusian political police ...   \n",
              "67   2022-7  In April-July 2022, the Russian authorities pu...   \n",
              "\n",
              "    event_occurances  arbitrary_score  count_words  count_word2  censor_score  \n",
              "0                  4              1.1            1            0      1.000000  \n",
              "1                  3              0.2            0            0      1.090182  \n",
              "2                  2              0.2            0            0      1.150304  \n",
              "3                  3              1.1            4            0      2.307643  \n",
              "4                  3              1.1            2            0      3.134314  \n",
              "..               ...              ...          ...          ...           ...  \n",
              "63                 1              1.1            1            0     75.821234  \n",
              "64                 1              0.2            0            0     75.851295  \n",
              "65                14              3.0           16            1     89.829549  \n",
              "66                 1              1.1            3            0     90.490886  \n",
              "67                 6              3.0            3            1     95.000000  \n",
              "\n",
              "[68 rows x 7 columns]"
            ],
            "text/html": [
              "\n",
              "  <div id=\"df-ff94af87-bfa4-4a27-8826-95263e6203aa\">\n",
              "    <div class=\"colab-df-container\">\n",
              "      <div>\n",
              "<style scoped>\n",
              "    .dataframe tbody tr th:only-of-type {\n",
              "        vertical-align: middle;\n",
              "    }\n",
              "\n",
              "    .dataframe tbody tr th {\n",
              "        vertical-align: top;\n",
              "    }\n",
              "\n",
              "    .dataframe thead th {\n",
              "        text-align: right;\n",
              "    }\n",
              "</style>\n",
              "<table border=\"1\" class=\"dataframe\">\n",
              "  <thead>\n",
              "    <tr style=\"text-align: right;\">\n",
              "      <th></th>\n",
              "      <th>datetime</th>\n",
              "      <th>event</th>\n",
              "      <th>event_occurances</th>\n",
              "      <th>arbitrary_score</th>\n",
              "      <th>count_words</th>\n",
              "      <th>count_word2</th>\n",
              "      <th>censor_score</th>\n",
              "    </tr>\n",
              "  </thead>\n",
              "  <tbody>\n",
              "    <tr>\n",
              "      <th>0</th>\n",
              "      <td>2000-10</td>\n",
              "      <td>\\nIn 2000, prior to the presidential election,...</td>\n",
              "      <td>4</td>\n",
              "      <td>1.1</td>\n",
              "      <td>1</td>\n",
              "      <td>0</td>\n",
              "      <td>1.000000</td>\n",
              "    </tr>\n",
              "    <tr>\n",
              "      <th>1</th>\n",
              "      <td>2003-12</td>\n",
              "      <td>According to the Committee to Protect Journali...</td>\n",
              "      <td>3</td>\n",
              "      <td>0.2</td>\n",
              "      <td>0</td>\n",
              "      <td>0</td>\n",
              "      <td>1.090182</td>\n",
              "    </tr>\n",
              "    <tr>\n",
              "      <th>2</th>\n",
              "      <td>2005-5</td>\n",
              "      <td>Russian head of the Parliamentary Committee on...</td>\n",
              "      <td>2</td>\n",
              "      <td>0.2</td>\n",
              "      <td>0</td>\n",
              "      <td>0</td>\n",
              "      <td>1.150304</td>\n",
              "    </tr>\n",
              "    <tr>\n",
              "      <th>3</th>\n",
              "      <td>2005-10</td>\n",
              "      <td>The Commissioner for Human Rights of the Counc...</td>\n",
              "      <td>3</td>\n",
              "      <td>1.1</td>\n",
              "      <td>4</td>\n",
              "      <td>0</td>\n",
              "      <td>2.307643</td>\n",
              "    </tr>\n",
              "    <tr>\n",
              "      <th>4</th>\n",
              "      <td>2006-12</td>\n",
              "      <td>Remembrance Day of Journalists Killed in the L...</td>\n",
              "      <td>3</td>\n",
              "      <td>1.1</td>\n",
              "      <td>2</td>\n",
              "      <td>0</td>\n",
              "      <td>3.134314</td>\n",
              "    </tr>\n",
              "    <tr>\n",
              "      <th>...</th>\n",
              "      <td>...</td>\n",
              "      <td>...</td>\n",
              "      <td>...</td>\n",
              "      <td>...</td>\n",
              "      <td>...</td>\n",
              "      <td>...</td>\n",
              "      <td>...</td>\n",
              "    </tr>\n",
              "    <tr>\n",
              "      <th>63</th>\n",
              "      <td>2021-9</td>\n",
              "      <td>In September 2021 OCCRP declared it will cease...</td>\n",
              "      <td>1</td>\n",
              "      <td>1.1</td>\n",
              "      <td>1</td>\n",
              "      <td>0</td>\n",
              "      <td>75.821234</td>\n",
              "    </tr>\n",
              "    <tr>\n",
              "      <th>64</th>\n",
              "      <td>2022-4</td>\n",
              "      <td>On 5 April 2022, the Denis Diderot Committee l...</td>\n",
              "      <td>1</td>\n",
              "      <td>0.2</td>\n",
              "      <td>0</td>\n",
              "      <td>0</td>\n",
              "      <td>75.851295</td>\n",
              "    </tr>\n",
              "    <tr>\n",
              "      <th>65</th>\n",
              "      <td>2022-3</td>\n",
              "      <td>In March 2022, amid its invasion of Ukraine, R...</td>\n",
              "      <td>14</td>\n",
              "      <td>3.0</td>\n",
              "      <td>16</td>\n",
              "      <td>1</td>\n",
              "      <td>89.829549</td>\n",
              "    </tr>\n",
              "    <tr>\n",
              "      <th>66</th>\n",
              "      <td>2022-3</td>\n",
              "      <td>On 11 March 2022, Belarusian political police ...</td>\n",
              "      <td>1</td>\n",
              "      <td>1.1</td>\n",
              "      <td>3</td>\n",
              "      <td>0</td>\n",
              "      <td>90.490886</td>\n",
              "    </tr>\n",
              "    <tr>\n",
              "      <th>67</th>\n",
              "      <td>2022-7</td>\n",
              "      <td>In April-July 2022, the Russian authorities pu...</td>\n",
              "      <td>6</td>\n",
              "      <td>3.0</td>\n",
              "      <td>3</td>\n",
              "      <td>1</td>\n",
              "      <td>95.000000</td>\n",
              "    </tr>\n",
              "  </tbody>\n",
              "</table>\n",
              "<p>68 rows × 7 columns</p>\n",
              "</div>\n",
              "      <button class=\"colab-df-convert\" onclick=\"convertToInteractive('df-ff94af87-bfa4-4a27-8826-95263e6203aa')\"\n",
              "              title=\"Convert this dataframe to an interactive table.\"\n",
              "              style=\"display:none;\">\n",
              "        \n",
              "  <svg xmlns=\"http://www.w3.org/2000/svg\" height=\"24px\"viewBox=\"0 0 24 24\"\n",
              "       width=\"24px\">\n",
              "    <path d=\"M0 0h24v24H0V0z\" fill=\"none\"/>\n",
              "    <path d=\"M18.56 5.44l.94 2.06.94-2.06 2.06-.94-2.06-.94-.94-2.06-.94 2.06-2.06.94zm-11 1L8.5 8.5l.94-2.06 2.06-.94-2.06-.94L8.5 2.5l-.94 2.06-2.06.94zm10 10l.94 2.06.94-2.06 2.06-.94-2.06-.94-.94-2.06-.94 2.06-2.06.94z\"/><path d=\"M17.41 7.96l-1.37-1.37c-.4-.4-.92-.59-1.43-.59-.52 0-1.04.2-1.43.59L10.3 9.45l-7.72 7.72c-.78.78-.78 2.05 0 2.83L4 21.41c.39.39.9.59 1.41.59.51 0 1.02-.2 1.41-.59l7.78-7.78 2.81-2.81c.8-.78.8-2.07 0-2.86zM5.41 20L4 18.59l7.72-7.72 1.47 1.35L5.41 20z\"/>\n",
              "  </svg>\n",
              "      </button>\n",
              "      \n",
              "  <style>\n",
              "    .colab-df-container {\n",
              "      display:flex;\n",
              "      flex-wrap:wrap;\n",
              "      gap: 12px;\n",
              "    }\n",
              "\n",
              "    .colab-df-convert {\n",
              "      background-color: #E8F0FE;\n",
              "      border: none;\n",
              "      border-radius: 50%;\n",
              "      cursor: pointer;\n",
              "      display: none;\n",
              "      fill: #1967D2;\n",
              "      height: 32px;\n",
              "      padding: 0 0 0 0;\n",
              "      width: 32px;\n",
              "    }\n",
              "\n",
              "    .colab-df-convert:hover {\n",
              "      background-color: #E2EBFA;\n",
              "      box-shadow: 0px 1px 2px rgba(60, 64, 67, 0.3), 0px 1px 3px 1px rgba(60, 64, 67, 0.15);\n",
              "      fill: #174EA6;\n",
              "    }\n",
              "\n",
              "    [theme=dark] .colab-df-convert {\n",
              "      background-color: #3B4455;\n",
              "      fill: #D2E3FC;\n",
              "    }\n",
              "\n",
              "    [theme=dark] .colab-df-convert:hover {\n",
              "      background-color: #434B5C;\n",
              "      box-shadow: 0px 1px 3px 1px rgba(0, 0, 0, 0.15);\n",
              "      filter: drop-shadow(0px 1px 2px rgba(0, 0, 0, 0.3));\n",
              "      fill: #FFFFFF;\n",
              "    }\n",
              "  </style>\n",
              "\n",
              "      <script>\n",
              "        const buttonEl =\n",
              "          document.querySelector('#df-ff94af87-bfa4-4a27-8826-95263e6203aa button.colab-df-convert');\n",
              "        buttonEl.style.display =\n",
              "          google.colab.kernel.accessAllowed ? 'block' : 'none';\n",
              "\n",
              "        async function convertToInteractive(key) {\n",
              "          const element = document.querySelector('#df-ff94af87-bfa4-4a27-8826-95263e6203aa');\n",
              "          const dataTable =\n",
              "            await google.colab.kernel.invokeFunction('convertToInteractive',\n",
              "                                                     [key], {});\n",
              "          if (!dataTable) return;\n",
              "\n",
              "          const docLinkHtml = 'Like what you see? Visit the ' +\n",
              "            '<a target=\"_blank\" href=https://colab.research.google.com/notebooks/data_table.ipynb>data table notebook</a>'\n",
              "            + ' to learn more about interactive tables.';\n",
              "          element.innerHTML = '';\n",
              "          dataTable['output_type'] = 'display_data';\n",
              "          await google.colab.output.renderOutput(dataTable, element);\n",
              "          const docLink = document.createElement('div');\n",
              "          docLink.innerHTML = docLinkHtml;\n",
              "          element.appendChild(docLink);\n",
              "        }\n",
              "      </script>\n",
              "    </div>\n",
              "  </div>\n",
              "  "
            ]
          },
          "metadata": {},
          "execution_count": 79
        }
      ]
    },
    {
      "cell_type": "code",
      "source": [
        "events_all.to_csv('/content/RUSSdata/wiki/'+date+'/censorship_plus.csv', index=False)"
      ],
      "metadata": {
        "id": "PTEdMv8L4Ymh"
      },
      "execution_count": null,
      "outputs": []
    },
    {
      "cell_type": "markdown",
      "source": [
        "# Cleaning journalists data"
      ],
      "metadata": {
        "id": "4tKWqRVYJ7Z6"
      }
    },
    {
      "cell_type": "code",
      "source": [
        "url_j = 'https://en.wikipedia.org/wiki/List_of_journalists_killed_in_Russia'\n",
        "\n",
        "page_j = requests.get(url_j)\n",
        "soup_j = BeautifulSoup(page_j.content, 'html.parser')"
      ],
      "metadata": {
        "id": "o4vYp17u4jmQ"
      },
      "execution_count": null,
      "outputs": []
    },
    {
      "cell_type": "code",
      "source": [
        "testo1 = []\n",
        "for header in soup_j.find_all(['h4']):\n",
        "  head = (header.get_text())\n",
        "  head = re.sub(r'\\[.*?\\]', \"\",head )\n",
        "  for ele in header.find_next_sibling():\n",
        "    if ele.name == 'li':\n",
        "      event=(ele.get_text())\n",
        "      event=re.sub(r'\\[.*?\\]', \"\",event)\n",
        "      for month in months:\n",
        "        if month in event:\n",
        "          mo =month\n",
        "      datum = head,mo, event\n",
        "      testo1.append(datum)"
      ],
      "metadata": {
        "id": "8Qsuypys4lmU"
      },
      "execution_count": null,
      "outputs": []
    },
    {
      "cell_type": "code",
      "source": [
        "journalist = pd.DataFrame.from_records(testo1, columns=['year', 'month','event'])"
      ],
      "metadata": {
        "id": "R-7GUgZ54nsX"
      },
      "execution_count": null,
      "outputs": []
    },
    {
      "cell_type": "code",
      "source": [
        "journalist_group = journalist.groupby(['year','month'])['event'].apply(' \\\\'.join).reset_index()\n",
        "count_j = (journalist.groupby(['year','month']).count()).reset_index()\n",
        "journalist_group['event_occurances'] = count_j ['event']"
      ],
      "metadata": {
        "id": "K5J2f7LQ4qOJ"
      },
      "execution_count": null,
      "outputs": []
    },
    {
      "cell_type": "code",
      "source": [
        "tables = pd.read_html(url_j)"
      ],
      "metadata": {
        "id": "2YBUkZKNFPKE"
      },
      "execution_count": null,
      "outputs": []
    },
    {
      "cell_type": "code",
      "source": [
        "tablej = tables[0]"
      ],
      "metadata": {
        "id": "mL06FvNOFt5D"
      },
      "execution_count": null,
      "outputs": []
    },
    {
      "cell_type": "code",
      "source": [
        "tablej = tablej .T.reset_index()"
      ],
      "metadata": {
        "id": "L8GztJ1KGUD3"
      },
      "execution_count": null,
      "outputs": []
    },
    {
      "cell_type": "code",
      "source": [
        "cols = tablej.iloc[0]"
      ],
      "metadata": {
        "id": "HIExR8jNIFH1"
      },
      "execution_count": null,
      "outputs": []
    },
    {
      "cell_type": "code",
      "source": [
        "tablej_head = tablej[1:-1]"
      ],
      "metadata": {
        "id": "AIe834YIIZvD"
      },
      "execution_count": null,
      "outputs": []
    },
    {
      "cell_type": "code",
      "source": [
        "tablej_head.columns= cols"
      ],
      "metadata": {
        "id": "EPo5znmwHiYr"
      },
      "execution_count": null,
      "outputs": []
    },
    {
      "cell_type": "code",
      "source": [
        "wiki_tb = tablej_head[['Year', 'Murder only']]"
      ],
      "metadata": {
        "id": "TycF5rl_Fv8N"
      },
      "execution_count": null,
      "outputs": []
    },
    {
      "cell_type": "code",
      "source": [
        "wiki_tb.columns = ['year', 'event_occurances']"
      ],
      "metadata": {
        "id": "i9Uu9iNBN4xo"
      },
      "execution_count": null,
      "outputs": []
    },
    {
      "cell_type": "code",
      "source": [
        "date_time_j = journalist_group.year.str.strip() +\"-\"+ pd.to_datetime(journalist_group.month, format='%B').dt.month.astype(str) \n",
        "journalist_group.insert(loc=0, column='datetime', value=date_time_j )"
      ],
      "metadata": {
        "id": "x9gr5i64De3m"
      },
      "execution_count": null,
      "outputs": []
    },
    {
      "cell_type": "code",
      "source": [
        "journl_sft = journalist_group.groupby('year')['event_occurances'].sum().reset_index()"
      ],
      "metadata": {
        "id": "OcdY-_sGEUv1"
      },
      "execution_count": null,
      "outputs": []
    },
    {
      "cell_type": "code",
      "source": [
        "add_on_j = journl_sft[2:]"
      ],
      "metadata": {
        "id": "BpMQ8FE2OFWu"
      },
      "execution_count": null,
      "outputs": []
    },
    {
      "cell_type": "code",
      "source": [
        "journalists_death = pd.concat([wiki_tb, add_on_j])\n",
        "journalists_death "
      ],
      "metadata": {
        "colab": {
          "base_uri": "https://localhost:8080/",
          "height": 833
        },
        "id": "jfEhhs5wOvLn",
        "outputId": "37470fda-cd5c-44be-f5db-7e477d61b426"
      },
      "execution_count": null,
      "outputs": [
        {
          "output_type": "execute_result",
          "data": {
            "text/plain": [
              "    year event_occurances\n",
              "1   1993                3\n",
              "2   1994                8\n",
              "3   1995               16\n",
              "4   1996               12\n",
              "5   1997               10\n",
              "6   1998               10\n",
              "7   1999                8\n",
              "8   2000               15\n",
              "9   2001               11\n",
              "10  2002               20\n",
              "11  2003               11\n",
              "12  2004               10\n",
              "13  2005                4\n",
              "14  2006               13\n",
              "15  2007                3\n",
              "16  2008                5\n",
              "17  2009                6\n",
              "2   2010               10\n",
              "3   2011                1\n",
              "4   2012                2\n",
              "5   2013                1\n",
              "6   2014                1\n",
              "7   2016                1\n",
              "8   2017                4\n",
              "9   2018                5"
            ],
            "text/html": [
              "\n",
              "  <div id=\"df-ff797080-68ee-4a5a-9feb-0d048ecf6d74\">\n",
              "    <div class=\"colab-df-container\">\n",
              "      <div>\n",
              "<style scoped>\n",
              "    .dataframe tbody tr th:only-of-type {\n",
              "        vertical-align: middle;\n",
              "    }\n",
              "\n",
              "    .dataframe tbody tr th {\n",
              "        vertical-align: top;\n",
              "    }\n",
              "\n",
              "    .dataframe thead th {\n",
              "        text-align: right;\n",
              "    }\n",
              "</style>\n",
              "<table border=\"1\" class=\"dataframe\">\n",
              "  <thead>\n",
              "    <tr style=\"text-align: right;\">\n",
              "      <th></th>\n",
              "      <th>year</th>\n",
              "      <th>event_occurances</th>\n",
              "    </tr>\n",
              "  </thead>\n",
              "  <tbody>\n",
              "    <tr>\n",
              "      <th>1</th>\n",
              "      <td>1993</td>\n",
              "      <td>3</td>\n",
              "    </tr>\n",
              "    <tr>\n",
              "      <th>2</th>\n",
              "      <td>1994</td>\n",
              "      <td>8</td>\n",
              "    </tr>\n",
              "    <tr>\n",
              "      <th>3</th>\n",
              "      <td>1995</td>\n",
              "      <td>16</td>\n",
              "    </tr>\n",
              "    <tr>\n",
              "      <th>4</th>\n",
              "      <td>1996</td>\n",
              "      <td>12</td>\n",
              "    </tr>\n",
              "    <tr>\n",
              "      <th>5</th>\n",
              "      <td>1997</td>\n",
              "      <td>10</td>\n",
              "    </tr>\n",
              "    <tr>\n",
              "      <th>6</th>\n",
              "      <td>1998</td>\n",
              "      <td>10</td>\n",
              "    </tr>\n",
              "    <tr>\n",
              "      <th>7</th>\n",
              "      <td>1999</td>\n",
              "      <td>8</td>\n",
              "    </tr>\n",
              "    <tr>\n",
              "      <th>8</th>\n",
              "      <td>2000</td>\n",
              "      <td>15</td>\n",
              "    </tr>\n",
              "    <tr>\n",
              "      <th>9</th>\n",
              "      <td>2001</td>\n",
              "      <td>11</td>\n",
              "    </tr>\n",
              "    <tr>\n",
              "      <th>10</th>\n",
              "      <td>2002</td>\n",
              "      <td>20</td>\n",
              "    </tr>\n",
              "    <tr>\n",
              "      <th>11</th>\n",
              "      <td>2003</td>\n",
              "      <td>11</td>\n",
              "    </tr>\n",
              "    <tr>\n",
              "      <th>12</th>\n",
              "      <td>2004</td>\n",
              "      <td>10</td>\n",
              "    </tr>\n",
              "    <tr>\n",
              "      <th>13</th>\n",
              "      <td>2005</td>\n",
              "      <td>4</td>\n",
              "    </tr>\n",
              "    <tr>\n",
              "      <th>14</th>\n",
              "      <td>2006</td>\n",
              "      <td>13</td>\n",
              "    </tr>\n",
              "    <tr>\n",
              "      <th>15</th>\n",
              "      <td>2007</td>\n",
              "      <td>3</td>\n",
              "    </tr>\n",
              "    <tr>\n",
              "      <th>16</th>\n",
              "      <td>2008</td>\n",
              "      <td>5</td>\n",
              "    </tr>\n",
              "    <tr>\n",
              "      <th>17</th>\n",
              "      <td>2009</td>\n",
              "      <td>6</td>\n",
              "    </tr>\n",
              "    <tr>\n",
              "      <th>2</th>\n",
              "      <td>2010</td>\n",
              "      <td>10</td>\n",
              "    </tr>\n",
              "    <tr>\n",
              "      <th>3</th>\n",
              "      <td>2011</td>\n",
              "      <td>1</td>\n",
              "    </tr>\n",
              "    <tr>\n",
              "      <th>4</th>\n",
              "      <td>2012</td>\n",
              "      <td>2</td>\n",
              "    </tr>\n",
              "    <tr>\n",
              "      <th>5</th>\n",
              "      <td>2013</td>\n",
              "      <td>1</td>\n",
              "    </tr>\n",
              "    <tr>\n",
              "      <th>6</th>\n",
              "      <td>2014</td>\n",
              "      <td>1</td>\n",
              "    </tr>\n",
              "    <tr>\n",
              "      <th>7</th>\n",
              "      <td>2016</td>\n",
              "      <td>1</td>\n",
              "    </tr>\n",
              "    <tr>\n",
              "      <th>8</th>\n",
              "      <td>2017</td>\n",
              "      <td>4</td>\n",
              "    </tr>\n",
              "    <tr>\n",
              "      <th>9</th>\n",
              "      <td>2018</td>\n",
              "      <td>5</td>\n",
              "    </tr>\n",
              "  </tbody>\n",
              "</table>\n",
              "</div>\n",
              "      <button class=\"colab-df-convert\" onclick=\"convertToInteractive('df-ff797080-68ee-4a5a-9feb-0d048ecf6d74')\"\n",
              "              title=\"Convert this dataframe to an interactive table.\"\n",
              "              style=\"display:none;\">\n",
              "        \n",
              "  <svg xmlns=\"http://www.w3.org/2000/svg\" height=\"24px\"viewBox=\"0 0 24 24\"\n",
              "       width=\"24px\">\n",
              "    <path d=\"M0 0h24v24H0V0z\" fill=\"none\"/>\n",
              "    <path d=\"M18.56 5.44l.94 2.06.94-2.06 2.06-.94-2.06-.94-.94-2.06-.94 2.06-2.06.94zm-11 1L8.5 8.5l.94-2.06 2.06-.94-2.06-.94L8.5 2.5l-.94 2.06-2.06.94zm10 10l.94 2.06.94-2.06 2.06-.94-2.06-.94-.94-2.06-.94 2.06-2.06.94z\"/><path d=\"M17.41 7.96l-1.37-1.37c-.4-.4-.92-.59-1.43-.59-.52 0-1.04.2-1.43.59L10.3 9.45l-7.72 7.72c-.78.78-.78 2.05 0 2.83L4 21.41c.39.39.9.59 1.41.59.51 0 1.02-.2 1.41-.59l7.78-7.78 2.81-2.81c.8-.78.8-2.07 0-2.86zM5.41 20L4 18.59l7.72-7.72 1.47 1.35L5.41 20z\"/>\n",
              "  </svg>\n",
              "      </button>\n",
              "      \n",
              "  <style>\n",
              "    .colab-df-container {\n",
              "      display:flex;\n",
              "      flex-wrap:wrap;\n",
              "      gap: 12px;\n",
              "    }\n",
              "\n",
              "    .colab-df-convert {\n",
              "      background-color: #E8F0FE;\n",
              "      border: none;\n",
              "      border-radius: 50%;\n",
              "      cursor: pointer;\n",
              "      display: none;\n",
              "      fill: #1967D2;\n",
              "      height: 32px;\n",
              "      padding: 0 0 0 0;\n",
              "      width: 32px;\n",
              "    }\n",
              "\n",
              "    .colab-df-convert:hover {\n",
              "      background-color: #E2EBFA;\n",
              "      box-shadow: 0px 1px 2px rgba(60, 64, 67, 0.3), 0px 1px 3px 1px rgba(60, 64, 67, 0.15);\n",
              "      fill: #174EA6;\n",
              "    }\n",
              "\n",
              "    [theme=dark] .colab-df-convert {\n",
              "      background-color: #3B4455;\n",
              "      fill: #D2E3FC;\n",
              "    }\n",
              "\n",
              "    [theme=dark] .colab-df-convert:hover {\n",
              "      background-color: #434B5C;\n",
              "      box-shadow: 0px 1px 3px 1px rgba(0, 0, 0, 0.15);\n",
              "      filter: drop-shadow(0px 1px 2px rgba(0, 0, 0, 0.3));\n",
              "      fill: #FFFFFF;\n",
              "    }\n",
              "  </style>\n",
              "\n",
              "      <script>\n",
              "        const buttonEl =\n",
              "          document.querySelector('#df-ff797080-68ee-4a5a-9feb-0d048ecf6d74 button.colab-df-convert');\n",
              "        buttonEl.style.display =\n",
              "          google.colab.kernel.accessAllowed ? 'block' : 'none';\n",
              "\n",
              "        async function convertToInteractive(key) {\n",
              "          const element = document.querySelector('#df-ff797080-68ee-4a5a-9feb-0d048ecf6d74');\n",
              "          const dataTable =\n",
              "            await google.colab.kernel.invokeFunction('convertToInteractive',\n",
              "                                                     [key], {});\n",
              "          if (!dataTable) return;\n",
              "\n",
              "          const docLinkHtml = 'Like what you see? Visit the ' +\n",
              "            '<a target=\"_blank\" href=https://colab.research.google.com/notebooks/data_table.ipynb>data table notebook</a>'\n",
              "            + ' to learn more about interactive tables.';\n",
              "          element.innerHTML = '';\n",
              "          dataTable['output_type'] = 'display_data';\n",
              "          await google.colab.output.renderOutput(dataTable, element);\n",
              "          const docLink = document.createElement('div');\n",
              "          docLink.innerHTML = docLinkHtml;\n",
              "          element.appendChild(docLink);\n",
              "        }\n",
              "      </script>\n",
              "    </div>\n",
              "  </div>\n",
              "  "
            ]
          },
          "metadata": {},
          "execution_count": 96
        }
      ]
    },
    {
      "cell_type": "code",
      "source": [
        "\n",
        "journalists_death.to_csv('/content/RUSSdata/wiki/'+date+'/journalists_death.csv', index=False)"
      ],
      "metadata": {
        "id": "B3PuibEY4sWM"
      },
      "execution_count": null,
      "outputs": []
    },
    {
      "cell_type": "markdown",
      "source": [
        "# Fred Data"
      ],
      "metadata": {
        "id": "knayIo_oLDyu"
      }
    },
    {
      "cell_type": "code",
      "source": [
        "!pip install full-fred\n",
        "\n",
        "# designed by https://github.com/7astro7/full_fred"
      ],
      "metadata": {
        "id": "wv0M05mKKL5s",
        "colab": {
          "base_uri": "https://localhost:8080/"
        },
        "outputId": "16f020b2-5c83-4ea5-e246-1f04a3c8ec35"
      },
      "execution_count": null,
      "outputs": [
        {
          "output_type": "stream",
          "name": "stdout",
          "text": [
            "Looking in indexes: https://pypi.org/simple, https://us-python.pkg.dev/colab-wheels/public/simple/\n",
            "Collecting full-fred\n",
            "  Downloading full_fred-0.0.9a3-py3-none-any.whl (47 kB)\n",
            "\u001b[K     |████████████████████████████████| 47 kB 4.1 MB/s \n",
            "\u001b[?25hRequirement already satisfied: requests in /usr/local/lib/python3.7/dist-packages (from full-fred) (2.23.0)\n",
            "Requirement already satisfied: pandas in /usr/local/lib/python3.7/dist-packages (from full-fred) (1.3.5)\n",
            "Requirement already satisfied: pytz>=2017.3 in /usr/local/lib/python3.7/dist-packages (from pandas->full-fred) (2022.1)\n",
            "Requirement already satisfied: numpy>=1.17.3 in /usr/local/lib/python3.7/dist-packages (from pandas->full-fred) (1.21.6)\n",
            "Requirement already satisfied: python-dateutil>=2.7.3 in /usr/local/lib/python3.7/dist-packages (from pandas->full-fred) (2.8.2)\n",
            "Requirement already satisfied: six>=1.5 in /usr/local/lib/python3.7/dist-packages (from python-dateutil>=2.7.3->pandas->full-fred) (1.15.0)\n",
            "Requirement already satisfied: certifi>=2017.4.17 in /usr/local/lib/python3.7/dist-packages (from requests->full-fred) (2022.6.15)\n",
            "Requirement already satisfied: urllib3!=1.25.0,!=1.25.1,<1.26,>=1.21.1 in /usr/local/lib/python3.7/dist-packages (from requests->full-fred) (1.24.3)\n",
            "Requirement already satisfied: idna<3,>=2.5 in /usr/local/lib/python3.7/dist-packages (from requests->full-fred) (2.10)\n",
            "Requirement already satisfied: chardet<4,>=3.0.2 in /usr/local/lib/python3.7/dist-packages (from requests->full-fred) (3.0.4)\n",
            "Installing collected packages: full-fred\n",
            "Successfully installed full-fred-0.0.9a3\n"
          ]
        }
      ]
    },
    {
      "cell_type": "code",
      "source": [
        "import pandas as pd\n",
        "import numpy as np"
      ],
      "metadata": {
        "id": "w1HEQ37-KOni"
      },
      "execution_count": null,
      "outputs": []
    },
    {
      "cell_type": "code",
      "source": [
        "from full_fred.fred import Fred\n",
        "\n",
        "fred = Fred('your_fred_api_key.txt')\n",
        "\n",
        "fred.get_api_key_file()"
      ],
      "metadata": {
        "id": "KQt64OjcKQo9",
        "colab": {
          "base_uri": "https://localhost:8080/",
          "height": 35
        },
        "outputId": "2bdc1bf0-dfb5-4749-a3f0-02470b132e32"
      },
      "execution_count": null,
      "outputs": [
        {
          "output_type": "execute_result",
          "data": {
            "text/plain": [
              "'/content/drive/MyDrive/RUSSdata/fred_api_key.txt'"
            ],
            "application/vnd.google.colaboratory.intrinsic+json": {
              "type": "string"
            }
          },
          "metadata": {},
          "execution_count": 12
        }
      ]
    },
    {
      "cell_type": "code",
      "source": [
        "commodities = ['WPU01830161','PSUNOUSDM','PWHEAMTUSDM', 'DCOILBRENTEU', 'PNGASEUUSDM','POILBREUSDM', 'CCUSMA02RUM618N', 'SIPOVGINICHN','SIPOVGINIRUS','SIPOVGINIUSA','NYGDPPCAPKDCHN','NYGDPPCAPKDRUS','NYGDPPCAPKDUSA']\n",
        "names = ['sunflower','sunflower_oil', 'wheat', 'oil_eu', 'natural_gas_eu', 'Brent_Crude_Global','ruble', 'GINI_China','GINI_Rus','GINI_US','Constant_GDP_per_capita_China','Constant_GDP_per_capita_Rus','Constant_GDP_per_capita_US' ]\n"
      ],
      "metadata": {
        "id": "HYW9KIhfKS2V"
      },
      "execution_count": null,
      "outputs": []
    },
    {
      "cell_type": "markdown",
      "source": [
        "Citations:\n",
        "\n",
        "U.S. Bureau of Labor Statistics, Producer Price Index by Commodity: Farm Products: Sunflower [WPU01830161], retrieved from FRED, Federal Reserve Bank of St. Louis; https://fred.stlouisfed.org/series/WPU01830161, July 21, 2022.\n",
        "\n",
        "International Monetary Fund, Global price of Sunflower Oil [PSUNOUSDM], retrieved from FRED, Federal Reserve Bank of St. Louis; https://fred.stlouisfed.org/series/PSUNOUSDM, July 20, 2022.\n",
        "\n",
        "International Monetary Fund, Global price of Wheat [PWHEAMTUSDM], retrieved from FRED, Federal Reserve Bank of St. Louis; https://fred.stlouisfed.org/series/PWHEAMTUSDM, July 20, 2022.\n",
        "\n",
        "U.S. Energy Information Administration, Crude Oil Prices: Brent - Europe [DCOILBRENTEU], retrieved from FRED, Federal Reserve Bank of St. Louis; https://fred.stlouisfed.org/series/DCOILBRENTEU, July 20, 2022.\n",
        "\n",
        "International Monetary Fund, Global price of Natural gas, EU [PNGASEUUSDM], retrieved from FRED, Federal Reserve Bank of St. Louis; https://fred.stlouisfed.org/series/PNGASEUUSDM, July 20, 2022.\n",
        "\n",
        "International Monetary Fund, Global price of Brent Crude [POILBREUSDM], retrieved from FRED, Federal Reserve Bank of St. Louis; https://fred.stlouisfed.org/series/POILBREUSDM, July 20, 2022.\n",
        "\n",
        "Organization for Economic Co-operation and Development, National Currency to US Dollar Exchange Rate: Average of Daily Rates for the Russian Federation [CCUSMA02RUM618N], retrieved from FRED, Federal Reserve Bank of St. Louis; https://fred.stlouisfed.org/series/CCUSMA02RUM618N, July 20, 2022\n",
        "\n",
        "\n",
        "World Bank, GINI Index for the United States [SIPOVGINIUSA], retrieved from FRED, Federal Reserve Bank of St. Louis; https://fred.stlouisfed.org/series/SIPOVGINIUSA, July 24, 2022.\n",
        "\n",
        "https://fred.stlouisfed.org/series/NYGDPPCAPKDCHN World Bank, Constant GDP per capita for China [NYGDPPCAPKDCHN], retrieved from FRED, Federal Reserve Bank of St. Louis; https://fred.stlouisfed.org/series/NYGDPPCAPKDCHN, July 23, 2022.\n",
        "\n",
        "https://fred.stlouisfed.org/series/NYGDPPCAPKDRUS World Bank, Constant GDP per capita for the Russian Federation [NYGDPPCAPKDRUS], retrieved from FRED, Federal Reserve Bank of St. Louis; https://fred.stlouisfed.org/series/NYGDPPCAPKDRUS, July 23, 2022.\n",
        "\n",
        "https://fred.stlouisfed.org/series/NYGDPPCAPKDUSA\n",
        "\n",
        "World Bank, Constant GDP per capita for the United States [NYGDPPCAPKDUSA], retrieved from FRED, Federal Reserve Bank of St. Louis; https://fred.stlouisfed.org/series/NYGDPPCAPKDUSA, July 23, 2022. \n",
        "\n",
        "https://www.reuters.com/world/china/what-is-chinas-common-prosperity-drive-why-does-it-matter-2021-09-02/ BEIJING, Sept 2 (Reuters) - President Xi Jinping has called for China to achieve \"common prosperity\", seeking to narrow a yawning wealth gap that threatens the country's economic ascent and the legitimacy of Communist Party rule.\n",
        "\n",
        "President Xi Assumed office 15 November 2012"
      ],
      "metadata": {
        "id": "BZdmz-pgKZ7G"
      }
    },
    {
      "cell_type": "code",
      "source": [
        "d_names = dict(zip(commodities,names))\n"
      ],
      "metadata": {
        "id": "kz855p2j7zVs"
      },
      "execution_count": null,
      "outputs": []
    },
    {
      "cell_type": "code",
      "source": [
        "comm_data= {}\n",
        "\n",
        "for item in commodities:\n",
        "  temp= fred.get_series_df(item)\n",
        "  temp = temp[['date', 'value']]\n",
        "  temp['value'] = pd.to_numeric(temp['value'], errors='coerce').fillna(np.NaN)\n",
        "  temp = temp.rename(columns={'value':item})\n",
        "  temp['date'] = pd.to_datetime(temp['date'],format='%Y/%m/%d')\n",
        "  #df_list.append(temp)\n",
        "  comm_data[item] = temp\n"
      ],
      "metadata": {
        "id": "E2H9Oam7KXNl",
        "colab": {
          "base_uri": "https://localhost:8080/"
        },
        "outputId": "4fffe4d5-eec1-4046-bb16-6c41acf2aadb"
      },
      "execution_count": null,
      "outputs": [
        {
          "output_type": "stream",
          "name": "stderr",
          "text": [
            "/usr/local/lib/python3.7/dist-packages/ipykernel_launcher.py:6: SettingWithCopyWarning: \n",
            "A value is trying to be set on a copy of a slice from a DataFrame.\n",
            "Try using .loc[row_indexer,col_indexer] = value instead\n",
            "\n",
            "See the caveats in the documentation: https://pandas.pydata.org/pandas-docs/stable/user_guide/indexing.html#returning-a-view-versus-a-copy\n",
            "  \n"
          ]
        }
      ]
    },
    {
      "cell_type": "code",
      "source": [
        "# Change from 1 Dollar to Ruble ---> 1 Ruble to Dollar\n",
        "\n",
        "comm_data['CCUSMA02RUM618N']['CCUSMA02RUM618N'] = 1/comm_data['CCUSMA02RUM618N']['CCUSMA02RUM618N']\n"
      ],
      "metadata": {
        "id": "oMHd5yYACEvR"
      },
      "execution_count": null,
      "outputs": []
    },
    {
      "cell_type": "code",
      "source": [
        "import pathlib\n",
        "from datetime import date\n",
        "\n",
        "date = str(date.today())\n",
        "\n",
        "\n",
        "new_dir = pathlib.Path('/content/Fred_data/', date)\n",
        "new_dir.mkdir(parents=True, exist_ok=True)\n",
        "\n",
        "for data in comm_data:\n",
        "  comm_data[data].to_csv(str(new_dir)+'/'+ data+'.csv', index=False)"
      ],
      "metadata": {
        "id": "wICwYYXL_mRD"
      },
      "execution_count": null,
      "outputs": []
    },
    {
      "cell_type": "markdown",
      "source": [
        "# World Bank data"
      ],
      "metadata": {
        "id": "y5KprgMfu9Hg"
      }
    },
    {
      "cell_type": "code",
      "source": [
        "!pip install wbgapi\n",
        "#designed by Tim Herzog, @tgherzog, for the World Bank's data API"
      ],
      "metadata": {
        "id": "XTP9GB6Bu6yW",
        "colab": {
          "base_uri": "https://localhost:8080/"
        },
        "outputId": "18a6f20d-9ff5-4363-83c3-f561e5ca0f10"
      },
      "execution_count": null,
      "outputs": [
        {
          "output_type": "stream",
          "name": "stdout",
          "text": [
            "Looking in indexes: https://pypi.org/simple, https://us-python.pkg.dev/colab-wheels/public/simple/\n",
            "Requirement already satisfied: wbgapi in /usr/local/lib/python3.7/dist-packages (1.0.12)\n",
            "Requirement already satisfied: tabulate in /usr/local/lib/python3.7/dist-packages (from wbgapi) (0.8.10)\n",
            "Requirement already satisfied: requests in /usr/local/lib/python3.7/dist-packages (from wbgapi) (2.23.0)\n",
            "Requirement already satisfied: PyYAML in /usr/local/lib/python3.7/dist-packages (from wbgapi) (3.13)\n",
            "Requirement already satisfied: chardet<4,>=3.0.2 in /usr/local/lib/python3.7/dist-packages (from requests->wbgapi) (3.0.4)\n",
            "Requirement already satisfied: certifi>=2017.4.17 in /usr/local/lib/python3.7/dist-packages (from requests->wbgapi) (2022.6.15)\n",
            "Requirement already satisfied: idna<3,>=2.5 in /usr/local/lib/python3.7/dist-packages (from requests->wbgapi) (2.10)\n",
            "Requirement already satisfied: urllib3!=1.25.0,!=1.25.1,<1.26,>=1.21.1 in /usr/local/lib/python3.7/dist-packages (from requests->wbgapi) (1.24.3)\n"
          ]
        }
      ]
    },
    {
      "cell_type": "code",
      "source": [
        "import wbgapi as wb\n",
        "import pandas as pd\n",
        "import numpy as np"
      ],
      "metadata": {
        "id": "ymOw3qTeu6pA"
      },
      "execution_count": null,
      "outputs": []
    },
    {
      "cell_type": "code",
      "source": [
        "# source = https://data.worldbank.org\n",
        "\n",
        "code= ['VC.IHR.PSRC.P5', 'SH.ALC.PCAP.LI', 'SI.POV.NAHC','SI.POV.GINI', 'SH.XPD.GHED.PP.CD']\n",
        "name = ['Intentional homicides (per 100,000 people)', 'Total alcohol consumption per capita (liters of pure alcohol, projected estimates, 15+ years of age)', 'Poverty headcount ratio at national poverty lines (% of population)',\n",
        "        'Gini index','Domestic general government health expenditure per capita, PPP (current international $)',]\n",
        "\n",
        "data = wb.data.DataFrame(['VC.IHR.PSRC.P5', 'SH.ALC.PCAP.LI', 'SI.POV.NAHC', 'SI.POV.GINI','SH.XPD.GHED.PP.CD',], 'RUS', mrv=31) # get 31 years # Vladimir Putin first as Prime Minister under Yeltsin then president 1999"
      ],
      "metadata": {
        "id": "0wACSP_au6aG"
      },
      "execution_count": null,
      "outputs": []
    },
    {
      "cell_type": "code",
      "source": [
        "data_wb = data.T.reset_index()"
      ],
      "metadata": {
        "id": "We8s5bYHvHX_"
      },
      "execution_count": null,
      "outputs": []
    },
    {
      "cell_type": "code",
      "source": [
        "data_wb_gdp_growth = wb.data.DataFrame(['NY.GDP.MKTP.KD.ZG'], ['RUS', 'USA', 'CHN'], mrv=26)  #US GDP growth (annual %)"
      ],
      "metadata": {
        "id": "EoQk24k936fO"
      },
      "execution_count": null,
      "outputs": []
    },
    {
      "cell_type": "code",
      "source": [
        "data_wb_gdp_growth = data_wb_gdp_growth.T.reset_index()\n",
        "data_wb_gdp_growth['index']= data_wb_gdp_growth['index'].str.replace('YR', '')"
      ],
      "metadata": {
        "id": "Qlktjez37o_r"
      },
      "execution_count": null,
      "outputs": []
    },
    {
      "cell_type": "code",
      "source": [
        "data_wb_gdp_growth.columns = ['Year', 'China GDP growth (annual %)', 'RUS GDP growth (annual %) ', 'US GDP growth (annual %)']\n"
      ],
      "metadata": {
        "id": "v6tkqv6g5ULC"
      },
      "execution_count": null,
      "outputs": []
    },
    {
      "cell_type": "code",
      "source": [
        "data_wb['index']= data_wb['index'].str.replace('YR', '')"
      ],
      "metadata": {
        "id": "8RHfnUvy4goX"
      },
      "execution_count": null,
      "outputs": []
    },
    {
      "cell_type": "code",
      "source": [
        "#Russia GDP from Fred\n",
        "gdp_rus =comm_data['NYGDPPCAPKDRUS']\n",
        "gdp_rus['date'] = pd.to_datetime(gdp_rus['date']).dt.to_period('Y').astype(str)\n",
        "gdp_rus.rename(columns = {'date':'index', 'value':'NYGDPPCAPKDRUS'}, inplace = True)\n",
        "gdp_rus=gdp_rus[gdp_rus['index']>'1989']\n",
        "gdp_rus"
      ],
      "metadata": {
        "id": "SKgwyXtSvHRx"
      },
      "execution_count": null,
      "outputs": []
    },
    {
      "cell_type": "code",
      "source": [
        "data_wb_gdp = pd.merge(data_wb, gdp_rus, on='index', how='outer')"
      ],
      "metadata": {
        "id": "Jw_8OrgmwH91"
      },
      "execution_count": null,
      "outputs": []
    },
    {
      "cell_type": "code",
      "source": [
        "cols = ['SH.ALC.PCAP.LI', 'SH.XPD.GHED.PP.CD', 'SI.POV.GINI',\n",
        "       'SI.POV.NAHC', 'VC.IHR.PSRC.P5', 'NYGDPPCAPKDRUS']\n",
        "data_wb_gdp[cols] = data_wb_gdp[cols].apply(pd.to_numeric, errors='coerce').fillna(np.nan)"
      ],
      "metadata": {
        "id": "Ow-JhlcXvHOf"
      },
      "execution_count": null,
      "outputs": []
    },
    {
      "cell_type": "code",
      "source": [
        "df_norm = (data_wb_gdp[cols]-data_wb_gdp[cols].min())/ (data_wb_gdp[cols].max() - data_wb_gdp[cols].min())"
      ],
      "metadata": {
        "id": "RKCbqKlRwDdN"
      },
      "execution_count": null,
      "outputs": []
    },
    {
      "cell_type": "code",
      "source": [
        "read_name = {'SH.ALC.PCAP.LI': 'alcohol consumption', \n",
        "'SH.XPD.GHED.PP.CD': 'Health Expenditure',\n",
        "'SI.POV.GINI':'Gini Index',\n",
        "'SI.POV.NAHC': 'Poverty',\n",
        "'VC.IHR.PSRC.P5':'Homicide',\n",
        "'NYGDPPCAPKDRUS': 'GDPperCapita',}"
      ],
      "metadata": {
        "id": "6WNNwYqrv_B8"
      },
      "execution_count": null,
      "outputs": []
    },
    {
      "cell_type": "code",
      "source": [
        "# Normalize data for ease of graphing\n",
        "df_norm = df_norm.rename(columns =read_name)\n"
      ],
      "metadata": {
        "id": "J64RhULIvhop"
      },
      "execution_count": null,
      "outputs": []
    },
    {
      "cell_type": "code",
      "source": [
        "df_norm.insert(0,'Year' ,data_wb_gdp['index'].to_list() )"
      ],
      "metadata": {
        "id": "CCvV3PmqwJoV"
      },
      "execution_count": null,
      "outputs": []
    },
    {
      "cell_type": "code",
      "source": [
        "short = df_norm[df_norm['Year']>'1998']"
      ],
      "metadata": {
        "id": "zu-eYGPZwvGO"
      },
      "execution_count": null,
      "outputs": []
    },
    {
      "cell_type": "code",
      "source": [
        "### save both versions 'as is' and normalized:\n",
        "import pathlib\n",
        "from datetime import date\n",
        "\n",
        "date = str(date.today())\n",
        "\n",
        "\n",
        "new_dir = pathlib.Path('/content/World_Bank/', date)\n",
        "new_dir.mkdir(parents=True, exist_ok=True)\n",
        "\n",
        "short.to_csv(str(new_dir)+'/'+'w_b_normalized.csv', index=False)\n",
        "data_wb.to_csv(str(new_dir)+'/'+'w_bank_data.csv', index=False)\n"
      ],
      "metadata": {
        "id": "SPk4v9LmwQNt"
      },
      "execution_count": null,
      "outputs": []
    },
    {
      "cell_type": "code",
      "source": [
        "data_wb_gdp_growth.to_csv(str(new_dir)+'/'+'w_bank_data_GDP_growth.csv', index=False) "
      ],
      "metadata": {
        "id": "B1l-DzIL_wQS"
      },
      "execution_count": null,
      "outputs": []
    }
  ]
}